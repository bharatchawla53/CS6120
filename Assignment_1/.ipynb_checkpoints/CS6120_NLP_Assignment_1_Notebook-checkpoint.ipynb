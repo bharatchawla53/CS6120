{
 "cells": [
  {
   "cell_type": "markdown",
   "id": "bc97d6da",
   "metadata": {
    "id": "bc97d6da"
   },
   "source": [
    "## CS 6120: Natural Language Processing - Prof. Ahmad Uzair\n",
    "\n",
    "### Assignment 1: Naive Bayes\n",
    "### Total Points: 100 points\n",
    "\n",
    "You will be dealing with movie review data that includes both positive and negative reviews in this assignment. You will use Sentiment Analysis to assess if a given review is positive or negative using the provided dataset.\n",
    "\n",
    "Therefore, we will make use of Naive Bayes algorithm to perform sentiment analysis on the movie review dataset."
   ]
  },
  {
   "cell_type": "code",
   "execution_count": 34,
   "id": "a03450ac",
   "metadata": {
    "id": "a03450ac"
   },
   "outputs": [],
   "source": [
    "## Importing the Libraries\n",
    "import numpy as np\n",
    "import math\n",
    "import pandas as pd\n",
    "import re\n",
    "import nltk\n",
    "from nltk.corpus import stopwords\n",
    "from nltk.stem import PorterStemmer\n",
    "from nltk.stem import WordNetLemmatizer\n",
    "from nltk.tokenize import word_tokenize\n",
    "import warnings\n",
    "import seaborn as sns\n",
    "from sklearn.model_selection import train_test_split\n",
    "from sklearn.metrics import confusion_matrix, ConfusionMatrixDisplay\n",
    "import string\n",
    "import matplotlib.pyplot as plt\n",
    "warnings.filterwarnings(\"ignore\")"
   ]
  },
  {
   "cell_type": "markdown",
   "id": "fc584cc2",
   "metadata": {
    "id": "fc584cc2"
   },
   "source": [
    "## Reading the data\n",
    "\n",
    "When reading the data, ensure that the '.csv' file is in the same location where your jupyter notebook is used. This way the files are organized and easy to read using the pandas library. "
   ]
  },
  {
   "cell_type": "code",
   "execution_count": 2,
   "id": "3c9ffbf5",
   "metadata": {
    "id": "3c9ffbf5"
   },
   "outputs": [],
   "source": [
    "## Reading the data and removing columns that are not important. \n",
    "df = pd.read_csv(\"movie_reviews.csv\", sep = ',', encoding = 'latin-1', usecols = lambda col: col not in [\"Unnamed: 2\", \"Unnamed: 3\", \"Unnamed: 4\"])"
   ]
  },
  {
   "cell_type": "code",
   "execution_count": 3,
   "id": "f7fa8ac0",
   "metadata": {
    "colab": {
     "base_uri": "https://localhost:8080/",
     "height": 206
    },
    "id": "f7fa8ac0",
    "outputId": "69edaf28-1e2e-4ec7-9530-b30a2853ab9e"
   },
   "outputs": [
    {
     "data": {
      "text/html": [
       "<div>\n",
       "<style scoped>\n",
       "    .dataframe tbody tr th:only-of-type {\n",
       "        vertical-align: middle;\n",
       "    }\n",
       "\n",
       "    .dataframe tbody tr th {\n",
       "        vertical-align: top;\n",
       "    }\n",
       "\n",
       "    .dataframe thead th {\n",
       "        text-align: right;\n",
       "    }\n",
       "</style>\n",
       "<table border=\"1\" class=\"dataframe\">\n",
       "  <thead>\n",
       "    <tr style=\"text-align: right;\">\n",
       "      <th></th>\n",
       "      <th>review</th>\n",
       "      <th>sentiment</th>\n",
       "    </tr>\n",
       "  </thead>\n",
       "  <tbody>\n",
       "    <tr>\n",
       "      <th>0</th>\n",
       "      <td>One of the other reviewers has mentioned that ...</td>\n",
       "      <td>positive</td>\n",
       "    </tr>\n",
       "    <tr>\n",
       "      <th>1</th>\n",
       "      <td>A wonderful little production. &lt;br /&gt;&lt;br /&gt;The...</td>\n",
       "      <td>positive</td>\n",
       "    </tr>\n",
       "    <tr>\n",
       "      <th>2</th>\n",
       "      <td>I thought this was a wonderful way to spend ti...</td>\n",
       "      <td>positive</td>\n",
       "    </tr>\n",
       "    <tr>\n",
       "      <th>3</th>\n",
       "      <td>Petter Mattei's \"Love in the Time of Money\" is...</td>\n",
       "      <td>positive</td>\n",
       "    </tr>\n",
       "    <tr>\n",
       "      <th>4</th>\n",
       "      <td>Probably my all-time favorite movie, a story o...</td>\n",
       "      <td>positive</td>\n",
       "    </tr>\n",
       "  </tbody>\n",
       "</table>\n",
       "</div>"
      ],
      "text/plain": [
       "                                              review sentiment\n",
       "0  One of the other reviewers has mentioned that ...  positive\n",
       "1  A wonderful little production. <br /><br />The...  positive\n",
       "2  I thought this was a wonderful way to spend ti...  positive\n",
       "3  Petter Mattei's \"Love in the Time of Money\" is...  positive\n",
       "4  Probably my all-time favorite movie, a story o...  positive"
      ]
     },
     "execution_count": 3,
     "metadata": {},
     "output_type": "execute_result"
    }
   ],
   "source": [
    "# print head of data frame with help of head function\n",
    "df.head()"
   ]
  },
  {
   "cell_type": "markdown",
   "id": "1749da04",
   "metadata": {
    "id": "1749da04"
   },
   "source": [
    "## Count plot of the output categories: positive or negative\n",
    "\n",
    "Feel free to take a look at the output and whether the classes are balanced or imbalanced. "
   ]
  },
  {
   "cell_type": "code",
   "execution_count": 4,
   "id": "c152e8a4",
   "metadata": {
    "colab": {
     "base_uri": "https://localhost:8080/",
     "height": 515
    },
    "id": "c152e8a4",
    "outputId": "a2ba0476-3238-4511-fcf0-780508493f48"
   },
   "outputs": [
    {
     "data": {
      "image/png": "[encoded data removed]",
      "text/plain": [
       "<Figure size 640x480 with 1 Axes>"
      ]
     },
     "metadata": {},
     "output_type": "display_data"
    }
   ],
   "source": [
    "# plots the sentiment counts\n",
    "plt.figure(figsize = None)\n",
    "sns.countplot(x = 'sentiment', data = df)\n",
    "plt.title(\"Positive Vs. Negative reviews count\", fontsize = 15)\n",
    "plt.show()\n"
   ]
  },
  {
   "cell_type": "markdown",
   "id": "9b8549f2",
   "metadata": {
    "id": "9b8549f2"
   },
   "source": [
    "## Upsampling the minority class: (5 points)\n",
    "\n",
    "It is known that Naive bayes is not robust to class imbalance. It could be seen above that the data is little imbalanced. Therefore, class balancing can be done before giving it to the Naive Bayes model for prediction. \n",
    "\n",
    "Feel free to use 'resample' library from sklearn. "
   ]
  },
  {
   "cell_type": "code",
   "execution_count": 5,
   "id": "yHJTAqrW7XMN",
   "metadata": {
    "id": "yHJTAqrW7XMN"
   },
   "outputs": [],
   "source": [
    "# hint: use resample from sklearn.utils\n",
    "from sklearn.utils import resample\n",
    "\n",
    "df_majority = df.loc[df['sentiment'] == 'positive']\n",
    "df_minority = df.loc[df['sentiment'] == 'negative']\n",
    "\n",
    "negative_upsample = resample(df_minority, replace = True, \n",
    "                        n_samples = df_majority.shape[0],\n",
    "                        random_state = 101)\n",
    "\n",
    "# concat two data frames i,e majority class data set and upsampled minority class data set\n",
    "df_upsampled = pd.concat([df_majority, negative_upsample])\n",
    "df_upsampled = df_upsampled.sample(frac = 1)"
   ]
  },
  {
   "cell_type": "code",
   "execution_count": 6,
   "id": "6a9329bb",
   "metadata": {
    "id": "6a9329bb"
   },
   "outputs": [
    {
     "name": "stdout",
     "output_type": "stream",
     "text": [
      "(12474, 2)\n"
     ]
    }
   ],
   "source": [
    "## Just to ensure that upsampling was done successfully, take a look at the shape of the data in \n",
    "## this cell.\n",
    "\n",
    "# print the shape of data set with the help of shape function having \"negative\" as class label\n",
    "print(df_upsampled[df_upsampled['sentiment'] == 'negative'].shape)"
   ]
  },
  {
   "cell_type": "markdown",
   "id": "6f8bf6e7",
   "metadata": {
    "id": "6f8bf6e7"
   },
   "source": [
    "### Expected Output : \n",
    "(12474, 2)"
   ]
  },
  {
   "cell_type": "code",
   "execution_count": 7,
   "id": "bdea8155",
   "metadata": {
    "colab": {
     "base_uri": "https://localhost:8080/"
    },
    "id": "bdea8155",
    "outputId": "c665c4b9-826e-4f4e-e30e-06e0935a0622"
   },
   "outputs": [
    {
     "name": "stdout",
     "output_type": "stream",
     "text": [
      "(12474, 2)\n"
     ]
    }
   ],
   "source": [
    "## Ensure that the same number of data points are present for both 'positive' and 'negative' data\n",
    "\n",
    "# print the shape of data set with the help of shape function having \"positive\" as class label\n",
    "print(df_upsampled[df_upsampled['sentiment'] == 'positive'].shape)"
   ]
  },
  {
   "cell_type": "markdown",
   "id": "626f01d5",
   "metadata": {
    "id": "626f01d5"
   },
   "source": [
    "### Expected Output : \n",
    "(12474, 2)"
   ]
  },
  {
   "cell_type": "code",
   "execution_count": 8,
   "id": "NoW5z6SzAeP8",
   "metadata": {
    "id": "NoW5z6SzAeP8"
   },
   "outputs": [],
   "source": [
    "## In this cell, we are going to be dividing the data into train and test points\n",
    "## Ensure that you store the upsampled data in a variable called 'df_upsampled' \n",
    "## so that the below operations are performed successfully\n",
    "\n",
    "\n",
    "## Considering 10000 positive and 10000 negative data points\n",
    "negative_data_points_train = df_upsampled[df_upsampled['sentiment'] == 'negative'].iloc[:10000]\n",
    "positive_data_points_train = df_upsampled[df_upsampled['sentiment'] == 'positive'].iloc[:10000]\n",
    "\n",
    "## Considering the remaining data points for test\n",
    "negative_data_points_test = df_upsampled[df_upsampled['sentiment'] == 'negative'].iloc[10000:]\n",
    "positive_data_points_test = df_upsampled[df_upsampled['sentiment'] == 'positive'].iloc[10000:]\n",
    "\n",
    "## Concatenate the training positive and negative reviews\n",
    "X_train = pd.concat([positive_data_points_train['review'], negative_data_points_train['review']])\n",
    "## Concatenating the training positive and negative outputs\n",
    "y_train = pd.concat([positive_data_points_train['sentiment'], negative_data_points_train['sentiment']])\n",
    "\n",
    "## Concatenating the test positive and negative reviews\n",
    "X_test = pd.concat([positive_data_points_test['review'], negative_data_points_test['review']])\n",
    "## Concatenating the test positive and negative outputs\n",
    "y_test = pd.concat([positive_data_points_test['sentiment'], negative_data_points_test['sentiment']])\n"
   ]
  },
  {
   "cell_type": "code",
   "execution_count": 9,
   "id": "6428047d",
   "metadata": {
    "colab": {
     "base_uri": "https://localhost:8080/"
    },
    "id": "6428047d",
    "outputId": "10d10601-0ce0-4688-c4d3-75fa386583fd"
   },
   "outputs": [
    {
     "name": "stdout",
     "output_type": "stream",
     "text": [
      "positive    10000\n",
      "negative    10000\n",
      "Name: sentiment, dtype: int64\n"
     ]
    }
   ],
   "source": [
    "## Take a look at the total number of classes and their count using '.value_counts()' for y_train and y_test.\n",
    "## Ensure that there are equal number of positive and negative reviews. \n",
    "\n",
    "print(y_train.value_counts())"
   ]
  },
  {
   "cell_type": "markdown",
   "id": "7dfe6517",
   "metadata": {
    "id": "7dfe6517"
   },
   "source": [
    "### Expected Output:\n",
    "negative    10000<br>\n",
    "positive    10000<br>\n",
    "Name: sentiment, dtype: int64"
   ]
  },
  {
   "cell_type": "code",
   "execution_count": 10,
   "id": "2beae1d6",
   "metadata": {
    "colab": {
     "base_uri": "https://localhost:8080/"
    },
    "id": "2beae1d6",
    "outputId": "6896f930-6a1a-45db-b74c-d080c9aedd0c"
   },
   "outputs": [
    {
     "name": "stdout",
     "output_type": "stream",
     "text": [
      "positive    2474\n",
      "negative    2474\n",
      "Name: sentiment, dtype: int64\n"
     ]
    }
   ],
   "source": [
    "print(y_test.value_counts())"
   ]
  },
  {
   "cell_type": "markdown",
   "id": "9163f897",
   "metadata": {
    "id": "9163f897"
   },
   "source": [
    "### Expected Output : \n",
    "negative    2474<br>\n",
    "positive    2474<br>\n",
    "Name: sentiment, dtype: int64"
   ]
  },
  {
   "cell_type": "markdown",
   "id": "6501699b",
   "metadata": {
    "id": "6501699b"
   },
   "source": [
    "## Q1. Pre-process the reviews: (10 points)\n",
    "\n",
    "We know that a review contains links, punctuation, stopwords and many other words that don't give a lot of meaning for the Naive Bayes model for prediction. \n",
    "\n",
    "In the cell below, one must implement text-preprocessing and remove links, punctuations and stopwords. It is also important to lowercase the letters so that 'Admire' and 'admire' are not treated as different words. \n",
    "\n",
    "In addition to this, perform stemming operation so that similar words are reduced. To know more about stemming, feel free to take a look at this link.\n",
    "\n",
    "https://nlp.stanford.edu/IR-book/html/htmledition/stemming-and-lemmatization-1.html"
   ]
  },
  {
   "cell_type": "code",
   "execution_count": 11,
   "id": "CirLN9-ddQ1r",
   "metadata": {
    "id": "CirLN9-ddQ1r"
   },
   "outputs": [],
   "source": [
    "# TASK CELL\n",
    "\n",
    "def clean_review(review):\n",
    "    '''\n",
    "    Input:\n",
    "        review: a string containing a review.\n",
    "    Output:\n",
    "        review_cleaned: a processed review. \n",
    "\n",
    "    '''   \n",
    "    # convert to lowercase\n",
    "    review = review.lower()\n",
    "    \n",
    "    # remove links i.e. <br> tags\n",
    "    review = re.sub(\"<br />\", \" \", review)\n",
    "    \n",
    "    # remove punctuations\n",
    "    review = review.translate(str.maketrans('', '', string.punctuation))\n",
    "    \n",
    "    # remove stopwords\n",
    "    word_tokens = word_tokenize(review)\n",
    "    stop_words = set(stopwords.words('english'))\n",
    "    word_tokens_without_sw = [word for word in word_tokens if not word in stop_words]\n",
    "    \n",
    "    # concatenate word tokens without sw to form a sentence\n",
    "    filtered_words = (\" \").join(word_tokens_without_sw)\n",
    "    \n",
    "    # stemming operation\n",
    "    word_tokens = word_tokenize(filtered_words)\n",
    "    lemmatizer = WordNetLemmatizer()\n",
    "    singles = [lemmatizer.lemmatize(word) for word in word_tokens]\n",
    "    \n",
    "    # concatenate word tokens back to form a sentence\n",
    "    review_cleaned = (\" \").join(singles)\n",
    "    \n",
    "    return review_cleaned"
   ]
  },
  {
   "cell_type": "markdown",
   "id": "a7632fe5",
   "metadata": {
    "id": "a7632fe5"
   },
   "source": [
    "## Q2. Implement a find_occurrence function (5 points):\n",
    "\n",
    "In this function, we find the total occurrence of a word giving information such as label, word and frequency dictionary.\n",
    "\n",
    "Note that this function is used later in the code when we are going to be predicting the output using Naive Bayes. "
   ]
  },
  {
   "cell_type": "code",
   "execution_count": 12,
   "id": "eb282b81",
   "metadata": {
    "id": "eb282b81"
   },
   "outputs": [],
   "source": [
    "# TASK CELL\n",
    "def find_occurrence(frequency, word, label):\n",
    "    '''\n",
    "    Params:\n",
    "        frequency: a dictionary with the frequency of each pair (or tuple)\n",
    "        word: the word to look up\n",
    "        label: the label corresponding to the word\n",
    "    Return:\n",
    "        n: the number of times the word with its corresponding label appears.\n",
    "    '''\n",
    "    \n",
    "    # given the word and label, it finds the frequency else returns 0\n",
    "    return frequency.get((word, label), 0); "
   ]
  },
  {
   "cell_type": "markdown",
   "id": "29a2249d",
   "metadata": {
    "id": "29a2249d"
   },
   "source": [
    "### Converting output to numerical format:\n",
    "\n",
    "We have outputs as 'positive' or 'negative'. In the cell below, we convert it to a numerical format. "
   ]
  },
  {
   "cell_type": "code",
   "execution_count": 13,
   "id": "bcdc2b2c",
   "metadata": {
    "id": "bcdc2b2c"
   },
   "outputs": [],
   "source": [
    "# With the use of mapping function, we replace the label in the form of string to an integer. \n",
    "\n",
    "output_map = {'positive': 0, 'negative': 1}\n",
    "y_train = y_train.map(output_map)\n",
    "y_test = y_test.map(output_map)"
   ]
  },
  {
   "cell_type": "code",
   "execution_count": 14,
   "id": "3dde0bbd",
   "metadata": {
    "colab": {
     "base_uri": "https://localhost:8080/"
    },
    "id": "3dde0bbd",
    "outputId": "223dfbc1-8efe-4183-b6d7-c9cb025cb285"
   },
   "outputs": [
    {
     "data": {
      "text/plain": [
       "0    10000\n",
       "1    10000\n",
       "Name: sentiment, dtype: int64"
      ]
     },
     "execution_count": 14,
     "metadata": {},
     "output_type": "execute_result"
    }
   ],
   "source": [
    "# Ensuring that there are equal number of classes on the training data. \n",
    "y_train.value_counts()"
   ]
  },
  {
   "cell_type": "code",
   "execution_count": 15,
   "id": "f2959b85",
   "metadata": {
    "colab": {
     "base_uri": "https://localhost:8080/",
     "height": 178
    },
    "id": "f2959b85",
    "outputId": "e514214b-cd57-43fc-875d-1821ddab63f8"
   },
   "outputs": [
    {
     "data": {
      "text/plain": [
       "'\"Silverlake Life\" is a documentary and it was plain and straightforward. Actually, it was more like a home movie, and if you want dramatic illuminations, see something else. And it\\'s by no means a tearjerker. But I mean that in positive ways. It shows two men who love each other and how being afflicted with AIDS is affecting the quality of their every-day lives. It\\'s almost difficult for me to say whether this was a quality film or not, because it was so undressed that I had to look for other ways to respond. It\\'s an admirable film, actually one of the most admirable, sincere documents I\\'ve ever seen. These two men have incredible integrity as their lives are reduced to the most basic parts. It makes Hollow-wood productions on AIDS seem hip and heartless. These men made this movie for themselves, which is one of the best reasons to create something. The scene where Tom sings \"You are My Sunshine\" to Mark and tells him goodbye is the real thing.'"
      ]
     },
     "execution_count": 15,
     "metadata": {},
     "output_type": "execute_result"
    }
   ],
   "source": [
    "## Choosing a random review and taking a look at it.\n",
    "X_train.iloc[0]"
   ]
  },
  {
   "cell_type": "markdown",
   "id": "ed5e43c9",
   "metadata": {
    "id": "ed5e43c9"
   },
   "source": [
    "From the above cell output, it could be seen that there are a lot of words that don't add a lot of meaning to the text. \n",
    "\n",
    "Therefore, those words would be removed. It also reduces the computation time. \n",
    "\n",
    "Therefore, it is a good practice we are following."
   ]
  },
  {
   "cell_type": "code",
   "execution_count": 16,
   "id": "ad3937ea",
   "metadata": {
    "colab": {
     "base_uri": "https://localhost:8080/"
    },
    "id": "ad3937ea",
    "outputId": "68985efe-32cd-4c11-ed5b-2e1e1b297e73"
   },
   "outputs": [
    {
     "name": "stdout",
     "output_type": "stream",
     "text": [
      "silverlake life documentary plain straightforward actually like home movie want dramatic illumination see something else mean tearjerker mean positive way show two men love afflicted aid affecting quality everyday life almost difficult say whether quality film undressed look way respond admirable film actually one admirable sincere document ive ever seen two men incredible integrity life reduced basic part make hollowwood production aid seem hip heartless men made movie one best reason create something scene tom sings sunshine mark tell goodbye real thing\n"
     ]
    }
   ],
   "source": [
    "custom_review = X_train.iloc[0]\n",
    "\n",
    "# print cleaned review\n",
    "print(clean_review(custom_review))"
   ]
  },
  {
   "cell_type": "markdown",
   "id": "3e6cc440",
   "metadata": {
    "id": "3e6cc440"
   },
   "source": [
    "We now use this function to pre-process the review and remove words that don't add a lot of meaning in our model. "
   ]
  },
  {
   "cell_type": "markdown",
   "id": "5a762960",
   "metadata": {
    "id": "5a762960"
   },
   "source": [
    "## Q3. Implementing review counter function: (5 points)\n",
    "\n",
    "It is now time to implement the count function for the reviews. \n",
    "\n",
    "In this function, we count the occurrence of words and get the probabilities \n",
    "for the words based on the training data. \n",
    "\n",
    "In other words, we get the probability of occurrence of a word, given that the output is 'positive'.\n",
    "\n",
    "Similarly, we also compute the probability of occurence of a word, given that the output is 'negative'.\n",
    "\n"
   ]
  },
  {
   "cell_type": "code",
   "execution_count": 17,
   "id": "5de61f77",
   "metadata": {
    "id": "5de61f77"
   },
   "outputs": [],
   "source": [
    "# TASK CELL\n",
    "def review_counter(output_occurrence, reviews, positive_or_negative):\n",
    "    '''\n",
    "    Params:\n",
    "        output_occurrence: a dictionary that will be used to map each pair to its frequency\n",
    "        reviews: a list of reviews\n",
    "        positive_or_negative: a list corresponding to the sentiment of each review (either 0 or 1)\n",
    "    Return:\n",
    "        output: a dictionary mapping each pair to its frequency\n",
    "    '''\n",
    "    ## Steps :\n",
    "    # define the key, which is the word and label tuple\n",
    "    # if the key exists in the dictionary, increment the count\n",
    "    # else, if the key is new, add it to the dictionary and set the count to 1\n",
    "    \n",
    "    for label, review in zip(positive_or_negative, reviews):\n",
    "        # clean up the review\n",
    "        split_review = clean_review(review).split()\n",
    "        for word in split_review:\n",
    "            # Your code here\n",
    "            key = (word, label)\n",
    "            if key in output_occurrence:\n",
    "                output_occurrence[key] = output_occurrence.get(key) + 1\n",
    "            else:\n",
    "                output_occurrence[key] = 1\n",
    "   \n",
    "    return output_occurrence"
   ]
  },
  {
   "cell_type": "markdown",
   "id": "18238223",
   "metadata": {
    "id": "18238223"
   },
   "source": [
    "### Test your function with example reviews:\n",
    "\n",
    "Feel free to run the cell below and understand whether the above function that you have defined is producing the optimum results. "
   ]
  },
  {
   "cell_type": "code",
   "execution_count": 18,
   "id": "07a4c58a",
   "metadata": {
    "colab": {
     "base_uri": "https://localhost:8080/"
    },
    "id": "07a4c58a",
    "outputId": "dd9e148a-34a9-4cfe-9077-c5de33493d7a"
   },
   "outputs": [
    {
     "data": {
      "text/plain": [
       "{('got', 1): 1,\n",
       " ('bored', 1): 2,\n",
       " ('throught', 1): 1,\n",
       " ('moview', 1): 1,\n",
       " ('movie', 0): 2,\n",
       " ('fantastic', 0): 1,\n",
       " ('watch', 1): 1,\n",
       " ('complete', 1): 1,\n",
       " ('waste', 1): 1,\n",
       " ('time', 1): 1,\n",
       " ('money', 1): 1,\n",
       " ('enjoyed', 0): 1,\n",
       " ('fullest', 0): 1}"
      ]
     },
     "execution_count": 18,
     "metadata": {},
     "output_type": "execute_result"
    }
   ],
   "source": [
    "# Testing your function\n",
    "\n",
    "result = {}\n",
    "reviews = ['got bored throught the moview', 'The movie was fantastic', 'Will not watch it again', 'Was bored, it was a complete waste of time and money', 'Enjoyed the movie to the fullest']\n",
    "ys = [1, 0, 1, 1, 0]\n",
    "review_counter(result,reviews, ys)"
   ]
  },
  {
   "cell_type": "markdown",
   "id": "927f89bb",
   "metadata": {
    "id": "927f89bb"
   },
   "source": [
    "### Expected Output:\n",
    " {('bored', 1): 2, <br>\n",
    " ('complete', 1): 1, <br>\n",
    " ('enjoyed', 0): 1, <br>\n",
    " ('fantastic', 0): 1, <br>\n",
    " ('fullest', 0): 1, <br>\n",
    " ('got', 1): 1, <br>\n",
    " ('money', 1): 1, <br>\n",
    " ('movie', 0): 2, <br>\n",
    " ('moview', 1): 1, <br>\n",
    " ('throught', 1): 1, <br>\n",
    " ('time', 1): 1, <br>\n",
    " ('waste', 1): 1, <br>\n",
    " ('watch', 1): 1}"
   ]
  },
  {
   "cell_type": "code",
   "execution_count": 19,
   "id": "9bc62e13",
   "metadata": {
    "id": "9bc62e13"
   },
   "outputs": [],
   "source": [
    "# Build the freqs dictionary for later uses\n",
    "\n",
    "freqs = review_counter({}, X_train, y_train)"
   ]
  },
  {
   "cell_type": "code",
   "execution_count": 20,
   "id": "0eddf420",
   "metadata": {
    "id": "0eddf420",
    "scrolled": true
   },
   "outputs": [
    {
     "data": {
      "text/plain": [
       "{('silverlake', 0): 2,\n",
       " ('life', 0): 3704,\n",
       " ('documentary', 0): 530,\n",
       " ('plain', 0): 158,\n",
       " ('straightforward', 0): 48,\n",
       " ('actually', 0): 1382,\n",
       " ('like', 0): 7111,\n",
       " ('home', 0): 862,\n",
       " ('movie', 0): 17746,\n",
       " ('want', 0): 1718,\n",
       " ('dramatic', 0): 262,\n",
       " ('illumination', 0): 10,\n",
       " ('see', 0): 5024,\n",
       " ('something', 0): 1633,\n",
       " ('else', 0): 597,\n",
       " ('mean', 0): 726,\n",
       " ('tearjerker', 0): 16,\n",
       " ('positive', 0): 134,\n",
       " ('way', 0): 3498,\n",
       " ('show', 0): 3769,\n",
       " ('two', 0): 2801,\n",
       " ('men', 0): 833,\n",
       " ('love', 0): 3578,\n",
       " ('afflicted', 0): 6,\n",
       " ('aid', 0): 94,\n",
       " ('affecting', 0): 31,\n",
       " ('quality', 0): 534,\n",
       " ('everyday', 0): 98,\n",
       " ('almost', 0): 1247,\n",
       " ('difficult', 0): 330,\n",
       " ('say', 0): 2280,\n",
       " ('whether', 0): 352,\n",
       " ('film', 0): 19667,\n",
       " ('undressed', 0): 4,\n",
       " ('look', 0): 2145,\n",
       " ('respond', 0): 26,\n",
       " ('admirable', 0): 26,\n",
       " ('one', 0): 10939,\n",
       " ('sincere', 0): 42,\n",
       " ('document', 0): 45,\n",
       " ('ive', 0): 1247,\n",
       " ('ever', 0): 2117,\n",
       " ('seen', 0): 2707,\n",
       " ('incredible', 0): 297,\n",
       " ('integrity', 0): 38,\n",
       " ('reduced', 0): 26,\n",
       " ('basic', 0): 184,\n",
       " ('part', 0): 2052,\n",
       " ('make', 0): 4355,\n",
       " ('hollowwood', 0): 1,\n",
       " ('production', 0): 759,\n",
       " ('seem', 0): 785,\n",
       " ('hip', 0): 37,\n",
       " ('heartless', 0): 14,\n",
       " ('made', 0): 2902,\n",
       " ('best', 0): 3374,\n",
       " ('reason', 0): 796,\n",
       " ('create', 0): 238,\n",
       " ('scene', 0): 4033,\n",
       " ('tom', 0): 310,\n",
       " ('sings', 0): 94,\n",
       " ('sunshine', 0): 40,\n",
       " ('mark', 0): 343,\n",
       " ('tell', 0): 1000,\n",
       " ('goodbye', 0): 33,\n",
       " ('real', 0): 1971,\n",
       " ('thing', 0): 2736,\n",
       " ('havent', 0): 337,\n",
       " ('20yrs', 0): 1,\n",
       " ('still', 0): 2583,\n",
       " ('remember', 0): 718,\n",
       " ('could', 0): 2392,\n",
       " ('color', 0): 263,\n",
       " ('stark', 0): 58,\n",
       " ('gray', 0): 42,\n",
       " ('really', 0): 4263,\n",
       " ('simple', 0): 559,\n",
       " ('1950s', 0): 107,\n",
       " ('stand', 0): 474,\n",
       " ('memory', 0): 311,\n",
       " ('perry', 0): 43,\n",
       " ('smith', 0): 228,\n",
       " ('going', 0): 1375,\n",
       " ('gallows', 0): 10,\n",
       " ('breathing', 0): 20,\n",
       " ('hood', 0): 79,\n",
       " ('sprung', 0): 4,\n",
       " ('trap', 0): 85,\n",
       " ('dont', 0): 2671,\n",
       " ('think', 0): 3016,\n",
       " ('watch', 0): 2702,\n",
       " ('againonce', 0): 1,\n",
       " ('plenty', 0): 269,\n",
       " ('unnamed', 0): 17,\n",
       " ('guy', 0): 1406,\n",
       " ('beginning', 0): 599,\n",
       " ('papillon', 0): 4,\n",
       " ('dragged', 0): 25,\n",
       " ('terror', 0): 102,\n",
       " ('guillotine', 0): 11,\n",
       " ('said', 0): 774,\n",
       " ('double', 0): 131,\n",
       " ('bill', 0): 355,\n",
       " ('dead', 0): 597,\n",
       " ('man', 0): 2422,\n",
       " ('walking', 0): 105,\n",
       " ('added', 0): 208,\n",
       " ('last', 0): 1225,\n",
       " ('10', 0): 794,\n",
       " ('minute', 0): 872,\n",
       " ('live', 0): 731,\n",
       " ('well', 0): 4643,\n",
       " ('ancestor', 0): 13,\n",
       " ('aristos', 0): 1,\n",
       " ('went', 0): 498,\n",
       " ('179495', 0): 1,\n",
       " ('feeling', 0): 723,\n",
       " ('death', 0): 927,\n",
       " ('penalty', 0): 17,\n",
       " ('rather', 0): 1050,\n",
       " ('intense', 0): 215,\n",
       " ('waiting', 0): 193,\n",
       " ('many', 0): 2979,\n",
       " ('year', 0): 2918,\n",
       " ('vision', 0): 148,\n",
       " ('must', 0): 1308,\n",
       " ('tenacious', 0): 15,\n",
       " ('true', 0): 1115,\n",
       " ('jack', 0): 393,\n",
       " ('black', 0): 824,\n",
       " ('fan', 0): 1376,\n",
       " ('great', 0): 5075,\n",
       " ('jb', 0): 6,\n",
       " ('kg', 0): 4,\n",
       " ('lee', 0): 244,\n",
       " ('big', 0): 1402,\n",
       " ('screen', 0): 1070,\n",
       " ('story', 0): 5511,\n",
       " ('care', 0): 504,\n",
       " ('greatest', 0): 412,\n",
       " ('band', 0): 284,\n",
       " ('earth', 0): 300,\n",
       " ('soundtrack', 0): 430,\n",
       " ('week', 0): 272,\n",
       " ('listened', 0): 13,\n",
       " ('nonstop', 0): 44,\n",
       " ('pure', 0): 249,\n",
       " ('bliss', 0): 23,\n",
       " ('hubby', 0): 7,\n",
       " ('weve', 0): 110,\n",
       " ('met', 0): 140,\n",
       " ('kyle', 0): 56,\n",
       " ('2', 0): 642,\n",
       " ('different', 0): 1190,\n",
       " ('concert', 0): 116,\n",
       " ('also', 0): 4236,\n",
       " ('saw', 0): 1381,\n",
       " ('toured', 0): 3,\n",
       " ('weezer', 0): 1,\n",
       " ('left', 0): 696,\n",
       " ('done', 0): 1205,\n",
       " ('playing', 0): 659,\n",
       " ('nobody', 0): 173,\n",
       " ('top', 0): 753,\n",
       " ('long', 0): 1337,\n",
       " ('ted', 0): 101,\n",
       " ('bogus', 0): 20,\n",
       " ('journey', 0): 246,\n",
       " ('sequel', 0): 276,\n",
       " ('excellent', 0): 1323,\n",
       " ('adventure', 0): 371,\n",
       " ('follower', 0): 24,\n",
       " ('directly', 0): 72,\n",
       " ('first', 0): 3547,\n",
       " ('good', 0): 5828,\n",
       " ('job', 0): 1144,\n",
       " ('better', 0): 1843,\n",
       " ('entertain', 0): 70,\n",
       " ('viewer', 0): 879,\n",
       " ('plot', 0): 1931,\n",
       " ('evil', 0): 492,\n",
       " ('person', 0): 650,\n",
       " ('future', 0): 394,\n",
       " ('trying', 0): 752,\n",
       " ('kill', 0): 500,\n",
       " ('using', 0): 267,\n",
       " ('robot', 0): 91,\n",
       " ('exactly', 0): 383,\n",
       " ('compete', 0): 25,\n",
       " ('grim', 0): 90,\n",
       " ('reaper', 0): 7,\n",
       " ('return', 0): 466,\n",
       " ('normal', 0): 201,\n",
       " ('acting', 0): 1937,\n",
       " ('notch', 0): 91,\n",
       " ('even', 0): 3708,\n",
       " ('thought', 0): 1361,\n",
       " ('little', 0): 2636,\n",
       " ('weird', 0): 223,\n",
       " ('time', 0): 6229,\n",
       " ('especially', 0): 1226,\n",
       " ('conversation', 0): 149,\n",
       " ('wannabe', 0): 22,\n",
       " ('rocker', 0): 19,\n",
       " ('sure', 0): 984,\n",
       " ('another', 0): 1608,\n",
       " ('pick', 0): 241,\n",
       " ('next', 0): 628,\n",
       " ('blockbuster', 0): 74,\n",
       " ('know', 0): 2618,\n",
       " ('isnt', 0): 998,\n",
       " ('everyone', 0): 904,\n",
       " ('wont', 0): 523,\n",
       " ('push', 0): 73,\n",
       " ('opinion', 0): 441,\n",
       " ('truth', 0): 336,\n",
       " ('people', 0): 3451,\n",
       " ('feel', 0): 1553,\n",
       " ('movieit', 0): 8,\n",
       " ('soooooooooooooooooo', 0): 1,\n",
       " ('funny', 0): 1609,\n",
       " ('though', 0): 1804,\n",
       " ('wasnt', 0): 637,\n",
       " ('scariest', 0): 37,\n",
       " ('kept', 0): 290,\n",
       " ('edge', 0): 242,\n",
       " ('seat', 0): 145,\n",
       " ('didnt', 0): 1345,\n",
       " ('gon', 0): 66,\n",
       " ('na', 0): 117,\n",
       " ('happen', 0): 394,\n",
       " ('scary', 0): 280,\n",
       " ('got', 0): 1273,\n",
       " ('totally', 0): 462,\n",
       " ('surprised', 0): 405,\n",
       " ('mildly', 0): 20,\n",
       " ('amused', 0): 20,\n",
       " ('however', 0): 1376,\n",
       " ('disappointed', 0): 277,\n",
       " ('donald', 0): 96,\n",
       " ('oconnor', 0): 12,\n",
       " ('given', 0): 656,\n",
       " ('bigger', 0): 109,\n",
       " ('role', 0): 1942,\n",
       " ('enormous', 0): 49,\n",
       " ('talent', 0): 421,\n",
       " ('chemistry', 0): 211,\n",
       " ('among', 0): 399,\n",
       " ('main', 0): 818,\n",
       " ('cast', 0): 1655,\n",
       " ('member', 0): 335,\n",
       " ('matthau', 0): 87,\n",
       " ('never', 0): 2535,\n",
       " ('funnier', 0): 63,\n",
       " ('tremendously', 0): 32,\n",
       " ('glad', 0): 222,\n",
       " ('picture', 0): 856,\n",
       " ('get', 0): 4385,\n",
       " ('lemmon', 0): 56,\n",
       " ('team', 0): 366,\n",
       " ('vehicle', 0): 96,\n",
       " ('put', 0): 1088,\n",
       " ('use', 0): 694,\n",
       " ('brent', 0): 15,\n",
       " ('spiner', 0): 4,\n",
       " ('prof', 0): 174,\n",
       " ('data', 0): 11,\n",
       " ('star', 0): 1373,\n",
       " ('trek', 0): 110,\n",
       " ('geeration', 0): 1,\n",
       " ('character', 0): 5532,\n",
       " ('play', 0): 2101,\n",
       " ('storyline', 0): 255,\n",
       " ('quite', 0): 1655,\n",
       " ('comedy', 0): 1516,\n",
       " ('work', 0): 2355,\n",
       " ('laughed', 0): 139,\n",
       " ('heartily', 0): 17,\n",
       " ('throughout', 0): 581,\n",
       " ('highly', 0): 650,\n",
       " ('recommend', 0): 870,\n",
       " ('reaction', 0): 155,\n",
       " ('remake', 0): 202,\n",
       " ('italian', 0): 261,\n",
       " ('probably', 0): 1084,\n",
       " ('hopelessly', 0): 17,\n",
       " ('mixed', 0): 119,\n",
       " ('event', 0): 570,\n",
       " ('occurring', 0): 14,\n",
       " ('landed', 0): 21,\n",
       " ('8', 0): 240,\n",
       " ('month', 0): 170,\n",
       " ('unemployment', 0): 4,\n",
       " ('back', 0): 1919,\n",
       " ('school', 0): 652,\n",
       " ('retraining', 0): 1,\n",
       " ('money', 0): 512,\n",
       " ('tight', 0): 84,\n",
       " ('longer', 0): 193,\n",
       " ('choose', 0): 101,\n",
       " ('seeing', 0): 834,\n",
       " ('theater', 0): 384,\n",
       " ('paying', 0): 47,\n",
       " ('eating', 0): 85,\n",
       " ('lunch', 0): 23,\n",
       " ('sense', 0): 802,\n",
       " ('relief', 0): 115,\n",
       " ('gratitude', 0): 12,\n",
       " ('consequence', 0): 99,\n",
       " ('enjoyment', 0): 58,\n",
       " ('far', 0): 980,\n",
       " ('proportion', 0): 26,\n",
       " ('actual', 0): 290,\n",
       " ('worth', 0): 996,\n",
       " ('picked', 0): 123,\n",
       " ('used', 0): 774,\n",
       " ('dvd', 0): 1234,\n",
       " ('ago', 0): 464,\n",
       " ('watched', 0): 880,\n",
       " ('enjoyed', 0): 695,\n",
       " ('immensely', 0): 56,\n",
       " ('original', 0): 1098,\n",
       " ('heard', 0): 428,\n",
       " ('absolute', 0): 123,\n",
       " ('classic', 0): 1080,\n",
       " ('modern', 0): 413,\n",
       " ('day', 0): 1653,\n",
       " ('counterpart', 0): 40,\n",
       " ('eminently', 0): 8,\n",
       " ('watchable', 0): 78,\n",
       " ('taste', 0): 206,\n",
       " ('value', 0): 337,\n",
       " ('applied', 0): 29,\n",
       " ('older', 0): 276,\n",
       " ('theme', 0): 560,\n",
       " ('initially', 0): 89,\n",
       " ('imo', 0): 20,\n",
       " ('davis', 0): 182,\n",
       " ('writes', 0): 34,\n",
       " ('supple', 0): 1,\n",
       " ('textured', 0): 7,\n",
       " ('aurally', 0): 4,\n",
       " ('pleasing', 0): 30,\n",
       " ('around', 0): 1275,\n",
       " ('ij', 0): 1,\n",
       " ('open', 0): 367,\n",
       " ('sly', 0): 18,\n",
       " ('witty', 0): 138,\n",
       " ('pulsing', 0): 5,\n",
       " ('arrangement', 0): 23,\n",
       " ('combine', 0): 68,\n",
       " ('string', 0): 78,\n",
       " ('guitar', 0): 39,\n",
       " ('harmonic', 0): 4,\n",
       " ('brush', 0): 16,\n",
       " ('quiet', 0): 144,\n",
       " ('moment', 0): 1146,\n",
       " ('completely', 0): 603,\n",
       " ('opening', 0): 419,\n",
       " ('second', 0): 857,\n",
       " ('whole', 0): 1025,\n",
       " ('kind', 0): 1062,\n",
       " ('ringing', 0): 10,\n",
       " ('chiming', 0): 1,\n",
       " ('music', 0): 1556,\n",
       " ('since', 0): 1197,\n",
       " ('stewart', 0): 251,\n",
       " ('copeland', 0): 5,\n",
       " ('police', 0): 444,\n",
       " ('started', 0): 345,\n",
       " ('rumble', 0): 26,\n",
       " ('fish', 0): 70,\n",
       " ('least', 0): 841,\n",
       " ('dozen', 0): 94,\n",
       " ('irresistibly', 0): 5,\n",
       " ('scored', 0): 26,\n",
       " ('motif', 0): 64,\n",
       " ('along', 0): 842,\n",
       " ('pop', 0): 150,\n",
       " ('song', 0): 899,\n",
       " ('range', 0): 133,\n",
       " ('right', 0): 1366,\n",
       " ('inspired', 0): 156,\n",
       " ('important', 0): 451,\n",
       " ('delight', 0): 123,\n",
       " ('take', 0): 2354,\n",
       " ('leave', 0): 405,\n",
       " ('wahlberg', 0): 22,\n",
       " ('he', 0): 1027,\n",
       " ('okay', 0): 172,\n",
       " ('leading', 0): 276,\n",
       " ('doesnt', 0): 1462,\n",
       " ('ask', 0): 184,\n",
       " ('anything', 0): 837,\n",
       " ('cant', 0): 1180,\n",
       " ('weakest', 0): 42,\n",
       " ('major', 0): 386,\n",
       " ('actor', 0): 2415,\n",
       " ('thats', 0): 1160,\n",
       " ('rest', 0): 531,\n",
       " ('supporting', 0): 433,\n",
       " ('strong', 0): 590,\n",
       " ('sutherland', 0): 67,\n",
       " ('bit', 0): 1458,\n",
       " ('mo', 0): 10,\n",
       " ('def', 0): 9,\n",
       " ('jason', 0): 179,\n",
       " ('steadham', 0): 1,\n",
       " ('ed', 0): 113,\n",
       " ('norton', 0): 20,\n",
       " ('seth', 0): 18,\n",
       " ('green', 0): 165,\n",
       " ('charlize', 0): 7,\n",
       " ('theron', 0): 5,\n",
       " ('turn', 0): 1000,\n",
       " ('solid', 0): 261,\n",
       " ('fatfree', 0): 1,\n",
       " ('performance', 0): 2415,\n",
       " ('seems', 0): 1235,\n",
       " ('mostly', 0): 356,\n",
       " ('phoning', 0): 1,\n",
       " ('rumor', 0): 24,\n",
       " ('natural', 0): 225,\n",
       " ('12', 0): 165,\n",
       " ('power', 0): 507,\n",
       " ('quibble', 0): 24,\n",
       " ('casting', 0): 214,\n",
       " ('wrench', 0): 5,\n",
       " ('male', 0): 271,\n",
       " ('model', 0): 120,\n",
       " ('pretending', 0): 32,\n",
       " ('shoehorned', 0): 2,\n",
       " ('although', 0): 1149,\n",
       " ('blame', 0): 75,\n",
       " ('size', 0): 44,\n",
       " ('late', 0): 564,\n",
       " ('walk', 0): 226,\n",
       " ('nature', 0): 318,\n",
       " ('cynical', 0): 73,\n",
       " ('sorti', 0): 2,\n",
       " ('would', 0): 4225,\n",
       " ('wonder', 0): 375,\n",
       " ('slept', 0): 14,\n",
       " ('supernumerary', 0): 1,\n",
       " ('nah', 0): 5,\n",
       " ('camera', 0): 527,\n",
       " ('stunt', 0): 135,\n",
       " ('ploteverything', 0): 1,\n",
       " ('cook', 0): 63,\n",
       " ('nicely', 0): 155,\n",
       " ('crew', 0): 245,\n",
       " ('pull', 0): 218,\n",
       " ('together', 0): 1034,\n",
       " ('pretty', 0): 1168,\n",
       " ('seamlessly', 0): 21,\n",
       " ('exception', 0): 149,\n",
       " ('dialog', 0): 233,\n",
       " ('nice', 0): 855,\n",
       " ('light', 0): 431,\n",
       " ('touch', 0): 324,\n",
       " ('reward', 0): 44,\n",
       " ('indulgence', 0): 6,\n",
       " ('several', 0): 646,\n",
       " ('satisfying', 0): 118,\n",
       " ('minor', 0): 193,\n",
       " ('payoff', 0): 18,\n",
       " ('favorite', 0): 913,\n",
       " ('nortons', 0): 3,\n",
       " ('wahlbergs', 0): 4,\n",
       " ('lost', 0): 528,\n",
       " ('element', 0): 492,\n",
       " ('surprise', 0): 411,\n",
       " ('proceeds', 0): 33,\n",
       " ('cold', 0): 229,\n",
       " ('cock', 0): 9,\n",
       " ('cross', 0): 116,\n",
       " ('asks', 0): 136,\n",
       " ('hmmm', 0): 7,\n",
       " ('maybe', 0): 709,\n",
       " ('course', 0): 1091,\n",
       " ('requires', 0): 49,\n",
       " ('certain', 0): 370,\n",
       " ('level', 0): 440,\n",
       " ('suspension', 0): 20,\n",
       " ('disbelief', 0): 40,\n",
       " ('relax', 0): 44,\n",
       " ('go', 0): 2719,\n",
       " ('hard', 0): 887,\n",
       " ('mechanic', 0): 24,\n",
       " ('cracking', 0): 35,\n",
       " ('safe', 0): 86,\n",
       " ('underwater', 0): 26,\n",
       " ('likelihood', 0): 6,\n",
       " ('anyone', 0): 1021,\n",
       " ('able', 0): 593,\n",
       " ('successfully', 0): 69,\n",
       " ('hack', 0): 33,\n",
       " ('manipulate', 0): 16,\n",
       " ('la', 0): 247,\n",
       " ('traffic', 0): 35,\n",
       " ('via', 0): 76,\n",
       " ('laptop', 0): 5,\n",
       " ('etc', 0): 399,\n",
       " ('youll', 0): 608,\n",
       " ('fun', 0): 1267,\n",
       " ('ride', 0): 211,\n",
       " ('lightweight', 0): 18,\n",
       " ('summer', 0): 187,\n",
       " ('fluff', 0): 20,\n",
       " ('try', 0): 959,\n",
       " ('enough', 0): 1131,\n",
       " ('id', 0): 468,\n",
       " ('give', 0): 1992,\n",
       " ('75', 0): 31,\n",
       " ('widower', 0): 23,\n",
       " ('family', 0): 1596,\n",
       " ('dan', 0): 113,\n",
       " ('burn', 0): 98,\n",
       " ('steve', 0): 158,\n",
       " ('carell', 0): 25,\n",
       " ('column', 0): 18,\n",
       " ('giving', 0): 296,\n",
       " ('advice', 0): 66,\n",
       " ('new', 0): 1853,\n",
       " ('jersey', 0): 36,\n",
       " ('standard', 0): 261,\n",
       " ('raise', 0): 102,\n",
       " ('three', 0): 941,\n",
       " ('daughter', 0): 517,\n",
       " ('alone', 0): 395,\n",
       " ('jane', 0): 231,\n",
       " ('allison', 0): 10,\n",
       " ('pill', 0): 10,\n",
       " ('driving', 0): 119,\n",
       " ('license', 0): 22,\n",
       " ('allow', 0): 111,\n",
       " ('drive', 0): 208,\n",
       " ('cara', 0): 8,\n",
       " ('brittany', 0): 9,\n",
       " ('robertson', 0): 27,\n",
       " ('crush', 0): 40,\n",
       " ('highschool', 0): 16,\n",
       " ('mate', 0): 52,\n",
       " ('marty', 0): 74,\n",
       " ('young', 0): 1787,\n",
       " ('lily', 0): 65,\n",
       " ('marlene', 0): 19,\n",
       " ('lawston', 0): 2,\n",
       " ('miss', 0): 448,\n",
       " ('mother', 0): 782,\n",
       " ('travel', 0): 172,\n",
       " ('rhode', 0): 4,\n",
       " ('island', 0): 245,\n",
       " ('reunion', 0): 49,\n",
       " ('meet', 0): 641,\n",
       " ('marie', 0): 84,\n",
       " ('juliette', 0): 25,\n",
       " ('binoche', 0): 14,\n",
       " ('bookstore', 0): 5,\n",
       " ('spend', 0): 149,\n",
       " ('hour', 0): 621,\n",
       " ('talking', 0): 256,\n",
       " ('attracted', 0): 64,\n",
       " ('receives', 0): 26,\n",
       " ('phone', 0): 118,\n",
       " ('call', 0): 410,\n",
       " ('leaf', 0): 327,\n",
       " ('number', 0): 601,\n",
       " ('immediately', 0): 193,\n",
       " ('fall', 0): 595,\n",
       " ('parent', 0): 419,\n",
       " ('find', 0): 2158,\n",
       " ('girlfriend', 0): 231,\n",
       " ('wolf', 0): 76,\n",
       " ('brother', 0): 686,\n",
       " ('mitch', 0): 44,\n",
       " ('dane', 0): 40,\n",
       " ('weekend', 0): 78,\n",
       " ('attraction', 0): 81,\n",
       " ('clumsy', 0): 24,\n",
       " ('increase', 0): 32,\n",
       " ('decision', 0): 148,\n",
       " ('delightful', 0): 165,\n",
       " ('romance', 0): 362,\n",
       " ('drama', 0): 758,\n",
       " ('gorgeous', 0): 189,\n",
       " ('awesome', 0): 270,\n",
       " ('easy', 0): 395,\n",
       " ('everybody', 0): 155,\n",
       " ('trio', 0): 50,\n",
       " ('fantastic', 0): 451,\n",
       " ('responsible', 0): 99,\n",
       " ('screenplay', 0): 241,\n",
       " ('wonderful', 0): 1068,\n",
       " ('talented', 0): 229,\n",
       " ('actress', 0): 616,\n",
       " ('stunning', 0): 244,\n",
       " ('realistic', 0): 427,\n",
       " ('behavior', 0): 125,\n",
       " ('meeting', 0): 131,\n",
       " ('follow', 0): 302,\n",
       " ('dans', 0): 9,\n",
       " ('plan', 0): 264,\n",
       " ('vote', 0): 105,\n",
       " ('eight', 0): 91,\n",
       " ('title', 0): 583,\n",
       " ('brazil', 0): 65,\n",
       " ('eu', 0): 4,\n",
       " ('meu', 0): 1,\n",
       " ('irmã£o', 0): 1,\n",
       " ('e', 0): 50,\n",
       " ('nossa', 0): 1,\n",
       " ('namorada', 0): 1,\n",
       " ('horror', 0): 1232,\n",
       " ('occultsupernatural', 0): 1,\n",
       " ('undertone', 0): 15,\n",
       " ('lowbudget', 0): 92,\n",
       " ('french', 0): 424,\n",
       " ('caught', 0): 265,\n",
       " ('attention', 0): 408,\n",
       " ('need', 0): 974,\n",
       " ('wild', 0): 201,\n",
       " ('fx', 0): 47,\n",
       " ('lot', 0): 1983,\n",
       " ('gore', 0): 262,\n",
       " ('effective', 0): 294,\n",
       " ('revolves', 0): 69,\n",
       " ('4', 0): 234,\n",
       " ('cellmates', 0): 2,\n",
       " ('prison', 0): 183,\n",
       " ('become', 0): 673,\n",
       " ('gradually', 0): 66,\n",
       " ('interesting', 0): 1215,\n",
       " ('build', 0): 169,\n",
       " ('tension', 0): 193,\n",
       " ('finale', 0): 118,\n",
       " ('action', 0): 1316,\n",
       " ('eye', 0): 879,\n",
       " ('carrere', 0): 4,\n",
       " ('entered', 0): 29,\n",
       " ('living', 0): 482,\n",
       " ('3', 0): 392,\n",
       " ('inmate', 0): 38,\n",
       " ('much', 0): 3672,\n",
       " ('deserves', 0): 274,\n",
       " ('widely', 0): 29,\n",
       " ('flaw', 0): 240,\n",
       " ('theyre', 0): 368,\n",
       " ('effectively', 0): 105,\n",
       " ('mystery', 0): 346,\n",
       " ('confusing', 0): 87,\n",
       " ('towards', 0): 255,\n",
       " ('end', 0): 2490,\n",
       " ('malefique', 0): 3,\n",
       " ('redeems', 0): 11,\n",
       " ('810', 0): 179,\n",
       " ('problem', 0): 822,\n",
       " ('vampire', 0): 178,\n",
       " ('none', 0): 230,\n",
       " ('sympathetic', 0): 102,\n",
       " ('carpenter', 0): 135,\n",
       " ('learned', 0): 142,\n",
       " ('mistake', 0): 168,\n",
       " ('likable', 0): 154,\n",
       " ('hunter', 0): 120,\n",
       " ('charismatic', 0): 55,\n",
       " ('female', 0): 311,\n",
       " ('una', 0): 13,\n",
       " ('certainly', 0): 699,\n",
       " ('coolest', 0): 14,\n",
       " ('blade', 0): 64,\n",
       " ('deacon', 0): 6,\n",
       " ('frost', 0): 40,\n",
       " ('unfortunately', 0): 334,\n",
       " ('concept', 0): 176,\n",
       " ('cool', 0): 347,\n",
       " ('slow', 0): 350,\n",
       " ('motion', 0): 152,\n",
       " ('restaurant', 0): 71,\n",
       " ('nowhere', 0): 86,\n",
       " ('near', 0): 291,\n",
       " ('expected', 0): 254,\n",
       " ('lasting', 0): 30,\n",
       " ('choreographed', 0): 37,\n",
       " ('fight', 0): 532,\n",
       " ('sequence', 0): 666,\n",
       " ('example', 0): 520,\n",
       " ('inside', 0): 283,\n",
       " ('city', 0): 632,\n",
       " ('somewhat', 0): 393,\n",
       " ('los', 0): 60,\n",
       " ('muertos', 0): 2,\n",
       " ('faster', 0): 30,\n",
       " ('pace', 0): 264,\n",
       " ('predecessor', 0): 43,\n",
       " ('drag', 0): 111,\n",
       " ('bad', 0): 1471,\n",
       " ('climax', 0): 173,\n",
       " ('may', 0): 1545,\n",
       " ('sound', 0): 709,\n",
       " ('definitely', 0): 816,\n",
       " ('generally', 0): 148,\n",
       " ('enjoyable', 0): 452,\n",
       " ('rank', 0): 103,\n",
       " ('entry', 0): 99,\n",
       " ('genre', 0): 553,\n",
       " ('neither', 0): 132,\n",
       " ('unoriginal', 0): 11,\n",
       " ('dracula', 0): 51,\n",
       " ('every', 0): 1593,\n",
       " ('unintelligent', 0): 2,\n",
       " ('spectacle', 0): 35,\n",
       " ('ii', 0): 154,\n",
       " ('simply', 0): 712,\n",
       " ('excitement', 0): 80,\n",
       " ('third', 0): 259,\n",
       " ('installment', 0): 46,\n",
       " ('spoiler', 0): 322,\n",
       " ('warning', 0): 103,\n",
       " ('ending', 0): 1016,\n",
       " ('predictable', 0): 170,\n",
       " ('gotten', 0): 105,\n",
       " ('away', 0): 1019,\n",
       " ('unusual', 0): 191,\n",
       " ('charming', 0): 234,\n",
       " ('grade', 0): 100,\n",
       " ('screener', 0): 5,\n",
       " ('recently', 0): 309,\n",
       " ('contrast', 0): 166,\n",
       " ('crappy', 0): 33,\n",
       " ('figured', 0): 48,\n",
       " ('write', 0): 162,\n",
       " ('hope', 0): 704,\n",
       " ('friend', 0): 1436,\n",
       " ('charmer', 0): 8,\n",
       " ('joke', 0): 400,\n",
       " ('terrific', 0): 260,\n",
       " ('howard', 0): 172,\n",
       " ('hessman', 0): 1,\n",
       " ('larry', 0): 79,\n",
       " ('dorf', 0): 2,\n",
       " ('directing', 0): 223,\n",
       " ('needed', 0): 231,\n",
       " ('overdirected', 0): 2,\n",
       " ('writing', 0): 382,\n",
       " ('neil', 0): 40,\n",
       " ('simon', 0): 87,\n",
       " ('seinfeldish', 0): 1,\n",
       " ('banter', 0): 22,\n",
       " ('smart', 0): 194,\n",
       " ('rhythm', 0): 44,\n",
       " ('aspiring', 0): 25,\n",
       " ('screenwriter', 0): 60,\n",
       " ('notice', 0): 181,\n",
       " ('im', 0): 1516,\n",
       " ('dork', 0): 2,\n",
       " ('anyway', 0): 345,\n",
       " ('cute', 0): 220,\n",
       " ('asked', 0): 135,\n",
       " ('yester', 0): 1,\n",
       " ('chalo', 0): 3,\n",
       " ('di', 0): 32,\n",
       " ('daar', 0): 1,\n",
       " ('chand', 0): 1,\n",
       " ('ke', 0): 2,\n",
       " ('paar', 0): 2,\n",
       " ('meaning', 0): 217,\n",
       " ('sung', 0): 39,\n",
       " ('lata', 0): 5,\n",
       " ('mangeshkar', 0): 3,\n",
       " ('mohd', 0): 3,\n",
       " ('rafi', 0): 2,\n",
       " ('lyric', 0): 70,\n",
       " ('kaif', 0): 1,\n",
       " ('bhopali', 0): 1,\n",
       " ('mention', 0): 291,\n",
       " ('cinema', 0): 663,\n",
       " ('photography', 0): 208,\n",
       " ('sailing', 0): 12,\n",
       " ('boat', 0): 115,\n",
       " ('background', 0): 308,\n",
       " ('shining', 0): 46,\n",
       " ('chalte', 0): 2,\n",
       " ('pakeezah', 0): 13,\n",
       " ('meena', 0): 6,\n",
       " ('kumaris', 0): 3,\n",
       " ('died', 0): 215,\n",
       " ('amount', 0): 216,\n",
       " ('took', 0): 440,\n",
       " ('picturised', 0): 1,\n",
       " ('change', 0): 582,\n",
       " ('raj', 0): 15,\n",
       " ('kumar', 0): 10,\n",
       " ('foot', 0): 172,\n",
       " ('accidentally', 0): 79,\n",
       " ('train', 0): 210,\n",
       " ('cabin', 0): 30,\n",
       " ('upon', 0): 382,\n",
       " ('note', 0): 387,\n",
       " ('describing', 0): 36,\n",
       " ('beautiful', 0): 1222,\n",
       " ('conclusion', 0): 165,\n",
       " ('romantic', 0): 431,\n",
       " ('possible', 0): 355,\n",
       " ('viewed', 0): 101,\n",
       " ('large', 0): 220,\n",
       " ('sake', 0): 52,\n",
       " ('kumari', 0): 2,\n",
       " ('ashok', 0): 3,\n",
       " ('directed', 0): 498,\n",
       " ('kamal', 0): 4,\n",
       " ('amrohi', 0): 1,\n",
       " ('amrohis', 0): 2,\n",
       " ('grandson', 0): 18,\n",
       " ('revive', 0): 11,\n",
       " ('grand', 0): 150,\n",
       " ('father', 0): 930,\n",
       " ('studio', 0): 308,\n",
       " ('making', 0): 862,\n",
       " ('loved', 0): 900,\n",
       " ('incredibly', 0): 201,\n",
       " ('sad', 0): 347,\n",
       " ('canceled', 0): 33,\n",
       " ('came', 0): 706,\n",
       " ('stupid', 0): 203,\n",
       " ('terrible', 0): 181,\n",
       " ('hate', 0): 339,\n",
       " ('suck', 0): 68,\n",
       " ('bring', 0): 382,\n",
       " ('abc', 0): 66,\n",
       " ('supernanny', 0): 3,\n",
       " ('whatnot', 0): 6,\n",
       " ('six', 0): 130,\n",
       " ('degree', 0): 92,\n",
       " ('complaining', 0): 32,\n",
       " ('rating', 0): 360,\n",
       " ('slot', 0): 11,\n",
       " ('truly', 0): 806,\n",
       " ('relate', 0): 153,\n",
       " ('anticipated', 0): 18,\n",
       " ('jj', 0): 13,\n",
       " ('abrams', 0): 5,\n",
       " ('delivered', 0): 78,\n",
       " ('wish', 0): 452,\n",
       " ('trust', 0): 130,\n",
       " ('complete', 0): 272,\n",
       " ('entire', 0): 468,\n",
       " ('couldnt', 0): 372,\n",
       " ('wait', 0): 271,\n",
       " ('someday', 0): 31,\n",
       " ('everyones', 0): 52,\n",
       " ('incomplete', 0): 13,\n",
       " ('ill', 0): 364,\n",
       " ('steven', 0): 85,\n",
       " ('whitney', 0): 5,\n",
       " ('carlos', 0): 32,\n",
       " ('mae', 0): 16,\n",
       " ('wanted', 0): 418,\n",
       " ('laura', 0): 94,\n",
       " ('damien', 0): 7,\n",
       " ('downer', 0): 10,\n",
       " ('sleeper', 0): 29,\n",
       " ('search', 0): 169,\n",
       " ('international', 0): 119,\n",
       " ('assassin', 0): 61,\n",
       " ('rake', 0): 5,\n",
       " ('100millionplus', 0): 1,\n",
       " ('rent', 0): 208,\n",
       " ('highlight', 0): 135,\n",
       " ('diana', 0): 57,\n",
       " ('rigg', 0): 15,\n",
       " ('george', 0): 402,\n",
       " ('c', 0): 98,\n",
       " ('scott', 0): 244,\n",
       " ('bernard', 0): 44,\n",
       " ('hughes', 0): 34,\n",
       " ('accumulated', 0): 9,\n",
       " ('hospital', 0): 204,\n",
       " ('doctor', 0): 373,\n",
       " ('attack', 0): 185,\n",
       " ('pomp', 0): 4,\n",
       " ('pretension', 0): 18,\n",
       " ('aspect', 0): 359,\n",
       " ('society', 0): 348,\n",
       " ('setting', 0): 361,\n",
       " ('haughty', 0): 7,\n",
       " ('institution', 0): 29,\n",
       " ('medical', 0): 75,\n",
       " ('profession', 0): 28,\n",
       " ('idea', 0): 772,\n",
       " ('might', 0): 992,\n",
       " ('shock', 0): 169,\n",
       " ('perspective', 0): 136,\n",
       " ('experience', 0): 690,\n",
       " ('dr', 0): 313,\n",
       " ('brock', 0): 9,\n",
       " ('undergoes', 0): 6,\n",
       " ('midlife', 0): 18,\n",
       " ('crisis', 0): 73,\n",
       " ('monumental', 0): 19,\n",
       " ('enamored', 0): 6,\n",
       " ('prospect', 0): 26,\n",
       " ('involvement', 0): 49,\n",
       " ('drummond', 0): 9,\n",
       " ('thread', 0): 41,\n",
       " ('absurd', 0): 63,\n",
       " ('woven', 0): 34,\n",
       " ('mix', 0): 170,\n",
       " ('form', 0): 403,\n",
       " ('irony', 0): 61,\n",
       " ('appears', 0): 295,\n",
       " ('killing', 0): 240,\n",
       " ('worker', 0): 89,\n",
       " ('mismanage', 0): 1,\n",
       " ('affair', 0): 173,\n",
       " ('unpredictable', 0): 39,\n",
       " ('unless', 0): 110,\n",
       " ('youve', 0): 257,\n",
       " ('hilarious', 0): 545,\n",
       " ('guess', 0): 345,\n",
       " ('brand', 0): 43,\n",
       " ('humor', 0): 581,\n",
       " ('uproariously', 0): 5,\n",
       " ('dark', 0): 641,\n",
       " ('youre', 0): 644,\n",
       " ('delighted', 0): 27,\n",
       " ('known', 0): 448,\n",
       " ('spook', 0): 9,\n",
       " ('war', 0): 1286,\n",
       " ('yokai', 0): 25,\n",
       " ('miikes', 0): 20,\n",
       " ('attempt', 0): 394,\n",
       " ('damn', 0): 99,\n",
       " ('fine', 0): 665,\n",
       " ('imagine', 0): 248,\n",
       " ('wanting', 0): 145,\n",
       " ('subject', 0): 385,\n",
       " ('child', 0): 1081,\n",
       " ('kid', 0): 1063,\n",
       " ('disturbing', 0): 207,\n",
       " ('imagery', 0): 89,\n",
       " ('neverending', 0): 16,\n",
       " ('oz', 0): 77,\n",
       " ('spring', 0): 65,\n",
       " ('mind', 0): 854,\n",
       " ('case', 0): 601,\n",
       " ('miike', 0): 30,\n",
       " ('fact', 0): 1338,\n",
       " ('screening', 0): 94,\n",
       " ('introducing', 0): 16,\n",
       " ('reiterated', 0): 2,\n",
       " ('suitable', 0): 54,\n",
       " ('kick', 0): 151,\n",
       " ('hero', 0): 492,\n",
       " ('piece', 0): 668,\n",
       " ('explaining', 0): 28,\n",
       " ('current', 0): 129,\n",
       " ('brief', 0): 178,\n",
       " ('mundanity', 0): 1,\n",
       " ('sharply', 0): 8,\n",
       " ('broken', 0): 103,\n",
       " ('cow', 0): 13,\n",
       " ('birth', 0): 89,\n",
       " ('calf', 0): 8,\n",
       " ('face', 0): 753,\n",
       " ('human', 0): 912,\n",
       " ('scream', 0): 105,\n",
       " ('horrendous', 0): 20,\n",
       " ('coming', 0): 448,\n",
       " ('falling', 0): 152,\n",
       " ('abomination', 0): 8,\n",
       " ('sheer', 0): 107,\n",
       " ('hideousness', 0): 1,\n",
       " ('creature', 0): 155,\n",
       " ('bizarre', 0): 177,\n",
       " ('quato', 0): 1,\n",
       " ('homage', 0): 53,\n",
       " ('following', 0): 253,\n",
       " ('introduction', 0): 71,\n",
       " ('baddie', 0): 24,\n",
       " ('kato', 0): 2,\n",
       " ('henchwoman', 0): 4,\n",
       " ('agi', 0): 5,\n",
       " ('surprisingly', 0): 253,\n",
       " ('attractive', 0): 130,\n",
       " ('chiaki', 0): 2,\n",
       " ('kuriyami', 0): 2,\n",
       " ('apocalyptic', 0): 13,\n",
       " ('army', 0): 195,\n",
       " ('raising', 0): 31,\n",
       " ('reverts', 0): 4,\n",
       " ('logic', 0): 57,\n",
       " ('drain', 0): 15,\n",
       " ('boy', 0): 864,\n",
       " ('group', 0): 472,\n",
       " ('miyazaki', 0): 39,\n",
       " ('reject', 0): 33,\n",
       " ('sorcerer', 0): 14,\n",
       " ('fairly', 0): 214,\n",
       " ('hackneyed', 0): 13,\n",
       " ...}"
      ]
     },
     "execution_count": 20,
     "metadata": {},
     "output_type": "execute_result"
    }
   ],
   "source": [
    "## Run this cell to get an idea about the corpus of words and their occurrence along with labels. \n",
    "## In this, we are computing the frequency of occurrence of word given that a review is 'positive'.\n",
    "## Similarly, we also compute the frequence of occurence of word given that a review is 'negative'.\n",
    "freqs"
   ]
  },
  {
   "cell_type": "markdown",
   "id": "759c24bc",
   "metadata": {
    "id": "759c24bc"
   },
   "source": [
    "## Q4. Training the Naive Bayes Model: (20 points)\n",
    "\n",
    "Now we are in the training phase of the Naive Bayes algorithm. In this cell, take a look at the ways to calculate the log likelihood and log prior values as these are important for testing in the next few cells. \n",
    "\n",
    "Also calculate the frequency of occurrence of words where the output is negative. In the same way, calculate the word frequency count using the above functions in order to compute the log likelihood.\n",
    "\n",
    "Return the logprior and loglikelihood output by the model from this function. "
   ]
  },
  {
   "cell_type": "code",
   "execution_count": 21,
   "id": "a7f280e3",
   "metadata": {
    "id": "a7f280e3"
   },
   "outputs": [],
   "source": [
    "def train_naive_bayes(freqs, train_x, train_y):\n",
    "    '''\n",
    "    Input:\n",
    "        freqs: dictionary from (word, label) to how often the word appears\n",
    "        train_x: a list of reviews\n",
    "        train_y: a list of labels correponding to the reviews (0,1)\n",
    "    Output:\n",
    "        logprior: the log prior. (equation 3 above)\n",
    "        loglikelihood: the log likelihood of you Naive bayes equation. (equation 6 above)\n",
    "    '''\n",
    "    loglikelihood = {}\n",
    "    logprior = 0\n",
    "\n",
    "    # calculate V, the number of unique words in the vocabulary\n",
    "    vocab = set(pair[0] for pair in freqs.keys())\n",
    "    V = len(vocab)\n",
    "\n",
    "    # calculate num_pos and num_neg - the total number of positive and negative words for all documents\n",
    "    num_pos = num_neg = 0\n",
    "    for pair in freqs.keys():\n",
    "        # if the label is positive\n",
    "        if pair[1] == 0:\n",
    "            # Increment the number of positive words by the count for this (word, label) pair\n",
    "            num_pos += freqs.get(pair)\n",
    "\n",
    "        # else, the label is negative\n",
    "        else:\n",
    "            # increment the number of negative words by the count for this (word,label) pair\n",
    "            num_neg += freqs.get(pair)\n",
    "\n",
    "    # calculate num_doc, the number of documents\n",
    "    num_doc = len(train_x)\n",
    "    \n",
    "    # calculate D_pos and D_neg\n",
    "    d_pos = d_neg = 0\n",
    "    \n",
    "    for label in train_y:\n",
    "        if label == 0:\n",
    "            d_pos += 1 \n",
    "        else:\n",
    "            d_neg += 1\n",
    "\n",
    "    # calculate D_pos, the number of positive documents \n",
    "    pos_num_docs = d_pos\n",
    "    \n",
    "    # calculate D_neg, the number of negative documents \n",
    "    neg_num_docs = d_neg\n",
    "\n",
    "    # calculate logprior\n",
    "    logprior = math.log(neg_num_docs / pos_num_docs)\n",
    "\n",
    "    # For each word in the vocabulary...\n",
    "    for word in vocab:\n",
    "        # get the positive and negative frequency of the word\n",
    "        freq_pos = find_occurrence(freqs, word, 0)\n",
    "        freq_neg = find_occurrence(freqs, word, 1)\n",
    "\n",
    "        # calculate the probability that each word is positive, and negative\n",
    "        p_w_pos = (freq_pos + 1) / (num_pos + V)\n",
    "        p_w_neg = (freq_neg + 1) / (num_neg + V)\n",
    "        \n",
    "        # calculate the log likelihood of the word\n",
    "        loglikelihood[word] = math.log(p_w_neg / p_w_pos)\n",
    "\n",
    "    return logprior, loglikelihood"
   ]
  },
  {
   "cell_type": "code",
   "execution_count": 22,
   "id": "1561d892",
   "metadata": {
    "id": "1561d892",
    "scrolled": true
   },
   "outputs": [
    {
     "name": "stdout",
     "output_type": "stream",
     "text": [
      "0.0\n",
      "84874\n"
     ]
    }
   ],
   "source": [
    "# You do not have to input any code in this cell, but it is relevant to grading, so please do not change anything\n",
    "logprior, loglikelihood = train_naive_bayes(freqs, X_train, y_train)\n",
    "print(logprior)\n",
    "print(len(loglikelihood))"
   ]
  },
  {
   "cell_type": "markdown",
   "id": "19d9c882",
   "metadata": {
    "id": "19d9c882"
   },
   "source": [
    "### Expected Output \n",
    "\n",
    "0.0 <br>\n",
    "91425"
   ]
  },
  {
   "cell_type": "markdown",
   "id": "78b51303",
   "metadata": {
    "id": "78b51303"
   },
   "source": [
    "## Q5. Implementing Naive Bayes Predict Function: (10 points)\n",
    "\n",
    "It is now time to make our prediction as to whether a given review is negative or positive respectively. \n",
    "\n",
    "After adding the log likelihood values, ensure that the output is 1 (negative) if the sum of the log likelihood value is greater than 0 and 0 (positive) if the sum of the log likelihood is less than or equal to 0. "
   ]
  },
  {
   "cell_type": "code",
   "execution_count": 23,
   "id": "b692c2f9",
   "metadata": {
    "id": "b692c2f9"
   },
   "outputs": [],
   "source": [
    "# TASK 4 CELL\n",
    "\n",
    "def naive_bayes_predict(review, logprior, loglikelihood):\n",
    "    '''\n",
    "    Params:\n",
    "        review: a string\n",
    "        logprior: a number\n",
    "        loglikelihood: a dictionary of words mapping to numbers\n",
    "    Return:\n",
    "        total_prob: the sum of all the loglikelihoods of each word in the review (if found in the dictionary) + logprior (a number)\n",
    "\n",
    "    '''\n",
    "    # process the review to get a list of words\n",
    "    word_l = word_tokenize(clean_review(review))\n",
    "\n",
    "    # initialize probability to zero\n",
    "    total_prob = 0\n",
    "\n",
    "    # add the logprior\n",
    "    total_prob += logprior\n",
    "\n",
    "    for word in word_l:\n",
    "        # check if the word exists in the loglikelihood dictionary\n",
    "        if word in loglikelihood:\n",
    "            # add the log likelihood of that word to the probability\n",
    "            total_prob += loglikelihood.get(word)\n",
    "\n",
    "    if total_prob > 0:\n",
    "        total_prob = 1\n",
    "    else:\n",
    "        total_prob = 0\n",
    "\n",
    "    return total_prob"
   ]
  },
  {
   "cell_type": "code",
   "execution_count": 24,
   "id": "4b170333",
   "metadata": {
    "colab": {
     "base_uri": "https://localhost:8080/"
    },
    "id": "4b170333",
    "outputId": "0cf6bc90-90e8-4dee-bf95-7eaf39dce147"
   },
   "outputs": [
    {
     "name": "stdout",
     "output_type": "stream",
     "text": [
      "The expected output is 1\n"
     ]
    }
   ],
   "source": [
    "# You do not have to input any code in this cell, but it is relevant to grading, so please do not change anything\n",
    "\n",
    "# Experiment with your own review.\n",
    "my_review = \"I thought this series was going to be another fun, action series with some dynamic plots and great performances. I was wrong. While I like Jamie Denton, this show is hardly worth watching at all, unless you enjoy watching some people brutalized and the actions of the agents supposedly warranted under the theme of national security. The show is great propaganda for the current government, and spews out jingoism as though we talk that way every day. After a couple of episodes, it was boring the hell out of me, and I started watching reruns of House Invaders on BBCAmerica instead. Rather watch CSI and Without a Trace, without a doubt.\"\n",
    "p = naive_bayes_predict(my_review, logprior, loglikelihood)\n",
    "print('The expected output is', p)"
   ]
  },
  {
   "cell_type": "markdown",
   "id": "6242708f",
   "metadata": {
    "id": "6242708f"
   },
   "source": [
    "### Expected Output :\n",
    "The expected output is 1"
   ]
  },
  {
   "cell_type": "markdown",
   "id": "7c4eeb71",
   "metadata": {
    "id": "7c4eeb71"
   },
   "source": [
    "## Q6. Implementing Naive Bayes Test function: (10 points)\n",
    "\n",
    "In this function, implement the previous functions such as naive_bayes_predict to get the predictions for the test set. \n",
    "\n",
    "In addition to this, the function should return the total number of reviews that it correctly classified as 'positive' or 'negative'. "
   ]
  },
  {
   "cell_type": "code",
   "execution_count": 25,
   "id": "66a511e7",
   "metadata": {
    "id": "66a511e7"
   },
   "outputs": [],
   "source": [
    "# UNQ_C6 (UNIQUE CELL IDENTIFIER, DO NOT EDIT)\n",
    "def test_naive_bayes(test_x, test_y, logprior, loglikelihood):\n",
    "    \"\"\"\n",
    "    Input:\n",
    "        test_x: A list of reviews\n",
    "        test_y: the corresponding labels for the list of reviews\n",
    "        logprior: the logprior\n",
    "        loglikelihood: a dictionary with the loglikelihoods for each word\n",
    "    Output:\n",
    "        accuracy: (# of reviews classified correctly)/(total # of reviews)\n",
    "    \"\"\"\n",
    "    accuracy = 0  \n",
    "\n",
    "    y_hats = []\n",
    "    for review in test_x:\n",
    "        pred = naive_bayes_predict(review, logprior, loglikelihood)\n",
    "        # if the prediction is > 0\n",
    "        if pred > 0:\n",
    "            # the predicted class is 1\n",
    "            y_hat_i = 1\n",
    "        else:\n",
    "            # otherwise the predicted class is 0\n",
    "            y_hat_i = 0\n",
    "\n",
    "        # append the predicted class to the list y_hats\n",
    "        y_hats.append(y_hat_i)\n",
    "\n",
    "    # error is the average of the absolute values of the differences between y_hats and test_y    \n",
    "    num_errors = 0\n",
    "    for x, y in zip(y_hats, test_y):\n",
    "        if x != y:\n",
    "            num_errors +=1\n",
    "    \n",
    "    error = num_errors / len(y_hats)\n",
    "    \n",
    "    # accuracy\n",
    "    accuracy = (len(y_hats) - num_errors) / len(y_hats)\n",
    "\n",
    "    return accuracy, y_hats"
   ]
  },
  {
   "cell_type": "code",
   "execution_count": 26,
   "id": "eed4867d",
   "metadata": {},
   "outputs": [
    {
     "name": "stdout",
     "output_type": "stream",
     "text": [
      "0.885408245755861\n"
     ]
    }
   ],
   "source": [
    "accuracy, y_hats = test_naive_bayes(X_test, y_test, logprior, loglikelihood)\n",
    "print(accuracy)"
   ]
  },
  {
   "cell_type": "code",
   "execution_count": 27,
   "id": "8a9c5d9d",
   "metadata": {
    "id": "8a9c5d9d"
   },
   "outputs": [
    {
     "name": "stdout",
     "output_type": "stream",
     "text": [
      "If you like original gut wrenching laughter you will like this movie. If you are young or old then y -> 0.00\n",
      "What a waste of talent. A very poor, semi-coherent, script cripples this film. Rather unimaginative  -> 1.00\n",
      "I have seen this film at least 100 times and I am still excited by it, the acting is perfect and the -> 0.00\n",
      "Cheap, amateurish, unimaginative, exploitative... but don't think it'll have redeeming amusement val -> 1.00\n"
     ]
    }
   ],
   "source": [
    "# For grading purpose only\n",
    "# You do not have to input any code in this cell, but it is relevant to grading, so please do not change anything\n",
    "\n",
    "# Run this cell to test your function\n",
    "\n",
    "for review in [\"If you like original gut wrenching laughter you will like this movie. If you are young or old then you will love this movie, hell even my mom liked it.<br /><br />Great Camp!!!\",\n",
    "                \"What a waste of talent. A very poor, semi-coherent, script cripples this film. Rather unimaginative direction, too. Some VERY faint echoes of Fargo here, but it just doesn't come off.\",\n",
    "                \"I have seen this film at least 100 times and I am still excited by it, the acting is perfect and the romance between Joe and Jean keeps me on the edge of my seat, plus I still think Bryan Brown is the tops. Brilliant Film.\",\n",
    "                \"Cheap, amateurish, unimaginative, exploitative... but don't think it'll have redeeming amusement value. About as unentertaining, uninstructive and just plain dull as a film can be.\"]:\n",
    "    p = naive_bayes_predict(review, logprior, loglikelihood)\n",
    "    print(f'{review[:100]} -> {p:.2f}')\n",
    "    "
   ]
  },
  {
   "cell_type": "markdown",
   "id": "43e2ef98",
   "metadata": {
    "id": "43e2ef98"
   },
   "source": [
    "### Expected Output :\n",
    "\n",
    "If you like original gut wrenching laughter you will like this movie. If you are young or old then y -> 0.00 <br>\n",
    "What a waste of talent. A very poor, semi-coherent, script cripples this film. Rather unimaginative  -> 1.00<br>\n",
    "I have seen this film at least 100 times and I am still excited by it, the acting is perfect and the -> 0.00 <br>\n",
    "Cheap, amateurish, unimaginative, exploitative... but don't think it'll have redeeming amusement val -> 1.00\n",
    "\n"
   ]
  },
  {
   "cell_type": "code",
   "execution_count": 28,
   "id": "216fa97a",
   "metadata": {
    "colab": {
     "base_uri": "https://localhost:8080/"
    },
    "id": "216fa97a",
    "outputId": "9d1f21c7-b324-43c2-e841-269c0306cbb4"
   },
   "outputs": [
    {
     "data": {
      "text/plain": [
       "1"
      ]
     },
     "execution_count": 28,
     "metadata": {},
     "output_type": "execute_result"
    }
   ],
   "source": [
    "# Feel free to check the sentiment of your own review below\n",
    "my_review = 'The moview was very boring, I wanted to leave in the middle'\n",
    "naive_bayes_predict(my_review, logprior, loglikelihood)"
   ]
  },
  {
   "cell_type": "markdown",
   "id": "8a45e4f0",
   "metadata": {
    "id": "8a45e4f0"
   },
   "source": [
    "### Expected Output :\n",
    "1"
   ]
  },
  {
   "cell_type": "markdown",
   "id": "mAIkM4aCC1H7",
   "metadata": {
    "id": "mAIkM4aCC1H7"
   },
   "source": [
    "# Q7. Evaluate the accuracy (10 Points)\n",
    "1. Split your data into training and test sets using random selection. Set the seed as parameter of the function so that user can select a different training and test set by changin seed.\n",
    "\n",
    "2. Calculate model paramters with training set.\n",
    "\n",
    "3. Print confusion matrix for training and test set.\n",
    "\n",
    "4. Examine False Positive and False Negative cases and provide reasoning why they get misclassified."
   ]
  },
  {
   "cell_type": "code",
   "execution_count": 35,
   "id": "8192b7b3",
   "metadata": {},
   "outputs": [],
   "source": [
    "def split_dataset(X, y, size, seed):\n",
    "    \"\"\"\n",
    "    Input:\n",
    "        X: a list of reviews\n",
    "        y: the corresponding labels for the list of reviews\n",
    "        size: proportion of dataset to be included in the test split\n",
    "        seed: controls the shuffling applied to the data before applying the split\n",
    "    Output:\n",
    "        X_train: returns a list of reviews that classifier needs to train on train dataset\n",
    "        X_test: returns a list of reviews that classifier needs to test on test dataset\n",
    "        y_train: return the corresponding labels for the list of review that the classifier trained on i.e. gold values\n",
    "        y_test: return the corresponding labels for the list of review that the classifier tested on i.e. gold values\n",
    "    \"\"\"\n",
    "    \n",
    "    # using the train test split function\n",
    "    X_train, X_test, y_train, y_test = train_test_split(X, y, random_state=seed, test_size=size)\n",
    "    \n",
    "    # With the use of mapping function, we replace the label in the form of string to an integer. \n",
    "    output_map = {'positive': 0, 'negative': 1}\n",
    "    y_train = y_train.map(output_map)\n",
    "    y_test = y_test.map(output_map)\n",
    "    \n",
    "    return X_train, X_test, y_train, y_test"
   ]
  },
  {
   "cell_type": "code",
   "execution_count": 36,
   "id": "8a917987",
   "metadata": {
    "scrolled": true
   },
   "outputs": [],
   "source": [
    "X = df_upsampled['review']\n",
    "y = df_upsampled['sentiment']\n",
    "\n",
    "# split data\n",
    "X_train, X_test, y_train, y_test = split_dataset(X, y, 0.3, 0)\n",
    "\n",
    "# build freqs dictionary\n",
    "freqs = review_counter({}, X_train, y_train)\n",
    "\n",
    "# train 'train set' on naive bayes\n",
    "logprior, loglikelihood = train_naive_bayes(freqs, X_train, y_train)\n",
    "\n",
    "# confusion matrix for train\n",
    "accuracy_train, y_pred_train = test_naive_bayes(X_train, y_train, logprior, loglikelihood)\n",
    "train_cm = confusion_matrix(y_train, y_pred_train)\n",
    "\n",
    "# confusion matrix for test\n",
    "accuracy_test, y_pred_test = test_naive_bayes(X_test, y_test, logprior, loglikelihood)\n",
    "test_cm = confusion_matrix(y_test, y_pred_test)"
   ]
  },
  {
   "cell_type": "code",
   "execution_count": 37,
   "id": "1605c126",
   "metadata": {
    "scrolled": false
   },
   "outputs": [],
   "source": [
    "def cal_accuracy(cm):\n",
    "    TP = cm[1][1]\n",
    "    TN = cm[0][0]\n",
    "    FP = cm[0][1]\n",
    "    FN = cm[1][0]\n",
    "    \n",
    "    return (TP + TN) / (TP + TN + FP + FN)"
   ]
  },
  {
   "cell_type": "code",
   "execution_count": 38,
   "id": "416b7fc9",
   "metadata": {},
   "outputs": [
    {
     "name": "stdout",
     "output_type": "stream",
     "text": [
      "Confusion Matrix for training set: \n",
      " [[7965  742]\n",
      " [ 300 8456]]\n",
      "\n",
      "Accuracy of training set:  0.9403309855122258\n"
     ]
    },
    {
     "data": {
      "image/png": "[encoded data removed]",
      "text/plain": [
       "<Figure size 640x480 with 2 Axes>"
      ]
     },
     "metadata": {},
     "output_type": "display_data"
    }
   ],
   "source": [
    "print(\"Confusion Matrix for training set: \\n\", train_cm)\n",
    "disp = ConfusionMatrixDisplay(train_cm)\n",
    "disp.plot(cmap = \"flare\")\n",
    "\n",
    "print(\"\\nAccuracy of training set: \", cal_accuracy(train_cm))"
   ]
  },
  {
   "cell_type": "code",
   "execution_count": 39,
   "id": "96f0637d",
   "metadata": {},
   "outputs": [
    {
     "name": "stdout",
     "output_type": "stream",
     "text": [
      "\n",
      "Confusion Matrix for test set: \n",
      " [[3200  567]\n",
      " [ 360 3358]]\n",
      "\n",
      "Accuracy of test set:  0.8761523046092184\n"
     ]
    },
    {
     "data": {
      "image/png": "[encoded data removed]",
      "text/plain": [
       "<Figure size 640x480 with 2 Axes>"
      ]
     },
     "metadata": {},
     "output_type": "display_data"
    }
   ],
   "source": [
    "print(\"\\nConfusion Matrix for test set: \\n\", test_cm)\n",
    "disp = ConfusionMatrixDisplay(test_cm)\n",
    "disp.plot(cmap = \"flare\")\n",
    "\n",
    "print(\"\\nAccuracy of test set: \", cal_accuracy(test_cm))"
   ]
  },
  {
   "cell_type": "code",
   "execution_count": 40,
   "id": "b62a5223",
   "metadata": {},
   "outputs": [],
   "source": [
    "# find misclassified data for train and test \n",
    "def misclassified_data(X, y, y_pred):\n",
    "    \"\"\"\n",
    "    Input:\n",
    "        X: a list of reviews\n",
    "        y: the corresponding labels for the list of reviews\n",
    "        y_pred: predicted labels for the list of reviews\n",
    "    Output:\n",
    "        prints five false negative and false positives misclassified reviews\n",
    "    \"\"\"\n",
    "    \n",
    "    # initialize false negative count\n",
    "    fn = 0\n",
    "    for review, truth, pred in zip(X, y, y_pred):\n",
    "        if fn == 5:\n",
    "            break\n",
    "\n",
    "        # find false negative cases\n",
    "        if (truth == 0) and (pred == 1):\n",
    "            fn += 1\n",
    "            print(\"False Negative Review #\", fn, \":\", \"\\n\", review, \"\\n\")\n",
    "    \n",
    "    # initialize false positive count\n",
    "    fp = 0\n",
    "    for review, truth, pred in zip(X, y, y_pred):\n",
    "        if fp == 5:\n",
    "            break\n",
    "        \n",
    "        # find false positive cases\n",
    "        if (truth == 1) and (pred == 0):\n",
    "            fp += 1\n",
    "            print(\"False Positive Review #\", fp, \":\", \"\\n\", review, \"\\n\")"
   ]
  },
  {
   "cell_type": "code",
   "execution_count": 41,
   "id": "b47e40ad",
   "metadata": {
    "scrolled": true
   },
   "outputs": [
    {
     "name": "stdout",
     "output_type": "stream",
     "text": [
      "False Negative Review # 1 : \n",
      " Style over substance. But what a style it is. \"The Cell\" is the internal version of most serial killer movies. Unfortunately, the story hardly supports the visuals.<br /><br />Psychotherapist Catherine Deane (J-Lo) goes into her patients' dreams via artificial means to discover and help them over come their phobias and obsessions. A new patient whose fallen into a coma, is brought to her attention by the FBI. He's a serial killer who drowns his female victims then poses their bodies in grotesque scenarios like mannequins. Deane must enter the killer's mind and navigate through his sick fantasies in order to find and save his latest victim. <br /><br />Director Tarsem Singh has incredible visions and set pieces for this production. Each dream sequence is like a nightmare-ish painting in motion, from the landscapes to the costumes. <br /><br />But the plot suffers from lack of history of its characters. Stargher is the only person with a thorough background and he's the last person you want to care about. Without him, you basically have a movie that moves in the present tense only, which is a shame since the movie is so visually stunning and genuinely scary. Lopez is wasted but she's not that amazing an actress anyway, though she's as gorgeous as ever. And Vince Vaughn? I don't even know why he was chosen. This is not his forte and he overacts to boot. He tried too hard to become his character and it showed. Stick to comedy, Vince! Even so, this movie is so visually frightening, I still watch this movie with the lights on and can never fall asleep right away afterward. \n",
      "\n",
      "False Negative Review # 2 : \n",
      " This is a great film for pure entertainment, nothing more and nothing less. It's enjoyable, and a vaguely feel-good movie.<br /><br />A minor, but nonetheless irritating thing about the movie is that we don't know why Justine and Chas broke up. Okay, most first relationships don't work for one reason or another, but they more or less seemed like a nice couple.<br /><br />In a nutshell, it's worth a watch to escape reality. \n",
      "\n",
      "False Negative Review # 3 : \n",
      " While this is a faithful adaptation, it is much less exciting than Greene's novel. Also, it's a bit ridiculous when people say things to Boyer like, \"You're Spanish, aren't you?\"<br /><br />Still, the movie's not at all bad, just slow-moving.<br /><br /> \n",
      "\n",
      "False Negative Review # 4 : \n",
      " no, this is not supposed to be a high budget brilliance, but it is brilliant in its own right. you have to look at it for what it is, a low budget masterpiece involving a zombie rapist wielding a 12 inch love rod that he keeps out flapping in stride. those who came to give this movie a low review were probably looking for the next cult classic or hidden \"gem\" as they say and just didn't quite get there. i love how everyone points out obvious observations such as the \"5 cent baby attached to a fish pole\" hahaha, well, yes. i don't think a movie with a budget like this could afford \"good\" actors or effects so they worked with what they had. the guts and entrails were actually very convincing. the movie was a little choppy going from sequence to sequence but overall, this is one of the better movies i have seen lately that doesn't follow any trend or predictability. very good for a laugh. \n",
      "\n",
      "False Negative Review # 5 : \n",
      " Ayone who whines about how this movie was crap or that it had no plot must have been looking for \"Jean de Florrette\". HELLO! this film was made to be a random act of comedy and in no way involves a plot in any way shape or form. I would also like to remind these whiners that if you are going to flay the crap out of this film that they seem to be missing the point. This film is clearly made for people who don't appreciate the so called \"american humour\" which seems to me just a pile of smutty crap. The point is everyone has an opinion and you should be a bit more appreciative that some peoples sense of humour may not be in line with your own before shooting your mouth off.<br /><br />Thankyou \n",
      "\n",
      "False Positive Review # 1 : \n",
      " Director F.W. Murnau wisely stuck with the silent film medium he knew so well to cover this story of native islander life in the South Seas. The documentary style works very well for the first half of the movie. The landscapes are beautiful, and the daily life activities of the islanders are interesting to watch. The film loses momentum, though, when it begins to concentrate more on the narrative story of two doomed lovers. The storyline just never gets that interesting, despite being handled well by Murnau. Won an Academy Award for best cinematography, although the award probably should have been for best scenery. You can't really credit the DP for getting to shoot in such a beautiful location. \n",
      "\n",
      "False Positive Review # 2 : \n",
      " Being a huge street fighter fan and thoroughly enjoying the previous film, Street Fighter II: The Animated Movie, I was really looking forward to this one!<br /><br />However, it seemed that the film had no real sense of direction or purpose. Most of the characters I could not associate with and it just lacked the intense action that made the other mentioned street fighter film so superior.<br /><br />There are some good points however, the Animation is superb!!! \n",
      "\n",
      "False Positive Review # 3 : \n",
      " I truly was disappointed by this film which I had high hopes for. It seems to have been rushed out to take advantage of the success of screwball comedies at the time (including MGM's own \"Libeled Lady\", which featured two of the same stars) and the success of William Powell and Myrna Loy. Three years into their pairing, they were still attractive to watch and filled with fire in their scenes together, but a weak screenplay and rushed premise destroys any chance of it being a great followup to the previous year's \"Libeled Lady\" and the two \"Thin Man\" movies they had done prior to this. \"Double Wedding\" tells the story of a clothing store manufacturer, Myrna Loy, who is intent on dominating the life of her sister (Florence Rice), future brother-in-law (John Beal), and her own servants (which include Sidney Toler and Mary Gordon). When the independent spirited William Powell comes into her life, having distracted Rice and Beal from Loy's constant control, Loy meets her match. Sounds good so far, right? Yeah, an interesting premise falls short, sad to say, because Loy's character is so one dimensional it is hard to even like her let alone see Powell fall in love with her, which we know will soon happen. It's another attempt to put a career minded woman in her place by changing her views on her what kind of life she has been leading, something Hollywood did often during its golden age. When Loy says she doesn't have time to both run her business and have a man in her life, its a groaner.<br /><br />Fortunately, other than Powell, there is free-spirited Jessie Ralph on board. A salty wealthy older woman who helped Loy start her business, she has an acquaintance with Powell and can see immediately through Loy's cool claims that she loathes him. Rice and Beal are a boring couple, and the whole premise of Powell getting between them is senseless. Then, an ex-wife of Powell's shows up, which really isn't necessary at that late point in the story, and the final wedding scene (where a crowd of people try to get into Powell's tiny trailer) is a weak attempt to bring some farce. (It is funny though, that Powell keeps getting hit by items meant by Loy to hit Edgar Kennedy with; Those chuckles are most welcome, since there are so few others.) Powell and Loy would do better in two later screwball comedies, \"I Love You Again\" and \"Love Crazy\", which are sophisticated, witty, and fun. This film attempts to be all three, but ends up a sophisticated bore. \n",
      "\n",
      "False Positive Review # 4 : \n",
      " This formulaic film (hero's girlfriend marries the villain) just didn't move along fast enough given some of the circumstances of the story. Scott seems too old in this one, and too many times his character turns away from decisive action, deflating the scenes. He responds to the deaths of some of his hands weakly; he escapes from Knox's gang by hiding in a full rain barrel; his escape to the high country and pursuit by John Russell seem superfluous, as does much of the film. The plot could have been tightened. <br /><br />High points of the film: seeing \"Tennessee\" Ernie Ford without a mustache singing \"Man in the Saddle\"; Alfonso Bedoya's too brief scenes as a cook; the color photography of the high country, and the fight scene there with John Russell. \n",
      "\n",
      "False Positive Review # 5 : \n",
      " Leon Errol handles his double role of Uncle Matt Lindsay and Lord Basil Epping superbly, but I have trouble liking the \"Mexican Spitfire\" Series because they all are contrived to produce mistaken identities, and these are telegraphed way in advance. Errol is funny as the stuffy Lord Epping, but I would have preferred a lot more wit and much less repetition. <br /><br /> \n",
      "\n"
     ]
    }
   ],
   "source": [
    "# train dataset misclassification\n",
    "misclassified_data(X_train, y_train, y_pred_train)"
   ]
  },
  {
   "cell_type": "code",
   "execution_count": 42,
   "id": "22abd63c",
   "metadata": {
    "scrolled": true
   },
   "outputs": [
    {
     "name": "stdout",
     "output_type": "stream",
     "text": [
      "False Negative Review # 1 : \n",
      " I think this movie is different apart from most films I've seen. It was exciting in a way, and no matter what others say, I say, I was surprised about the final solution. Certainly didn't see it coming!! Although it's sad, it's worth watching.. I can't think of any movie that would be like this! Actors knew what they were doing. If you say this movie sucks, you say probably what most people would say. But, if someone says that this movie is ordinary, I absolutely don't agree. And Norman Reedus should be more noticed.<br /><br />Maybe I'm freak but I liked this very much. It was kind of mess, but who cares? I'm tired of boring and ordinary movies. \n",
      "\n",
      "False Negative Review # 2 : \n",
      " Don't you just hate them slashers that never seem to get started? It sometimes takes them a full hour of lame red herrings before some real action takes place. \"Tourist Trap\" isn't like that! If it's typically gruesome slashing you want...than it's typically gruesome slashing you'll get! Plenty of it AND constantly from start to finish! This movie contains what is probably the greatest opening sequence in 80's horror cinema when a teenager, on a stroll after engine trouble, is trapped in a deserted house and assaulted by a creepy collection of wax statues. Four other lambs to the slaughter arrive at the house and encounter an utterly insane maniac that looks somewhat like a mixture of Leatherface (from \"Texas Chainsaw Massacre\") and one of those mad sculptors from old wax-museum movies. \"Tourist Trap\" is exciting horror entertainment, with some genuine suspense, grisly images, ultimate weirdness, morbid humor and terrific make-up effects. The plot twists aren't always original and the acting is pretty lousy but, seriously, who cares? The fast pacing and the groovy killer-icon caused this \"Tourist Trap\" to earn a spot amongst my 5 favorite slashers. A bit surprising is the total lack of nudity, though. Too bad, because all the girls look ravishing and after only 10 minutes, the obligatory line \"Who needs a bathing-suit?\" is spoken. \n",
      "\n",
      "False Negative Review # 3 : \n",
      " i saw this movie when i was 13 and i really liked dana plato who later starred in different strokes as kimberly drummond . i don't think it's garbage .it was not meant to be a sequel to the documentary either . its just a cute kids movie about 3 children who go after men trying to find the boggy creek monster . the men get hurt and the kids rescue them with the help of the creature .haunting shots of the arkansas swamp and scenery were neat . this is a good movie for kids ,no real violence a few mild scares but good fun for the young kids. \n",
      "\n",
      "False Negative Review # 4 : \n",
      " I waited a while to post a review of this documentary because when I first saw it over 10 years ago, I wanted to think carefully about what I wanted to write. <br /><br />I found from a documentary standpoint that this is a darned good documentary. It did what it set out to do, show me something I had no idea about and kept me interested in this world it explored. I knew nothing of the Drag world and finding out about them and the \"Balls\" was just spectacular to me. These folks were just so talented with what they do and how they do it, for competition. The catty folks, the complainers (even I was angry when someone told the judge that the coat the Drag Queen was wearing wasn't a man's coat!), the jealous, it's all there like in every other competition. LIKE EVERY OTHER COMPETITION like it. Which I felt was a point.<br /><br />You had the older drag queen talking about how the Balls \"used\" to be compared to the newer drag queens who have changed the Balls and made more competition categories -- and even those who looked on knowing that the future of Balls would change even more when they were ready to walk the runway. It was interesting to hear that some of the contestants were living out on the street two minutes before the ball but came to compete, it was that important to them! Then there was sad stories, stories of who's \"house\" and \"house mother\" brought out the best and the brightest in competition. It was interesting.<br /><br />Now to add after 10 years of seeing this film, I lived through the so called 'Madonna' craze. I spotted a few familiar faces from this documentary who ended up with Madonna during her \"Vogue\" phase and rightfully so. If not for those individuals, Madonna wouldn't have HAD a \"Vogue\" phase, I know that now. Credit should be given where credit is DUE. Makes me wonder, if anyone else from mainstream America would watch this documentary, they'll learn they're not as \"mainstream\" as they think. \n",
      "\n",
      "False Negative Review # 5 : \n",
      " I had never heard of this film until I came across it by accident when browsing IMDB. I saw it had gotten many awful reviews containing very colorful expletives on how much it stunk. Of course this meant I had to see it. I was pleasantly surprised as Whipped is actually rather a good movie. I watched it with a group of friends and we laughed more than we had at many recent highly acclaimed Hollywood fluff comedies. This is an independent film and as such portrays its subject matter (sex and dating) without the usual Hollywood fakery. I distinctly suspect that people's opinion of this film will depend very much on their experience of life. If you've never dated or partied much you won't get this movie because you won't have met people like these characters. If you have, you'll recognize many of the situations that portrayed here in comedic fashion. The ending was also good, as it did not portray women as unreal, helpless, virginal romantics in contrast to many Hollywood movies. \n",
      "\n",
      "False Positive Review # 1 : \n",
      " Ostensibly a film that predicts the coming trends in British popular music, it's wrong on so many fronts that it's laughable. Tommy Quickly? The Honeycombs? The movie DOES include a song by the Spencer Davis group, two by the Animals, and one tacked on live film of the Beatles doing their live version of Twist and Shout (all 1:20). But all in all, an awkward display of British music circa 1964. Oh, and Herman's Hermits. \n",
      "\n",
      "False Positive Review # 2 : \n",
      " For 50 years after world war 2 the United States was in a state where key segments of the economy were dominated by military interests. At the same time, because of the draft and wars, everyone in society had served, or was connected to someone who had.<br /><br />This allowed for a minigenre based on the notion of American cleverness in the midst of an inflexible military machine. Sometimes that machine was non-US military, for example in prisoner of war situations. Once removed are stories in other machines: science fiction and corporate, but they always reference this military genre, and indeed the testosterone shots of action even reference their comic sibling.<br /><br />You can trace it, I think, perhaps starting in the comic, meaning Amrican, sections of \"The Great Escape,\" which immediately spawned TeeVee offspring in \"Gomer Pyle\" and \"Hogan's Heros.\" Then a second wave triggered by \"Catch 22\" and \"MASH,\" both of which had been real life, then books, then movies, and in the MASH case, then TeeVee.<br /><br />But before all that, there was the \"Phil Silvers Show,\" about a Sergeant Bilko and this followed from \"Mister Roberts.\" A happy con man, who only committed harmless crimes, and then only as response to an overly crude system which attempted to limit his life. This was in the day when TeeVee shows mattered. You absorbed them instead of merely carrying them to work to chatter about. It wasn't particularly clever in any way, except in finding that crack between what we wanted in control and freedom. <br /><br />Its one large zone where Americans worked out how they think about forgivable, even endearing lies in a military context, a zone that has been appropriated by one of our political parties here.<br /><br />Because its big, it sometimes pays off in laughs. \"Stripes\" was pretty darn funny I thought. It had the twist of the misfits actually defeating serious foes, sort of folding in some \"Dirty Dozen.\" And sexual adventure.<br /><br />Now this, well before the cultural wars escalated. It tries to touch that sweet spot, like other remakes that manhandled Steve Martin. It is so unfunny, you actually root for the Army to be the stronger player. Yet another way to track how societies work out the handles on military power.<br /><br />Ted's Evaluation -- 1 of 3: You can find something better to do with this part of your life. \n",
      "\n",
      "False Positive Review # 3 : \n",
      " It was inferred by a previous poster that the military would not be subordinate to the police in a disaster as depicted in the film. In fact the military role would be to supply aid to the civil authorities when requested to do so. The civil authorities would retain primacy. In practise the Army would need 48 hours or so to mobilise themselves, there not being much Army presence in London, especially with current overseas commitments. Even then they would be dependent on calling in the TA.<br /><br />As for COBRA, we were given the impression that it was a full governmental emergency department in its own right - even reference to a Met Police Cobra Division. In fact COBRA stands for Cabinet Office Briefing Room \"A\". It's just the room where the PM or DPM meet their advisers to discuss the current emergency! \n",
      "\n",
      "False Positive Review # 4 : \n",
      " If you're after the real story of early Baroque painter Artemisia Gentileschi, you'll be disappointed- however if you're after a reasonably crafted bodice ripper with an art theme, you've found you're movie.<br /><br />This film is such a foundationally inaccurate depiction of Artemisia Gentileschi's life that it almost made me weep. (Type in Artemisia inaccuracies in Google and check out some of the fact vs. fiction articles.) From a purely technical point of view though, the film was alright: the sets, costumes, and especially the chiaroscuro lighting helped create an immersive early 17th century experience; although the above mentioned GLARING FACTUAL INACCURACIES let it down a bit.<br /><br />I wonder how the director/co-writer AgnÃ¨s Merlet defended her film at the time? Perhaps she refused to portray Artemisia as a victim, which would've been unfortunate, because lets face it, she was. \n",
      "\n",
      "False Positive Review # 5 : \n",
      " In this movie, ChÃ¡vez supporters (either venezuelan and not-venezuelan) just lie about a dramatic situation in our country. <br /><br />They did not say that the conflict started because of ChÃ¡vez announcement firing a lot of PDVSA best workers just for political issues.<br /><br />They did not say anything about more than 96 TV interruptions transmitted by ChÃ¡vez during only 3 days in \"CADENA NACIONAL\" (a kind of confiscation o private TV signals). Each one with about 20 minutes of duration.<br /><br />They did not tell us anything about The quiting announcement made by General en Jefe Lucas Rincon Romero, Inspector General of the army forces, who is a traditional supporter of ChÃ¡vez. Even now, in despite of his announcement, he is the Ministro de Interior y Justicia. After ChÃ¡vez return he occuped the Charge of Ministro del Defensa (equals to Defense Secretary in US).<br /><br />They did not say anything about ChÃ¡vez orders about shooting against a pacifical people concentration who was claiming for elections.<br /><br />They did not say anything about the people in this concentration that were killed by ChÃ¡vez Supporters (either civilians and Military official forces).<br /><br />They present some facts in a wrong order, in order to lie.<br /><br />They did not say anything about venezuelan civilian society thats are even now claiming for an elections in order to solve the crisis and ChÃ¡vez actions in order to avoid the elections.<br /><br />That's why i tell you.... This movie is just a lot of lies or a big lie. \n",
      "\n"
     ]
    }
   ],
   "source": [
    "# test dataset misclassification\n",
    "misclassified_data(X_test, y_test, y_pred_test)"
   ]
  },
  {
   "cell_type": "markdown",
   "id": "e6844cd5",
   "metadata": {},
   "source": [
    "## Reasoning for why reviews get misclassified:\n",
    "\n",
    "One of the reasons why reviews are misclassified is because of the process of sentiment analysis. Given reviews may contain certain positive tokens with higher frequency than the negative tokens, and therefore are misclassified even though they convey \n",
    "negative feedback. \n",
    "\n",
    "For instance, \"As with many sequels, this one just doesn't have the quality or the impact of the original. The first one belongs up there with the rest of the greats. This one just doesn't cut it. The first film had a magical \"good time\" feeling about it that is totally missing from this film.\"  The tokens like \"greats\", \"good\", etc. are usually associated with positive sentiment and therefore, the review is classified as false positive. Similarily, negative tokens are usually associated with negative sentiment and therefore, such reviews are classified as false negatives even though the review may actually be conveying positive feedback. In this way, the frequency of positive and negative sentiments of tokens affects the overall classification decision. \n"
   ]
  },
  {
   "cell_type": "markdown",
   "id": "XbzttYVnBo7W",
   "metadata": {
    "id": "XbzttYVnBo7W"
   },
   "source": [
    "# Q8. Modularize your calssifier (10 points)\n",
    "1. Convert your code into a python module text_classifier.py\n",
    "\n",
    "2. The user should be able to launch the application on command prompt using python test_classifier.py command. The module will automatically load the model paramters from a local file of your choice and be ready to take the input from user on command prompt. The program will preprocess user input, tokenize and predict the class.\n",
    "\n",
    "3. Your module will take the input from user and output sentiment class in an indefinite loop. The output should printout the probabilities for each input token along with the final classification decision. Program will quit if user enters X.\n"
   ]
  },
  {
   "cell_type": "code",
   "execution_count": 43,
   "id": "f0e30030",
   "metadata": {},
   "outputs": [],
   "source": [
    "# writes current dataset logprior and loglikelihood values to a .txt file for predicting user given reviews in the \n",
    "# text_classifier.py\n",
    "\n",
    "f = open(\"pre_train_prior_likelihood.txt\", \"w\", encoding='utf-8')\n",
    "f.write(str(logprior) + \"\\n\")\n",
    "\n",
    "for k,v in loglikelihood.items():\n",
    "    f.write(str(k) + ',' + str(v) + '\\n')\n",
    "\n",
    "f.close()"
   ]
  },
  {
   "cell_type": "markdown",
   "id": "82e6e4d1",
   "metadata": {
    "id": "82e6e4d1"
   },
   "source": [
    "# Q9. Theory Questions: (10 points)\n",
    "\n",
    "1. Why is Laplace Smoothing or Additive Smoothing required while executing Naive Bayes operations, especially for text classification? Show how not having additive smoothing leads to bad outcomes by using an example of training and the test set. (10 points)\n",
    "\n",
    "\n",
    "2. Why are logarithmic values computed instead of only probability values in the Naive Bayes algorithm? (5 points)\n",
    "\n",
    "\n",
    "Answers:\n",
    "\n",
    "1. Laplace Smoothing is required to solve the problem of zero probability i.e. when a query point contains new observation, which is not observed during training while calculating probabilities. The idea is to never have zero probbability for posterior when computing probability for given features. So, to avoid such issues is to add-one (Laplace) smoothing. Let's illustrate with an example if additive smoothing wasn't applied to dataset and how it can lead to unwanted outcomes. In our training dataset, we have simple positive comments such as \"The movie is great\", \"I enjoyed the movie\", etc., however, in test dataset, we encountered complex positive comments with unknown tokens such as \"The movie facinates me\". The algorithm can distinguish between words that appeared in the vocabulary, but not words like \"fascinates\". Thus, it will lead to zero probability when classifying the review and ultimaltely, misclassifying the review. \n",
    "\n",
    "\n",
    "2. Naive Bayes algorithm calculations are computed in logarithmic space to avoid underflow and increase speed. If only probability values are used, multiplying very small numbers will lead to even smaller numbers and it will be difficult to store and compare these very small numbers. Therefore, logarithmic function will solve this problem by mapping the probability values from [0,1] range to the (-inf,0] range. Additionally, computation overhead of multiplication operation is extremely expensive and thus, log can increase the speed by turning multiplication to addition operations. "
   ]
  },
  {
   "cell_type": "code",
   "execution_count": null,
   "id": "8f115b09",
   "metadata": {},
   "outputs": [],
   "source": []
  }
 ],
 "metadata": {
  "colab": {
   "collapsed_sections": [],
   "name": "CS6120_NLP_Assignment_1_Notebook.ipynb",
   "provenance": [],
   "toc_visible": true
  },
  "kernelspec": {
   "display_name": "Python 3 (ipykernel)",
   "language": "python",
   "name": "python3"
  },
  "language_info": {
   "codemirror_mode": {
    "name": "ipython",
    "version": 3
   },
   "file_extension": ".py",
   "mimetype": "text/x-python",
   "name": "python",
   "nbconvert_exporter": "python",
   "pygments_lexer": "ipython3",
   "version": "3.11.4"
  }
 },
 "nbformat": 4,
 "nbformat_minor": 5
}
