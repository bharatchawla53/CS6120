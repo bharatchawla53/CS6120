{
 "cells": [
  {
   "cell_type": "markdown",
   "id": "bc97d6da",
   "metadata": {
    "id": "bc97d6da"
   },
   "source": [
    "## CS 6120: Natural Language Processing - Prof. Ahmad Uzair\n",
    "\n",
    "### Assignment 1: Naive Bayes\n",
    "### Total Points: 100 points\n",
    "\n",
    "You will be dealing with movie review data that includes both positive and negative reviews in this assignment. You will use Sentiment Analysis to assess if a given review is positive or negative using the provided dataset.\n",
    "\n",
    "Therefore, we will make use of Naive Bayes algorithm to perform sentiment analysis on the movie review dataset."
   ]
  },
  {
   "cell_type": "code",
   "execution_count": 1,
   "id": "a03450ac",
   "metadata": {
    "id": "a03450ac"
   },
   "outputs": [],
   "source": [
    "## Importing the Libraries\n",
    "import numpy as np\n",
    "import math\n",
    "import pandas as pd\n",
    "import re\n",
    "import nltk\n",
    "from nltk.corpus import stopwords\n",
    "from nltk.stem import PorterStemmer\n",
    "from nltk.stem import WordNetLemmatizer\n",
    "from nltk.tokenize import word_tokenize\n",
    "import warnings\n",
    "import seaborn as sns\n",
    "from sklearn.model_selection import train_test_split\n",
    "from sklearn.metrics import confusion_matrix, ConfusionMatrixDisplay\n",
    "import string\n",
    "import matplotlib.pyplot as plt\n",
    "warnings.filterwarnings(\"ignore\")"
   ]
  },
  {
   "cell_type": "markdown",
   "id": "fc584cc2",
   "metadata": {
    "id": "fc584cc2"
   },
   "source": [
    "## Reading the data\n",
    "\n",
    "When reading the data, ensure that the '.csv' file is in the same location where your jupyter notebook is used. This way the files are organized and easy to read using the pandas library. "
   ]
  },
  {
   "cell_type": "code",
   "execution_count": 2,
   "id": "3c9ffbf5",
   "metadata": {
    "id": "3c9ffbf5"
   },
   "outputs": [],
   "source": [
    "## Reading the data and removing columns that are not important. \n",
    "df = pd.read_csv(\"movie_reviews.csv\", sep = ',', encoding = 'latin-1', usecols = lambda col: col not in [\"Unnamed: 2\", \"Unnamed: 3\", \"Unnamed: 4\"])"
   ]
  },
  {
   "cell_type": "code",
   "execution_count": 3,
   "id": "f7fa8ac0",
   "metadata": {
    "colab": {
     "base_uri": "https://localhost:8080/",
     "height": 206
    },
    "id": "f7fa8ac0",
    "outputId": "69edaf28-1e2e-4ec7-9530-b30a2853ab9e"
   },
   "outputs": [
    {
     "data": {
      "text/html": [
       "<div>\n",
       "<style scoped>\n",
       "    .dataframe tbody tr th:only-of-type {\n",
       "        vertical-align: middle;\n",
       "    }\n",
       "\n",
       "    .dataframe tbody tr th {\n",
       "        vertical-align: top;\n",
       "    }\n",
       "\n",
       "    .dataframe thead th {\n",
       "        text-align: right;\n",
       "    }\n",
       "</style>\n",
       "<table border=\"1\" class=\"dataframe\">\n",
       "  <thead>\n",
       "    <tr style=\"text-align: right;\">\n",
       "      <th></th>\n",
       "      <th>review</th>\n",
       "      <th>sentiment</th>\n",
       "    </tr>\n",
       "  </thead>\n",
       "  <tbody>\n",
       "    <tr>\n",
       "      <th>0</th>\n",
       "      <td>One of the other reviewers has mentioned that ...</td>\n",
       "      <td>positive</td>\n",
       "    </tr>\n",
       "    <tr>\n",
       "      <th>1</th>\n",
       "      <td>A wonderful little production. &lt;br /&gt;&lt;br /&gt;The...</td>\n",
       "      <td>positive</td>\n",
       "    </tr>\n",
       "    <tr>\n",
       "      <th>2</th>\n",
       "      <td>I thought this was a wonderful way to spend ti...</td>\n",
       "      <td>positive</td>\n",
       "    </tr>\n",
       "    <tr>\n",
       "      <th>3</th>\n",
       "      <td>Petter Mattei's \"Love in the Time of Money\" is...</td>\n",
       "      <td>positive</td>\n",
       "    </tr>\n",
       "    <tr>\n",
       "      <th>4</th>\n",
       "      <td>Probably my all-time favorite movie, a story o...</td>\n",
       "      <td>positive</td>\n",
       "    </tr>\n",
       "  </tbody>\n",
       "</table>\n",
       "</div>"
      ],
      "text/plain": [
       "                                              review sentiment\n",
       "0  One of the other reviewers has mentioned that ...  positive\n",
       "1  A wonderful little production. <br /><br />The...  positive\n",
       "2  I thought this was a wonderful way to spend ti...  positive\n",
       "3  Petter Mattei's \"Love in the Time of Money\" is...  positive\n",
       "4  Probably my all-time favorite movie, a story o...  positive"
      ]
     },
     "execution_count": 3,
     "metadata": {},
     "output_type": "execute_result"
    }
   ],
   "source": [
    "# print head of data frame with help of head function\n",
    "df.head()"
   ]
  },
  {
   "cell_type": "markdown",
   "id": "1749da04",
   "metadata": {
    "id": "1749da04"
   },
   "source": [
    "## Count plot of the output categories: positive or negative\n",
    "\n",
    "Feel free to take a look at the output and whether the classes are balanced or imbalanced. "
   ]
  },
  {
   "cell_type": "code",
   "execution_count": 4,
   "id": "c152e8a4",
   "metadata": {
    "colab": {
     "base_uri": "https://localhost:8080/",
     "height": 515
    },
    "id": "c152e8a4",
    "outputId": "a2ba0476-3238-4511-fcf0-780508493f48"
   },
   "outputs": [
    {
     "data": {
      "image/png": "[encoded data removed]",
      "text/plain": [
       "<Figure size 640x480 with 1 Axes>"
      ]
     },
     "metadata": {},
     "output_type": "display_data"
    }
   ],
   "source": [
    "# plots the sentiment counts\n",
    "plt.figure(figsize = None)\n",
    "sns.countplot(x = 'sentiment', data = df)\n",
    "plt.title(\"Positive Vs. Negative reviews count\", fontsize = 15)\n",
    "plt.show()\n"
   ]
  },
  {
   "cell_type": "markdown",
   "id": "9b8549f2",
   "metadata": {
    "id": "9b8549f2"
   },
   "source": [
    "## Upsampling the minority class: (5 points)\n",
    "\n",
    "It is known that Naive bayes is not robust to class imbalance. It could be seen above that the data is little imbalanced. Therefore, class balancing can be done before giving it to the Naive Bayes model for prediction. \n",
    "\n",
    "Feel free to use 'resample' library from sklearn. "
   ]
  },
  {
   "cell_type": "code",
   "execution_count": 5,
   "id": "yHJTAqrW7XMN",
   "metadata": {
    "id": "yHJTAqrW7XMN"
   },
   "outputs": [],
   "source": [
    "# hint: use resample from sklearn.utils\n",
    "from sklearn.utils import resample\n",
    "\n",
    "df_majority = df.loc[df['sentiment'] == 'positive']\n",
    "df_minority = df.loc[df['sentiment'] == 'negative']\n",
    "\n",
    "negative_upsample = resample(df_minority, replace = True, \n",
    "                        n_samples = df_majority.shape[0],\n",
    "                        random_state = 101)\n",
    "\n",
    "# concat two data frames i,e majority class data set and upsampled minority class data set\n",
    "df_upsampled = pd.concat([df_majority, negative_upsample])\n",
    "df_upsampled = df_upsampled.sample(frac = 1)"
   ]
  },
  {
   "cell_type": "code",
   "execution_count": 6,
   "id": "6a9329bb",
   "metadata": {
    "id": "6a9329bb"
   },
   "outputs": [
    {
     "name": "stdout",
     "output_type": "stream",
     "text": [
      "(12474, 2)\n"
     ]
    }
   ],
   "source": [
    "## Just to ensure that upsampling was done successfully, take a look at the shape of the data in \n",
    "## this cell.\n",
    "\n",
    "# print the shape of data set with the help of shape function having \"negative\" as class label\n",
    "print(df_upsampled[df_upsampled['sentiment'] == 'negative'].shape)"
   ]
  },
  {
   "cell_type": "markdown",
   "id": "6f8bf6e7",
   "metadata": {
    "id": "6f8bf6e7"
   },
   "source": [
    "### Expected Output : \n",
    "(12474, 2)"
   ]
  },
  {
   "cell_type": "code",
   "execution_count": 7,
   "id": "bdea8155",
   "metadata": {
    "colab": {
     "base_uri": "https://localhost:8080/"
    },
    "id": "bdea8155",
    "outputId": "c665c4b9-826e-4f4e-e30e-06e0935a0622"
   },
   "outputs": [
    {
     "name": "stdout",
     "output_type": "stream",
     "text": [
      "(12474, 2)\n"
     ]
    }
   ],
   "source": [
    "## Ensure that the same number of data points are present for both 'positive' and 'negative' data\n",
    "\n",
    "# print the shape of data set with the help of shape function having \"positive\" as class label\n",
    "print(df_upsampled[df_upsampled['sentiment'] == 'positive'].shape)"
   ]
  },
  {
   "cell_type": "markdown",
   "id": "626f01d5",
   "metadata": {
    "id": "626f01d5"
   },
   "source": [
    "### Expected Output : \n",
    "(12474, 2)"
   ]
  },
  {
   "cell_type": "code",
   "execution_count": 8,
   "id": "NoW5z6SzAeP8",
   "metadata": {
    "id": "NoW5z6SzAeP8"
   },
   "outputs": [],
   "source": [
    "## In this cell, we are going to be dividing the data into train and test points\n",
    "## Ensure that you store the upsampled data in a variable called 'df_upsampled' \n",
    "## so that the below operations are performed successfully\n",
    "\n",
    "\n",
    "## Considering 10000 positive and 10000 negative data points\n",
    "negative_data_points_train = df_upsampled[df_upsampled['sentiment'] == 'negative'].iloc[:10000]\n",
    "positive_data_points_train = df_upsampled[df_upsampled['sentiment'] == 'positive'].iloc[:10000]\n",
    "\n",
    "## Considering the remaining data points for test\n",
    "negative_data_points_test = df_upsampled[df_upsampled['sentiment'] == 'negative'].iloc[10000:]\n",
    "positive_data_points_test = df_upsampled[df_upsampled['sentiment'] == 'positive'].iloc[10000:]\n",
    "\n",
    "## Concatenate the training positive and negative reviews\n",
    "X_train = pd.concat([positive_data_points_train['review'], negative_data_points_train['review']])\n",
    "## Concatenating the training positive and negative outputs\n",
    "y_train = pd.concat([positive_data_points_train['sentiment'], negative_data_points_train['sentiment']])\n",
    "\n",
    "## Concatenating the test positive and negative reviews\n",
    "X_test = pd.concat([positive_data_points_test['review'], negative_data_points_test['review']])\n",
    "## Concatenating the test positive and negative outputs\n",
    "y_test = pd.concat([positive_data_points_test['sentiment'], negative_data_points_test['sentiment']])\n"
   ]
  },
  {
   "cell_type": "code",
   "execution_count": 9,
   "id": "6428047d",
   "metadata": {
    "colab": {
     "base_uri": "https://localhost:8080/"
    },
    "id": "6428047d",
    "outputId": "10d10601-0ce0-4688-c4d3-75fa386583fd"
   },
   "outputs": [
    {
     "name": "stdout",
     "output_type": "stream",
     "text": [
      "positive    10000\n",
      "negative    10000\n",
      "Name: sentiment, dtype: int64\n"
     ]
    }
   ],
   "source": [
    "## Take a look at the total number of classes and their count using '.value_counts()' for y_train and y_test.\n",
    "## Ensure that there are equal number of positive and negative reviews. \n",
    "\n",
    "print(y_train.value_counts())"
   ]
  },
  {
   "cell_type": "markdown",
   "id": "7dfe6517",
   "metadata": {
    "id": "7dfe6517"
   },
   "source": [
    "### Expected Output:\n",
    "negative    10000<br>\n",
    "positive    10000<br>\n",
    "Name: sentiment, dtype: int64"
   ]
  },
  {
   "cell_type": "code",
   "execution_count": 10,
   "id": "2beae1d6",
   "metadata": {
    "colab": {
     "base_uri": "https://localhost:8080/"
    },
    "id": "2beae1d6",
    "outputId": "6896f930-6a1a-45db-b74c-d080c9aedd0c"
   },
   "outputs": [
    {
     "name": "stdout",
     "output_type": "stream",
     "text": [
      "positive    2474\n",
      "negative    2474\n",
      "Name: sentiment, dtype: int64\n"
     ]
    }
   ],
   "source": [
    "print(y_test.value_counts())"
   ]
  },
  {
   "cell_type": "markdown",
   "id": "9163f897",
   "metadata": {
    "id": "9163f897"
   },
   "source": [
    "### Expected Output : \n",
    "negative    2474<br>\n",
    "positive    2474<br>\n",
    "Name: sentiment, dtype: int64"
   ]
  },
  {
   "cell_type": "markdown",
   "id": "6501699b",
   "metadata": {
    "id": "6501699b"
   },
   "source": [
    "## Q1. Pre-process the reviews: (10 points)\n",
    "\n",
    "We know that a review contains links, punctuation, stopwords and many other words that don't give a lot of meaning for the Naive Bayes model for prediction. \n",
    "\n",
    "In the cell below, one must implement text-preprocessing and remove links, punctuations and stopwords. It is also important to lowercase the letters so that 'Admire' and 'admire' are not treated as different words. \n",
    "\n",
    "In addition to this, perform stemming operation so that similar words are reduced. To know more about stemming, feel free to take a look at this link.\n",
    "\n",
    "https://nlp.stanford.edu/IR-book/html/htmledition/stemming-and-lemmatization-1.html"
   ]
  },
  {
   "cell_type": "code",
   "execution_count": 11,
   "id": "CirLN9-ddQ1r",
   "metadata": {
    "id": "CirLN9-ddQ1r"
   },
   "outputs": [],
   "source": [
    "# TASK CELL\n",
    "\n",
    "def clean_review(review):\n",
    "    '''\n",
    "    Input:\n",
    "        review: a string containing a review.\n",
    "    Output:\n",
    "        review_cleaned: a processed review. \n",
    "\n",
    "    '''   \n",
    "    # convert to lowercase\n",
    "    review = review.lower()\n",
    "    \n",
    "    # remove links i.e. <br> tags\n",
    "    review = re.sub(\"<br />\", \" \", review)\n",
    "    \n",
    "    # remove punctuations\n",
    "    review = review.translate(str.maketrans('', '', string.punctuation))\n",
    "    \n",
    "    # remove stopwords\n",
    "    word_tokens = word_tokenize(review)\n",
    "    stop_words = set(stopwords.words('english'))\n",
    "    word_tokens_without_sw = [word for word in word_tokens if not word in stop_words]\n",
    "    \n",
    "    # concatenate word tokens without sw to form a sentence\n",
    "    filtered_words = (\" \").join(word_tokens_without_sw)\n",
    "    \n",
    "    # stemming operation\n",
    "    word_tokens = word_tokenize(filtered_words)\n",
    "    lemmatizer = WordNetLemmatizer()\n",
    "    singles = [lemmatizer.lemmatize(word) for word in word_tokens]\n",
    "    \n",
    "    # concatenate word tokens back to form a sentence\n",
    "    review_cleaned = (\" \").join(singles)\n",
    "    \n",
    "    return review_cleaned"
   ]
  },
  {
   "cell_type": "markdown",
   "id": "a7632fe5",
   "metadata": {
    "id": "a7632fe5"
   },
   "source": [
    "## Q2. Implement a find_occurrence function (5 points):\n",
    "\n",
    "In this function, we find the total occurrence of a word giving information such as label, word and frequency dictionary.\n",
    "\n",
    "Note that this function is used later in the code when we are going to be predicting the output using Naive Bayes. "
   ]
  },
  {
   "cell_type": "code",
   "execution_count": 12,
   "id": "eb282b81",
   "metadata": {
    "id": "eb282b81"
   },
   "outputs": [],
   "source": [
    "# TASK CELL\n",
    "def find_occurrence(frequency, word, label):\n",
    "    '''\n",
    "    Params:\n",
    "        frequency: a dictionary with the frequency of each pair (or tuple)\n",
    "        word: the word to look up\n",
    "        label: the label corresponding to the word\n",
    "    Return:\n",
    "        n: the number of times the word with its corresponding label appears.\n",
    "    '''\n",
    "    \n",
    "    # given the word and label, it finds the frequency else returns 0\n",
    "    return frequency.get((word, label), 0); "
   ]
  },
  {
   "cell_type": "markdown",
   "id": "29a2249d",
   "metadata": {
    "id": "29a2249d"
   },
   "source": [
    "### Converting output to numerical format:\n",
    "\n",
    "We have outputs as 'positive' or 'negative'. In the cell below, we convert it to a numerical format. "
   ]
  },
  {
   "cell_type": "code",
   "execution_count": 13,
   "id": "bcdc2b2c",
   "metadata": {
    "id": "bcdc2b2c"
   },
   "outputs": [],
   "source": [
    "# With the use of mapping function, we replace the label in the form of string to an integer. \n",
    "\n",
    "output_map = {'positive': 0, 'negative': 1}\n",
    "y_train = y_train.map(output_map)\n",
    "y_test = y_test.map(output_map)"
   ]
  },
  {
   "cell_type": "code",
   "execution_count": 14,
   "id": "3dde0bbd",
   "metadata": {
    "colab": {
     "base_uri": "https://localhost:8080/"
    },
    "id": "3dde0bbd",
    "outputId": "223dfbc1-8efe-4183-b6d7-c9cb025cb285"
   },
   "outputs": [
    {
     "data": {
      "text/plain": [
       "0    10000\n",
       "1    10000\n",
       "Name: sentiment, dtype: int64"
      ]
     },
     "execution_count": 14,
     "metadata": {},
     "output_type": "execute_result"
    }
   ],
   "source": [
    "# Ensuring that there are equal number of classes on the training data. \n",
    "y_train.value_counts()"
   ]
  },
  {
   "cell_type": "code",
   "execution_count": 15,
   "id": "f2959b85",
   "metadata": {
    "colab": {
     "base_uri": "https://localhost:8080/",
     "height": 178
    },
    "id": "f2959b85",
    "outputId": "e514214b-cd57-43fc-875d-1821ddab63f8"
   },
   "outputs": [
    {
     "data": {
      "text/plain": [
       "'This movie tells the story of nine ambitious teens trying to follow their dream at the infamous New York High School For Performing Arts: Coco, the singer, Bruno, the modern Mozart, Lisa, Leroy, and Hilary, the struggling dancers, Ralph, the comedian, and Doris and Montgomery, the actors. While they all think they have what it takes to really reach their goals, they are going to need a lot more than just their talent. They will have to deal with rejection, heartbreak, education, pain, and love in order to achieve their fame.<br /><br />\"Fame\" is one of the most entertaining, classic, and inspirational movies of all time. It has everything a teen drama/musical should have: extremely catchy, entertaining, Oscar-winning songs performed by the amazing Irene Cara, stunning dance numbers, a very attractive cast that makes you believe in the characters, and a great story, including the heartbreaking scene when Coco meets the video camera.<br /><br />Like I said, the cast is awesome. Irene Cara can really act, and it\\'s not only her singing that makes her shine here as Coco. Lee Curreri is very good as Bruno. Barry Miller brings a lot of humor to Ralph. Maureen Teefy is great as the outcast Doris, and look closely, and you\\'ll see Paul McCrane of \"ER\" as Montgomery.<br /><br />This is truly an amazing film. \"Fame\" really touched me and inspired me to keep following my dreams as an actor and singer. Any movie that moves me this much is a winner in my book. A must-see! The film really touched me and inspired me to follow my dreams as an actor and singer.'"
      ]
     },
     "execution_count": 15,
     "metadata": {},
     "output_type": "execute_result"
    }
   ],
   "source": [
    "## Choosing a random review and taking a look at it.\n",
    "X_train.iloc[0]"
   ]
  },
  {
   "cell_type": "markdown",
   "id": "ed5e43c9",
   "metadata": {
    "id": "ed5e43c9"
   },
   "source": [
    "From the above cell output, it could be seen that there are a lot of words that don't add a lot of meaning to the text. \n",
    "\n",
    "Therefore, those words would be removed. It also reduces the computation time. \n",
    "\n",
    "Therefore, it is a good practice we are following."
   ]
  },
  {
   "cell_type": "code",
   "execution_count": 16,
   "id": "ad3937ea",
   "metadata": {
    "colab": {
     "base_uri": "https://localhost:8080/"
    },
    "id": "ad3937ea",
    "outputId": "68985efe-32cd-4c11-ed5b-2e1e1b297e73"
   },
   "outputs": [
    {
     "name": "stdout",
     "output_type": "stream",
     "text": [
      "movie tell story nine ambitious teen trying follow dream infamous new york high school performing art coco singer bruno modern mozart lisa leroy hilary struggling dancer ralph comedian doris montgomery actor think take really reach goal going need lot talent deal rejection heartbreak education pain love order achieve fame fame one entertaining classic inspirational movie time everything teen dramamusical extremely catchy entertaining oscarwinning song performed amazing irene cara stunning dance number attractive cast make believe character great story including heartbreaking scene coco meet video camera like said cast awesome irene cara really act singing make shine coco lee curreri good bruno barry miller brings lot humor ralph maureen teefy great outcast doris look closely youll see paul mccrane er montgomery truly amazing film fame really touched inspired keep following dream actor singer movie move much winner book mustsee film really touched inspired follow dream actor singer\n"
     ]
    }
   ],
   "source": [
    "custom_review = X_train.iloc[0]\n",
    "\n",
    "# print cleaned review\n",
    "print(clean_review(custom_review))"
   ]
  },
  {
   "cell_type": "markdown",
   "id": "3e6cc440",
   "metadata": {
    "id": "3e6cc440"
   },
   "source": [
    "We now use this function to pre-process the review and remove words that don't add a lot of meaning in our model. "
   ]
  },
  {
   "cell_type": "markdown",
   "id": "5a762960",
   "metadata": {
    "id": "5a762960"
   },
   "source": [
    "## Q3. Implementing review counter function: (5 points)\n",
    "\n",
    "It is now time to implement the count function for the reviews. \n",
    "\n",
    "In this function, we count the occurrence of words and get the probabilities \n",
    "for the words based on the training data. \n",
    "\n",
    "In other words, we get the probability of occurrence of a word, given that the output is 'positive'.\n",
    "\n",
    "Similarly, we also compute the probability of occurence of a word, given that the output is 'negative'.\n",
    "\n"
   ]
  },
  {
   "cell_type": "code",
   "execution_count": 17,
   "id": "5de61f77",
   "metadata": {
    "id": "5de61f77"
   },
   "outputs": [],
   "source": [
    "# TASK CELL\n",
    "def review_counter(output_occurrence, reviews, positive_or_negative):\n",
    "    '''\n",
    "    Params:\n",
    "        output_occurrence: a dictionary that will be used to map each pair to its frequency\n",
    "        reviews: a list of reviews\n",
    "        positive_or_negative: a list corresponding to the sentiment of each review (either 0 or 1)\n",
    "    Return:\n",
    "        output: a dictionary mapping each pair to its frequency\n",
    "    '''\n",
    "    ## Steps :\n",
    "    # define the key, which is the word and label tuple\n",
    "    # if the key exists in the dictionary, increment the count\n",
    "    # else, if the key is new, add it to the dictionary and set the count to 1\n",
    "    \n",
    "    for label, review in zip(positive_or_negative, reviews):\n",
    "        # clean up the review\n",
    "        split_review = clean_review(review).split()\n",
    "        for word in split_review:\n",
    "            # Your code here\n",
    "            key = (word, label)\n",
    "            if key in output_occurrence:\n",
    "                output_occurrence[key] = output_occurrence.get(key) + 1\n",
    "            else:\n",
    "                output_occurrence[key] = 1\n",
    "   \n",
    "    return output_occurrence"
   ]
  },
  {
   "cell_type": "markdown",
   "id": "18238223",
   "metadata": {
    "id": "18238223"
   },
   "source": [
    "### Test your function with example reviews:\n",
    "\n",
    "Feel free to run the cell below and understand whether the above function that you have defined is producing the optimum results. "
   ]
  },
  {
   "cell_type": "code",
   "execution_count": 18,
   "id": "07a4c58a",
   "metadata": {
    "colab": {
     "base_uri": "https://localhost:8080/"
    },
    "id": "07a4c58a",
    "outputId": "dd9e148a-34a9-4cfe-9077-c5de33493d7a"
   },
   "outputs": [
    {
     "data": {
      "text/plain": [
       "{('got', 1): 1,\n",
       " ('bored', 1): 2,\n",
       " ('throught', 1): 1,\n",
       " ('moview', 1): 1,\n",
       " ('movie', 0): 2,\n",
       " ('fantastic', 0): 1,\n",
       " ('watch', 1): 1,\n",
       " ('complete', 1): 1,\n",
       " ('waste', 1): 1,\n",
       " ('time', 1): 1,\n",
       " ('money', 1): 1,\n",
       " ('enjoyed', 0): 1,\n",
       " ('fullest', 0): 1}"
      ]
     },
     "execution_count": 18,
     "metadata": {},
     "output_type": "execute_result"
    }
   ],
   "source": [
    "# Testing your function\n",
    "\n",
    "result = {}\n",
    "reviews = ['got bored throught the moview', 'The movie was fantastic', 'Will not watch it again', 'Was bored, it was a complete waste of time and money', 'Enjoyed the movie to the fullest']\n",
    "ys = [1, 0, 1, 1, 0]\n",
    "review_counter(result,reviews, ys)"
   ]
  },
  {
   "cell_type": "markdown",
   "id": "927f89bb",
   "metadata": {
    "id": "927f89bb"
   },
   "source": [
    "### Expected Output:\n",
    " {('bored', 1): 2, <br>\n",
    " ('complete', 1): 1, <br>\n",
    " ('enjoyed', 0): 1, <br>\n",
    " ('fantastic', 0): 1, <br>\n",
    " ('fullest', 0): 1, <br>\n",
    " ('got', 1): 1, <br>\n",
    " ('money', 1): 1, <br>\n",
    " ('movie', 0): 2, <br>\n",
    " ('moview', 1): 1, <br>\n",
    " ('throught', 1): 1, <br>\n",
    " ('time', 1): 1, <br>\n",
    " ('waste', 1): 1, <br>\n",
    " ('watch', 1): 1}"
   ]
  },
  {
   "cell_type": "code",
   "execution_count": 19,
   "id": "9bc62e13",
   "metadata": {
    "id": "9bc62e13"
   },
   "outputs": [],
   "source": [
    "# Build the freqs dictionary for later uses\n",
    "\n",
    "freqs = review_counter({}, X_train, y_train)"
   ]
  },
  {
   "cell_type": "code",
   "execution_count": 20,
   "id": "0eddf420",
   "metadata": {
    "id": "0eddf420",
    "scrolled": true
   },
   "outputs": [
    {
     "data": {
      "text/plain": [
       "{('movie', 0): 17565,\n",
       " ('tell', 0): 1000,\n",
       " ('story', 0): 5590,\n",
       " ('nine', 0): 64,\n",
       " ('ambitious', 0): 64,\n",
       " ('teen', 0): 228,\n",
       " ('trying', 0): 775,\n",
       " ('follow', 0): 299,\n",
       " ('dream', 0): 455,\n",
       " ('infamous', 0): 57,\n",
       " ('new', 0): 1824,\n",
       " ('york', 0): 365,\n",
       " ('high', 0): 714,\n",
       " ('school', 0): 621,\n",
       " ('performing', 0): 59,\n",
       " ('art', 0): 664,\n",
       " ('coco', 0): 3,\n",
       " ('singer', 0): 151,\n",
       " ('bruno', 0): 66,\n",
       " ('modern', 0): 445,\n",
       " ('mozart', 0): 4,\n",
       " ('lisa', 0): 63,\n",
       " ('leroy', 0): 7,\n",
       " ('hilary', 0): 13,\n",
       " ('struggling', 0): 55,\n",
       " ('dancer', 0): 110,\n",
       " ('ralph', 0): 69,\n",
       " ('comedian', 0): 98,\n",
       " ('doris', 0): 34,\n",
       " ('montgomery', 0): 68,\n",
       " ('actor', 0): 2382,\n",
       " ('think', 0): 3037,\n",
       " ('take', 0): 2344,\n",
       " ('really', 0): 4300,\n",
       " ('reach', 0): 158,\n",
       " ('goal', 0): 72,\n",
       " ('going', 0): 1405,\n",
       " ('need', 0): 979,\n",
       " ('lot', 0): 2003,\n",
       " ('talent', 0): 428,\n",
       " ('deal', 0): 504,\n",
       " ('rejection', 0): 22,\n",
       " ('heartbreak', 0): 10,\n",
       " ('education', 0): 46,\n",
       " ('pain', 0): 161,\n",
       " ('love', 0): 3601,\n",
       " ('order', 0): 433,\n",
       " ('achieve', 0): 81,\n",
       " ('fame', 0): 104,\n",
       " ('one', 0): 10890,\n",
       " ('entertaining', 0): 678,\n",
       " ('classic', 0): 1058,\n",
       " ('inspirational', 0): 38,\n",
       " ('time', 0): 6264,\n",
       " ('everything', 0): 945,\n",
       " ('dramamusical', 0): 1,\n",
       " ('extremely', 0): 444,\n",
       " ('catchy', 0): 36,\n",
       " ('oscarwinning', 0): 11,\n",
       " ('song', 0): 872,\n",
       " ('performed', 0): 104,\n",
       " ('amazing', 0): 826,\n",
       " ('irene', 0): 38,\n",
       " ('cara', 0): 7,\n",
       " ('stunning', 0): 227,\n",
       " ('dance', 0): 390,\n",
       " ('number', 0): 581,\n",
       " ('attractive', 0): 137,\n",
       " ('cast', 0): 1641,\n",
       " ('make', 0): 4379,\n",
       " ('believe', 0): 830,\n",
       " ('character', 0): 5515,\n",
       " ('great', 0): 5019,\n",
       " ('including', 0): 468,\n",
       " ('heartbreaking', 0): 63,\n",
       " ('scene', 0): 3929,\n",
       " ('meet', 0): 648,\n",
       " ('video', 0): 568,\n",
       " ('camera', 0): 522,\n",
       " ('like', 0): 7093,\n",
       " ('said', 0): 781,\n",
       " ('awesome', 0): 265,\n",
       " ('act', 0): 585,\n",
       " ('singing', 0): 212,\n",
       " ('shine', 0): 149,\n",
       " ('lee', 0): 240,\n",
       " ('curreri', 0): 1,\n",
       " ('good', 0): 5909,\n",
       " ('barry', 0): 88,\n",
       " ('miller', 0): 93,\n",
       " ('brings', 0): 343,\n",
       " ('humor', 0): 554,\n",
       " ('maureen', 0): 18,\n",
       " ('teefy', 0): 1,\n",
       " ('outcast', 0): 30,\n",
       " ('look', 0): 2136,\n",
       " ('closely', 0): 74,\n",
       " ('youll', 0): 597,\n",
       " ('see', 0): 4966,\n",
       " ('paul', 0): 334,\n",
       " ('mccrane', 0): 1,\n",
       " ('er', 0): 21,\n",
       " ('truly', 0): 805,\n",
       " ('film', 0): 19650,\n",
       " ('touched', 0): 88,\n",
       " ('inspired', 0): 167,\n",
       " ('keep', 0): 979,\n",
       " ('following', 0): 260,\n",
       " ('move', 0): 522,\n",
       " ('much', 0): 3736,\n",
       " ('winner', 0): 113,\n",
       " ('book', 0): 968,\n",
       " ('mustsee', 0): 81,\n",
       " ('clear', 0): 308,\n",
       " ('right', 0): 1378,\n",
       " ('beginning', 0): 598,\n",
       " ('911', 0): 49,\n",
       " ('would', 0): 4151,\n",
       " ('inspire', 0): 33,\n",
       " ('many', 0): 3082,\n",
       " ('world', 0): 1865,\n",
       " ('war', 0): 1272,\n",
       " ('ii', 0): 139,\n",
       " ('vietnam', 0): 86,\n",
       " ('combined', 0): 72,\n",
       " ('however', 0): 1377,\n",
       " ('certainly', 0): 692,\n",
       " ('big', 0): 1340,\n",
       " ('danger', 0): 98,\n",
       " ('come', 0): 2218,\n",
       " ('rather', 0): 1012,\n",
       " ('bad', 0): 1439,\n",
       " ('pearl', 0): 62,\n",
       " ('harbor', 0): 34,\n",
       " ('luck', 0): 82,\n",
       " ('first', 0): 3605,\n",
       " ('international', 0): 130,\n",
       " ('release', 0): 400,\n",
       " ('cheesy', 0): 164,\n",
       " ('starring', 0): 193,\n",
       " ('bunch', 0): 170,\n",
       " ('pretty', 0): 1191,\n",
       " ('face', 0): 751,\n",
       " ('collective', 0): 18,\n",
       " ('work', 0): 2367,\n",
       " ('11', 0): 89,\n",
       " ('director', 0): 1705,\n",
       " ('entire', 0): 447,\n",
       " ('im', 0): 1523,\n",
       " ('intending', 0): 4,\n",
       " ('say', 0): 2288,\n",
       " ('episode', 0): 1115,\n",
       " ('youssef', 0): 10,\n",
       " ('chahines', 0): 3,\n",
       " ('example', 0): 534,\n",
       " ('needle', 0): 60,\n",
       " ('prologue', 0): 23,\n",
       " ('cut', 0): 380,\n",
       " ('shohei', 0): 12,\n",
       " ('imamuras', 0): 10,\n",
       " ('bizarre', 0): 194,\n",
       " ('ending', 0): 971,\n",
       " ('segment', 0): 164,\n",
       " ('referring', 0): 23,\n",
       " ('directly', 0): 70,\n",
       " ('twin', 0): 78,\n",
       " ('tower', 0): 50,\n",
       " ('open', 0): 389,\n",
       " ('end', 0): 2415,\n",
       " ('alejandro', 0): 24,\n",
       " ('gonzales', 0): 5,\n",
       " ('inarritus', 0): 2,\n",
       " ('last', 0): 1228,\n",
       " ('instead', 0): 573,\n",
       " ('impressive', 0): 258,\n",
       " ('impressing', 0): 5,\n",
       " ('effort', 0): 319,\n",
       " ('interesting', 0): 1229,\n",
       " ('portrayal', 0): 329,\n",
       " ('way', 0): 3468,\n",
       " ('part', 0): 2070,\n",
       " ('react', 0): 36,\n",
       " ('collapse', 0): 25,\n",
       " ('consider', 0): 203,\n",
       " ('samira', 0): 6,\n",
       " ('makhmalbafs', 0): 3,\n",
       " ('opening', 0): 419,\n",
       " ('afghan', 0): 17,\n",
       " ('teacher', 0): 159,\n",
       " ('try', 0): 977,\n",
       " ('explain', 0): 127,\n",
       " ('pupil', 0): 11,\n",
       " ('happened', 0): 371,\n",
       " ('unsuccessfully', 0): 5,\n",
       " ('suggests', 0): 60,\n",
       " ('oneminute', 0): 1,\n",
       " ('silence', 0): 71,\n",
       " ('idrissa', 0): 7,\n",
       " ('ouedraogos', 0): 2,\n",
       " ('feature', 0): 591,\n",
       " ('bin', 0): 18,\n",
       " ('ladendouble', 0): 1,\n",
       " ('resembling', 0): 9,\n",
       " ('real', 0): 1967,\n",
       " ('shocked', 0): 67,\n",
       " ('promise', 0): 114,\n",
       " ('5', 0): 255,\n",
       " ('boy', 0): 885,\n",
       " ('muse', 0): 6,\n",
       " ('thing', 0): 2719,\n",
       " ('done', 0): 1224,\n",
       " ('reward', 0): 46,\n",
       " ('put', 0): 1080,\n",
       " ('laden', 0): 11,\n",
       " ('there', 0): 935,\n",
       " ('surprisingly', 0): 237,\n",
       " ('angry', 0): 101,\n",
       " ('ken', 0): 77,\n",
       " ('loach', 0): 12,\n",
       " ('man', 0): 2468,\n",
       " ('chile', 0): 15,\n",
       " ('talking', 0): 267,\n",
       " ('call', 0): 401,\n",
       " ('tuesday', 0): 9,\n",
       " ('september', 0): 55,\n",
       " ('1973', 0): 30,\n",
       " ('elected', 0): 17,\n",
       " ('president', 0): 120,\n",
       " ('allende', 0): 2,\n",
       " ('killed', 0): 354,\n",
       " ('pinochet', 0): 2,\n",
       " ('installed', 0): 5,\n",
       " ('dictatorship', 0): 9,\n",
       " ('generous', 0): 20,\n",
       " ('help', 0): 927,\n",
       " ('henry', 0): 167,\n",
       " ('kissinger', 0): 5,\n",
       " ('cia', 0): 48,\n",
       " ('could', 0): 2363,\n",
       " ('become', 0): 700,\n",
       " ('terrible', 0): 190,\n",
       " ('antiamericanism', 0): 1,\n",
       " ('sad', 0): 360,\n",
       " ('tale', 0): 455,\n",
       " ('share', 0): 211,\n",
       " ('recognition', 0): 59,\n",
       " ('best', 0): 3387,\n",
       " ('mainly', 0): 152,\n",
       " ('sound', 0): 713,\n",
       " ('impression', 0): 158,\n",
       " ('phone', 0): 110,\n",
       " ('hijacked', 0): 5,\n",
       " ('plane', 0): 135,\n",
       " ('black', 0): 844,\n",
       " ('screen', 0): 1043,\n",
       " ('sometimes', 0): 602,\n",
       " ('picture', 0): 873,\n",
       " ('people', 0): 3491,\n",
       " ('falling', 0): 128,\n",
       " ('wtc', 0): 23,\n",
       " ('finally', 0): 649,\n",
       " ('collapsing', 0): 10,\n",
       " ('brightening', 0): 1,\n",
       " ('question', 0): 493,\n",
       " ('appearing', 0): 51,\n",
       " ('amos', 0): 11,\n",
       " ('gitais', 0): 2,\n",
       " ('hysterical', 0): 46,\n",
       " ('reporter', 0): 71,\n",
       " ('desperatly', 0): 1,\n",
       " ('get', 0): 4379,\n",
       " ('air', 0): 263,\n",
       " ('car', 0): 501,\n",
       " ('bomb', 0): 92,\n",
       " ('exploded', 0): 3,\n",
       " ('tel', 0): 7,\n",
       " ('aviv', 0): 6,\n",
       " ('hard', 0): 905,\n",
       " ('recognize', 0): 102,\n",
       " ('masterpiece', 0): 376,\n",
       " ('choreography', 0): 43,\n",
       " ('different', 0): 1195,\n",
       " ('havent', 0): 342,\n",
       " ('mentioned', 0): 212,\n",
       " ('yet', 0): 1135,\n",
       " ('claude', 0): 56,\n",
       " ('lelouchs', 0): 1,\n",
       " ('deaf', 0): 27,\n",
       " ('girl', 0): 1356,\n",
       " ('danis', 0): 4,\n",
       " ('tanovics', 0): 1,\n",
       " ('demonstration', 0): 7,\n",
       " ('woman', 0): 1746,\n",
       " ('srebrenica', 0): 1,\n",
       " ('mira', 0): 9,\n",
       " ('nairs', 0): 4,\n",
       " ('strange', 0): 357,\n",
       " ('indian', 0): 221,\n",
       " ('probably', 0): 1100,\n",
       " ('appealing', 0): 89,\n",
       " ('western', 0): 422,\n",
       " ('taste', 0): 190,\n",
       " ('muslim', 0): 45,\n",
       " ('family', 0): 1579,\n",
       " ('whose', 0): 452,\n",
       " ('son', 0): 599,\n",
       " ('suspicion', 0): 43,\n",
       " ('sean', 0): 122,\n",
       " ('penn', 0): 46,\n",
       " ('ernest', 0): 30,\n",
       " ('borgnine', 0): 6,\n",
       " ('yes', 0): 540,\n",
       " ('widower', 0): 21,\n",
       " ('leading', 0): 295,\n",
       " ('depressive', 0): 5,\n",
       " ('life', 0): 3745,\n",
       " ('imagine', 0): 259,\n",
       " ('add', 0): 476,\n",
       " ('unique', 0): 355,\n",
       " ('easy', 0): 393,\n",
       " ('watch', 0): 2700,\n",
       " ('forget', 0): 324,\n",
       " ('sure', 0): 993,\n",
       " ('known', 0): 435,\n",
       " ('everyone', 0): 904,\n",
       " ('thirty', 0): 70,\n",
       " ('year', 0): 2963,\n",
       " ('hope', 0): 676,\n",
       " ('remembered', 0): 144,\n",
       " ('starting', 0): 111,\n",
       " ('long', 0): 1286,\n",
       " ('tradition', 0): 124,\n",
       " ('cinema', 0): 706,\n",
       " ('ala', 0): 61,\n",
       " ('far', 0): 1015,\n",
       " ('probable', 0): 13,\n",
       " ('onefilmonly', 0): 1,\n",
       " ('made', 0): 2853,\n",
       " ('dont', 0): 2651,\n",
       " ('reduce', 0): 9,\n",
       " ('event', 0): 583,\n",
       " ('happy', 0): 431,\n",
       " ('please', 0): 296,\n",
       " ('audience', 0): 1037,\n",
       " ('excellent', 0): 1401,\n",
       " ('writing', 0): 392,\n",
       " ('show', 0): 3845,\n",
       " ('lived', 0): 168,\n",
       " ('know', 0): 2666,\n",
       " ('someone', 0): 681,\n",
       " ('nailed', 0): 23,\n",
       " ('freebird', 0): 8,\n",
       " ('relive', 0): 17,\n",
       " ('laugh', 0): 741,\n",
       " ('misspent', 0): 1,\n",
       " ('youth', 0): 135,\n",
       " ('title', 0): 589,\n",
       " ('choice', 0): 296,\n",
       " ('setting', 0): 353,\n",
       " ('soundtrack', 0): 431,\n",
       " ('biker', 0): 15,\n",
       " ('flick', 0): 474,\n",
       " ('shame', 0): 251,\n",
       " ('pigeon', 0): 10,\n",
       " ('hole', 0): 139,\n",
       " ('funny', 0): 1617,\n",
       " ('bone', 0): 60,\n",
       " ('kinda', 0): 103,\n",
       " ('trailer', 0): 142,\n",
       " ('park', 0): 213,\n",
       " ('uk', 0): 98,\n",
       " ('youve', 0): 254,\n",
       " ('never', 0): 2500,\n",
       " ('seen', 0): 2735,\n",
       " ('tpb', 0): 1,\n",
       " ('point', 0): 1296,\n",
       " ('thank', 0): 187,\n",
       " ('sequel', 0): 275,\n",
       " ('whole', 0): 1028,\n",
       " ('eye', 0): 871,\n",
       " ('released', 0): 458,\n",
       " ('doubt', 0): 315,\n",
       " ('heart', 0): 707,\n",
       " ('touching', 0): 286,\n",
       " ('liked', 0): 686,\n",
       " ('view', 0): 520,\n",
       " ('kid', 0): 1066,\n",
       " ('came', 0): 686,\n",
       " ('thinking', 0): 342,\n",
       " ('actually', 0): 1383,\n",
       " ('true', 0): 1079,\n",
       " ('shatter', 0): 4,\n",
       " ('small', 0): 709,\n",
       " ('search', 0): 175,\n",
       " ('find', 0): 2145,\n",
       " ('relationship', 0): 689,\n",
       " ('fostermom', 0): 1,\n",
       " ('thats', 0): 1194,\n",
       " ('nice', 0): 853,\n",
       " ('r', 0): 104,\n",
       " ('rahman', 0): 8,\n",
       " ('stress', 0): 46,\n",
       " ('rerecording', 0): 2,\n",
       " ('mani', 0): 21,\n",
       " ('ratnam', 0): 10,\n",
       " ('exaggerate', 0): 3,\n",
       " ('give', 0): 2005,\n",
       " ('advice', 0): 71,\n",
       " ('vuyire', 0): 1,\n",
       " ('simply', 0): 715,\n",
       " ('narrates', 0): 13,\n",
       " ('exactly', 0): 379,\n",
       " ('strike', 0): 106,\n",
       " ('pool', 0): 46,\n",
       " ('bath', 0): 37,\n",
       " ('chakkarvarthy', 0): 1,\n",
       " ('nandhitadas', 0): 1,\n",
       " ('convey', 0): 80,\n",
       " ('perfectly', 0): 396,\n",
       " ('meant', 0): 203,\n",
       " ('amazingly', 0): 92,\n",
       " ('improved', 0): 41,\n",
       " ('considering', 0): 192,\n",
       " ('appalling', 0): 11,\n",
       " ('track', 0): 183,\n",
       " ('record', 0): 141,\n",
       " ('mick', 0): 25,\n",
       " ('molloy', 0): 5,\n",
       " ('since', 0): 1202,\n",
       " ('low', 0): 341,\n",
       " ('expectation', 0): 181,\n",
       " ('crackerjack', 0): 8,\n",
       " ('even', 0): 3634,\n",
       " ('promotional', 0): 7,\n",
       " ('poster', 0): 71,\n",
       " ('nervous', 0): 51,\n",
       " ('fact', 0): 1318,\n",
       " ('wasnt', 0): 639,\n",
       " ('id', 0): 468,\n",
       " ('received', 0): 133,\n",
       " ('free', 0): 226,\n",
       " ('ticket', 0): 56,\n",
       " ('preview', 0): 52,\n",
       " ('resisted', 0): 7,\n",
       " ('pressure', 0): 61,\n",
       " ('missus', 0): 1,\n",
       " ('hunk', 0): 12,\n",
       " ('worry', 0): 71,\n",
       " ('pay', 0): 231,\n",
       " ('money', 0): 516,\n",
       " ('minute', 0): 873,\n",
       " ('worried', 0): 54,\n",
       " ('start', 0): 979,\n",
       " ('tired', 0): 118,\n",
       " ('insignificant', 0): 13,\n",
       " ('routine', 0): 99,\n",
       " ('given', 0): 644,\n",
       " ('neat', 0): 55,\n",
       " ('touch', 0): 328,\n",
       " ('least', 0): 805,\n",
       " ('little', 0): 2618,\n",
       " ('refreshing', 0): 138,\n",
       " ('rest', 0): 540,\n",
       " ('script', 0): 781,\n",
       " ('light', 0): 436,\n",
       " ('hearted', 0): 30,\n",
       " ('typical', 0): 365,\n",
       " ('judith', 0): 19,\n",
       " ('lucy', 0): 65,\n",
       " ('humour', 0): 206,\n",
       " ('delivered', 0): 88,\n",
       " ('well', 0): 4613,\n",
       " ('whilst', 0): 131,\n",
       " ('pick', 0): 238,\n",
       " ('aisle', 0): 11,\n",
       " ('generated', 0): 29,\n",
       " ('chuckle', 0): 34,\n",
       " ('expecting', 0): 194,\n",
       " ('consistant', 0): 1,\n",
       " ('nothing', 0): 993,\n",
       " ('plot', 0): 1922,\n",
       " ('predictable', 0): 171,\n",
       " ('moved', 0): 173,\n",
       " ('along', 0): 848,\n",
       " ('quickly', 0): 231,\n",
       " ('oneliners', 0): 47,\n",
       " ('joke', 0): 376,\n",
       " ('felt', 0): 477,\n",
       " ('harboured', 0): 1,\n",
       " ('element', 0): 489,\n",
       " ('short', 0): 930,\n",
       " ('must', 0): 1312,\n",
       " ('worked', 0): 252,\n",
       " ('polishing', 0): 5,\n",
       " ('two', 0): 2828,\n",
       " ('late', 0): 551,\n",
       " ('injokes', 0): 5,\n",
       " ('melbournians', 0): 1,\n",
       " ('plenty', 0): 261,\n",
       " ('generic', 0): 23,\n",
       " ('stuff', 0): 430,\n",
       " ('wider', 0): 33,\n",
       " ('something', 0): 1651,\n",
       " ('found', 0): 1028,\n",
       " ('disappointing', 0): 59,\n",
       " ('relative', 0): 76,\n",
       " ('unfunnyness', 0): 1,\n",
       " ('john', 0): 991,\n",
       " ('clarke', 0): 21,\n",
       " ('didnt', 0): 1359,\n",
       " ('seem', 0): 757,\n",
       " ('guy', 0): 1416,\n",
       " ('doesnt', 0): 1462,\n",
       " ('detract', 0): 41,\n",
       " ('enjoyed', 0): 664,\n",
       " ('australain', 0): 1,\n",
       " ('comedy', 0): 1531,\n",
       " ('pleasantly', 0): 91,\n",
       " ('entertained', 0): 82,\n",
       " ('duration', 0): 24,\n",
       " ('left', 0): 712,\n",
       " ('decent', 0): 241,\n",
       " ('sized', 0): 4,\n",
       " ('grin', 0): 19,\n",
       " ('australian', 0): 154,\n",
       " ('7510', 0): 18,\n",
       " ('finished', 0): 89,\n",
       " ('screening', 0): 93,\n",
       " ('el', 0): 60,\n",
       " ('padrino', 0): 6,\n",
       " ('germany', 0): 109,\n",
       " ('forward', 0): 196,\n",
       " ('seeing', 0): 848,\n",
       " ('mr', 0): 720,\n",
       " ('chapa', 0): 10,\n",
       " ('future', 0): 390,\n",
       " ('wonderful', 0): 1093,\n",
       " ('together', 0): 978,\n",
       " ('suspense', 0): 295,\n",
       " ('shall', 0): 65,\n",
       " ('remain', 0): 112,\n",
       " ('instant', 0): 51,\n",
       " ('ambiguity', 0): 35,\n",
       " ('leaf', 0): 316,\n",
       " ('quality', 0): 531,\n",
       " ('outline', 0): 27,\n",
       " ('chapas', 0): 1,\n",
       " ('serious', 0): 386,\n",
       " ('potential', 0): 133,\n",
       " ('adept', 0): 14,\n",
       " ('skill', 0): 157,\n",
       " ('writer', 0): 434,\n",
       " ('filmmaker', 0): 302,\n",
       " ('impressed', 0): 207,\n",
       " ('triumphant', 0): 10,\n",
       " ('performance', 0): 2402,\n",
       " ('blood', 0): 290,\n",
       " ('proved', 0): 105,\n",
       " ('critically', 0): 9,\n",
       " ('acclaimed', 0): 29,\n",
       " ('maker', 0): 169,\n",
       " ('genuine', 0): 142,\n",
       " ('artistic', 0): 153,\n",
       " ('control', 0): 217,\n",
       " ('afford', 0): 36,\n",
       " ('wish', 0): 440,\n",
       " ('happen', 0): 405,\n",
       " ('u', 0): 1886,\n",
       " ('unfulfilled', 0): 9,\n",
       " ('desire', 0): 207,\n",
       " ('location', 0): 271,\n",
       " ('nude', 0): 57,\n",
       " ('body', 0): 451,\n",
       " ('beautiful', 0): 1234,\n",
       " ('second', 0): 834,\n",
       " ('beauty', 0): 387,\n",
       " ('create', 0): 248,\n",
       " ('course', 0): 1084,\n",
       " ('unfolds', 0): 60,\n",
       " ('moving', 0): 438,\n",
       " ('except', 0): 316,\n",
       " ('sophie', 0): 23,\n",
       " ('marceau', 0): 4,\n",
       " ('fails', 0): 84,\n",
       " ('communicate', 0): 36,\n",
       " ('malkovich', 0): 23,\n",
       " ('play', 0): 2114,\n",
       " ('though', 0): 1771,\n",
       " ('voiceover', 0): 28,\n",
       " ('link', 0): 55,\n",
       " ('provoke', 0): 16,\n",
       " ('thought', 0): 1339,\n",
       " ('worth', 0): 998,\n",
       " ('antonioni', 0): 26,\n",
       " ('age', 0): 623,\n",
       " ('remarkable', 0): 189,\n",
       " ('watched', 0): 893,\n",
       " ('american', 0): 1113,\n",
       " ('pie', 0): 46,\n",
       " ('2', 0): 632,\n",
       " ('ali', 0): 22,\n",
       " ('g', 0): 54,\n",
       " ('indahouse', 0): 1,\n",
       " ('forced', 0): 201,\n",
       " ('buy', 0): 314,\n",
       " ('dvd', 0): 1238,\n",
       " ('looked', 0): 260,\n",
       " ('incredibly', 0): 197,\n",
       " ('next', 0): 624,\n",
       " ('day', 0): 1700,\n",
       " ('went', 0): 510,\n",
       " ('local', 0): 364,\n",
       " ('store', 0): 202,\n",
       " ('picked', 0): 125,\n",
       " ('â£399', 0): 2,\n",
       " ('bargain', 0): 14,\n",
       " ('gangster', 0): 120,\n",
       " ('west', 0): 230,\n",
       " ('staines', 0): 4,\n",
       " ('massive', 0): 65,\n",
       " ('crew', 0): 260,\n",
       " ('who', 0): 275,\n",
       " ('rival', 0): 95,\n",
       " ('east', 0): 78,\n",
       " ('cub', 0): 5,\n",
       " ('scout', 0): 19,\n",
       " ('pack', 0): 69,\n",
       " ('child', 0): 1139,\n",
       " ('teach', 0): 100,\n",
       " ('survive', 0): 109,\n",
       " ('ghetto', 0): 23,\n",
       " ('teaching', 0): 47,\n",
       " ('swear', 0): 28,\n",
       " ('steal', 0): 224,\n",
       " ('government', 0): 216,\n",
       " ('stopping', 0): 31,\n",
       " ('coming', 0): 470,\n",
       " ('leisure', 0): 9,\n",
       " ('centre', 0): 30,\n",
       " ('run', 0): 593,\n",
       " ('mp', 0): 4,\n",
       " ('overthrow', 0): 8,\n",
       " ('another', 0): 1625,\n",
       " ('attempt', 0): 398,\n",
       " ('rid', 0): 50,\n",
       " ('room', 0): 377,\n",
       " ('airport', 0): 37,\n",
       " ('throughout', 0): 583,\n",
       " ('aplenty', 0): 4,\n",
       " ('crazy', 0): 282,\n",
       " ('borat', 0): 7,\n",
       " ('appearance', 0): 268,\n",
       " ('definite', 0): 61,\n",
       " ('sacha', 0): 2,\n",
       " ('baron', 0): 23,\n",
       " ('cohen', 0): 16,\n",
       " ('fan', 0): 1374,\n",
       " ('ive', 0): 1275,\n",
       " ('loved', 0): 886,\n",
       " ('hadnt', 0): 84,\n",
       " ('checked', 0): 27,\n",
       " ('enjoyable', 0): 445,\n",
       " ('chipmunk', 0): 19,\n",
       " ('cartoon', 0): 346,\n",
       " ('young', 0): 1769,\n",
       " ('naturally', 0): 111,\n",
       " ('adored', 0): 16,\n",
       " ('adventure', 0): 361,\n",
       " ('honestly', 0): 108,\n",
       " ('cant', 0): 1177,\n",
       " ('better', 0): 1834,\n",
       " ('wildly', 0): 29,\n",
       " ('creative', 0): 158,\n",
       " ('always', 0): 1661,\n",
       " ('wanted', 0): 399,\n",
       " ('travel', 0): 176,\n",
       " ('fun', 0): 1297,\n",
       " ('watching', 0): 1527,\n",
       " ('longing', 0): 34,\n",
       " ('grows', 0): 54,\n",
       " ('elenore', 0): 1,\n",
       " ('penguin', 0): 38,\n",
       " ('cry', 0): 278,\n",
       " ('favorite', 0): 887,\n",
       " ('mine', 0): 131,\n",
       " ('forever', 0): 177,\n",
       " ('guess', 0): 327,\n",
       " ('saw', 0): 1391,\n",
       " ('quite', 0): 1648,\n",
       " ('impact', 0): 155,\n",
       " ('older', 0): 294,\n",
       " ('unless', 0): 101,\n",
       " ('trouble', 0): 242,\n",
       " ('suspending', 0): 3,\n",
       " ('disbelief', 0): 39,\n",
       " ('isnt', 0): 1017,\n",
       " ('already', 0): 496,\n",
       " ('middle', 0): 277,\n",
       " ('newborn', 0): 4,\n",
       " ('baby', 0): 292,\n",
       " ('cabbage', 0): 1,\n",
       " ('patch', 0): 14,\n",
       " ('raise', 0): 100,\n",
       " ('locate', 0): 22,\n",
       " ('mother', 0): 773,\n",
       " ('may', 0): 1531,\n",
       " ('confused', 0): 126,\n",
       " ('teenager', 0): 203,\n",
       " ('medical', 0): 60,\n",
       " ('treatment', 0): 85,\n",
       " ('seemingly', 0): 135,\n",
       " ('italian', 0): 237,\n",
       " ('equivalent', 0): 25,\n",
       " ('social', 0): 260,\n",
       " ('service', 0): 100,\n",
       " ('care', 0): 513,\n",
       " ('fantasy', 0): 266,\n",
       " ('toto', 0): 4,\n",
       " ('ten', 0): 324,\n",
       " ('adoptive', 0): 8,\n",
       " ('dy', 0): 110,\n",
       " ('leaving', 0): 177,\n",
       " ('orphanage', 0): 6,\n",
       " ('emerges', 0): 32,\n",
       " ('everybody', 0): 159,\n",
       " ('flat', 0): 112,\n",
       " ('suitcase', 0): 17,\n",
       " ('stole', 0): 58,\n",
       " ('organised', 0): 5,\n",
       " ('homeless', 0): 43,\n",
       " ('bona', 0): 7,\n",
       " ('fide', 0): 7,\n",
       " ('shantytown', 0): 3,\n",
       " ('resident', 0): 67,\n",
       " ('encore', 0): 8,\n",
       " ('lead', 0): 846,\n",
       " ('fight', 0): 516,\n",
       " ('capitalism', 0): 17,\n",
       " ('shape', 0): 87,\n",
       " ('businessman', 0): 44,\n",
       " ('land', 0): 187,\n",
       " ('stand', 0): 467,\n",
       " ('oil', 0): 62,\n",
       " ('discovered', 0): 124,\n",
       " ('want', 0): 1732,\n",
       " ('swallowing', 0): 3,\n",
       " ('without', 0): 1337,\n",
       " ('subsequent', 0): 71,\n",
       " ('miracle', 0): 40,\n",
       " ('totos', 0): 1,\n",
       " ('dead', 0): 573,\n",
       " ('old', 0): 1585,\n",
       " ('lady', 0): 443,\n",
       " ('raised', 0): 84,\n",
       " ('biological', 0): 24,\n",
       " ('handing', 0): 7,\n",
       " ('dove', 0): 25,\n",
       " ('double', 0): 126,\n",
       " ('magic', 0): 210,\n",
       " ('wand', 0): 1,\n",
       " ('allowing', 0): 58,\n",
       " ('grant', 0): 75,\n",
       " ('modest', 0): 37,\n",
       " ('finale', 0): 121,\n",
       " ('hobo', 0): 4,\n",
       " ('fly', 0): 120,\n",
       " ('away', 0): 1049,\n",
       " ('place', 0): 1103,\n",
       " ('located', 0): 26,\n",
       " ('presumably', 0): 36,\n",
       " ('somewhere', 0): 152,\n",
       " ('rainbow', 0): 26,\n",
       " ('hand', 0): 675,\n",
       " ('charm', 0): 212,\n",
       " ('surrender', 0): 27,\n",
       " ('balance', 0): 95,\n",
       " ('across', 0): 398,\n",
       " ('insomniac', 0): 8,\n",
       " ('nightmare', 0): 136,\n",
       " ('looking', 0): 820,\n",
       " ('offbeat', 0): 41,\n",
       " ('independent', 0): 134,\n",
       " ('glad', 0): 224,\n",
       " ('disappoint', 0): 53,\n",
       " ('half', 0): 539,\n",
       " ('hour', 0): 623,\n",
       " ('ride', 0): 208,\n",
       " ('wondering', 0): 102,\n",
       " ('nooooo', 0): 1,\n",
       " ('moment', 0): 1175,\n",
       " ('stay', 0): 300,\n",
       " ('shown', 0): 451,\n",
       " ('seems', 0): 1249,\n",
       " ('agree', 0): 232,\n",
       " ('ghostie', 0): 1,\n",
       " ('talented', 0): 233,\n",
       " ('creeped', 0): 5,\n",
       " ('heck', 0): 58,\n",
       " ('nanavati', 0): 4,\n",
       " ('job', 0): 1150,\n",
       " ('putting', 0): 128,\n",
       " ('piece', 0): 664,\n",
       " ('fell', 0): 113,\n",
       " ('shes', 0): 544,\n",
       " ('written', 0): 501,\n",
       " ('undoubtedly', 0): 48,\n",
       " ('strongest', 0): 40,\n",
       " ('directing', 0): 209,\n",
       " ('acting', 0): 1931,\n",
       " ('important', 0): 459,\n",
       " ('factor', 0): 99,\n",
       " ('strength', 0): 186,\n",
       " ('screenplay', 0): 246,\n",
       " ('wait', 0): 263,\n",
       " ('unmistakable', 0): 8,\n",
       " ('imprint', 0): 6,\n",
       " ('muddled', 0): 8,\n",
       " ('mess', 0): 79,\n",
       " ('behind', 0): 482,\n",
       " ('objective', 0): 26,\n",
       " ('simple', 0): 537,\n",
       " ('spy', 0): 115,\n",
       " ('remove', 0): 23,\n",
       " ('enemy', 0): 124,\n",
       " ('agent', 0): 184,\n",
       " ('classified', 0): 24,\n",
       " ('information', 0): 165,\n",
       " ('destabilize', 0): 1,\n",
       " ('unfavorable', 0): 1,\n",
       " ('elapse', 0): 1,\n",
       " ('although', 0): 1152,\n",
       " ('mission', 0): 139,\n",
       " ('remains', 0): 216,\n",
       " ('similar', 0): 375,\n",
       " ('clandestine', 0): 5,\n",
       " ('operation', 0): 39,\n",
       " ('include', 0): 152,\n",
       " ('domestic', 0): 39,\n",
       " ('spying', 0): 8,\n",
       " ('discrediting', 0): 1,\n",
       " ('citizen', 0): 110,\n",
       " ('infiltrating', 0): 4,\n",
       " ('organization', 0): 25,\n",
       " ('criticize', 0): 24,\n",
       " ('center', 0): 164,\n",
       " ('manhunt', 0): 3,\n",
       " ('carlos', 0): 26,\n",
       " ('jackel', 0): 2,\n",
       " ('called', 0): 444,\n",
       " ('assignment', 0): 36,\n",
       " ('lt', 0): 19,\n",
       " ('cmdr', 0): 2,\n",
       " ('annibal', 0): 5,\n",
       " ('ramirez', 0): 5,\n",
       " ('aidan', 0): 16,\n",
       " ('quinn', 0): 47,\n",
       " ('naval', 0): 24,\n",
       " ('officer', 0): 193,\n",
       " ('bear', 0): 124,\n",
       " ('striking', 0): 61,\n",
       " ('resemblance', 0): 33,\n",
       " ('mastermind', 0): 14,\n",
       " ('terrorist', 0): 82,\n",
       " ('bombing', 0): 28,\n",
       " ('recruited', 0): 11,\n",
       " ('jack', 0): 395,\n",
       " ('shaw', 0): 58,\n",
       " ('donald', 0): 94,\n",
       " ('sutherland', 0): 72,\n",
       " ('ben', 0): 247,\n",
       " ('kingsley', 0): 19,\n",
       " ('special', 0): 763,\n",
       " ('israeli', 0): 18,\n",
       " ('mosad', 0): 1,\n",
       " ('secretly', 0): 43,\n",
       " ('trained', 0): 45,\n",
       " ('pose', 0): 34,\n",
       " ('infiltrate', 0): 9,\n",
       " ('elusive', 0): 21,\n",
       " ('thereafter', 0): 20,\n",
       " ('discredit', 0): 3,\n",
       " ('working', 0): 333,\n",
       " ('russian', 0): 177,\n",
       " ('explosively', 0): 2,\n",
       " ('exciting', 0): 207,\n",
       " ('packed', 0): 67,\n",
       " ('wild', 0): 202,\n",
       " ('chase', 0): 187,\n",
       " ('killing', 0): 232,\n",
       " ('intercountry', 0): 1,\n",
       " ('mayhem', 0): 37,\n",
       " ('playing', 0): 651,\n",
       " ('side', 0): 652,\n",
       " ('easily', 0): 370,\n",
       " ('spoiler', 0): 314,\n",
       " ('driving', 0): 111,\n",
       " ('lonely', 0): 88,\n",
       " ('country', 0): 534,\n",
       " ('road', 0): 191,\n",
       " ('rainy', 0): 23,\n",
       " ('afternoon', 0): 77,\n",
       " ('joanna', 0): 27,\n",
       " ('kndall', 0): 1,\n",
       " ('margaret', 0): 41,\n",
       " ('colinis', 0): 1,\n",
       " ('distracted', 0): 15,\n",
       " ('brief', 0): 173,\n",
       " ('riding', 0): 74,\n",
       " ('bicycle', 0): 16,\n",
       " ('roadway', 0): 1,\n",
       " ('injured', 0): 24,\n",
       " ('youngster', 0): 35,\n",
       " ('comfortable', 0): 65,\n",
       " ('go', 0): 2763,\n",
       " ('station', 0): 165,\n",
       " ('name', 0): 642,\n",
       " ('hang', 0): 68,\n",
       " ('back', 0): 1884,\n",
       " ('begin', 0): 568,\n",
       " ('heartwrenching', 0): 14,\n",
       " ('drama', 0): 794,\n",
       " ('effect', 0): 932,\n",
       " ('influenced', 0): 59,\n",
       " ('word', 0): 686,\n",
       " ('feeling', 0): 713,\n",
       " ('around', 0): 1250,\n",
       " ('getting', 0): 605,\n",
       " ('accident', 0): 141,\n",
       " ('site', 0): 103,\n",
       " ('cordoned', 0): 1,\n",
       " ('highway', 0): 27,\n",
       " ('police', 0): 465,\n",
       " ('involvement', 0): 48,\n",
       " ('turning', 0): 103,\n",
       " ('tragic', 0): 189,\n",
       " ('turn', 0): 1005,\n",
       " ('hitandrun', 0): 3,\n",
       " ('facing', 0): 44,\n",
       " ('bar', 0): 149,\n",
       " ('caught', 0): 274,\n",
       " ('worse', 0): 183,\n",
       " ('live', 0): 712,\n",
       " ('almost', 0): 1242,\n",
       " ('every', 0): 1596,\n",
       " ('ran', 0): 83,\n",
       " ('kelly', 0): 257,\n",
       " ('corey', 0): 17,\n",
       " ('dallas', 0): 39,\n",
       " ('deremer', 0): 1,\n",
       " ('daughter', 0): 503,\n",
       " ('mindy', 0): 3,\n",
       " ('holly', 0): 91,\n",
       " ('gretchen', 0): 9,\n",
       " ('esau', 0): 1,\n",
       " ('kira', 0): 6,\n",
       " ('posey', 0): 33,\n",
       " ('joannas', 0): 2,\n",
       " ('apart', 0): 217,\n",
       " ('truth', 0): 332,\n",
       " ('friend', 0): 1424,\n",
       " ('mention', 0): 299,\n",
       " ('eaton', 0): 4,\n",
       " ('involved', 0): 383,\n",
       " ('neighbor', 0): 109,\n",
       " ('husband', 0): 472,\n",
       " ('doug', 0): 41,\n",
       " ('drew', 0): 84,\n",
       " ('phillbury', 0): 1,\n",
       " ('hit', 0): 512,\n",
       " ('effected', 0): 5,\n",
       " ('unable', 0): 102,\n",
       " ('bring', 0): 370,\n",
       " ('admit', 0): 263,\n",
       " ('concern', 0): 103,\n",
       " ('theyll', 0): 39,\n",
       " ('shunned', 0): 12,\n",
       " ('knew', 0): 355,\n",
       " ('verge', 0): 14,\n",
       " ('losing', 0): 102,\n",
       " ('mind', 0): 861,\n",
       " ('implicate', 0): 2,\n",
       " ('nancy', 0): 79,\n",
       " ('grayson', 0): 41,\n",
       " ('sherry', 0): 12,\n",
       " ('hursey', 0): 1,\n",
       " ('plant', 0): 61,\n",
       " ('earing', 0): 1,\n",
       " ('lost', 0): 540,\n",
       " ('house', 0): 799,\n",
       " ('realizes', 0): 90,\n",
       " ('suddenly', 0): 176,\n",
       " ('stopskeeping', 0): 1,\n",
       " ('making', 0): 878,\n",
       " ('situation', 0): 573,\n",
       " ('wanting', 0): 152,\n",
       " ('also', 0): 4283,\n",
       " ('innocent', 0): 229,\n",
       " ('freedom', 0): 140,\n",
       " ('reputation', 0): 60,\n",
       " ('conscience', 0): 44,\n",
       " ...}"
      ]
     },
     "execution_count": 20,
     "metadata": {},
     "output_type": "execute_result"
    }
   ],
   "source": [
    "## Run this cell to get an idea about the corpus of words and their occurrence along with labels. \n",
    "## In this, we are computing the frequency of occurrence of word given that a review is 'positive'.\n",
    "## Similarly, we also compute the frequence of occurence of word given that a review is 'negative'.\n",
    "freqs"
   ]
  },
  {
   "cell_type": "markdown",
   "id": "759c24bc",
   "metadata": {
    "id": "759c24bc"
   },
   "source": [
    "## Q4. Training the Naive Bayes Model: (20 points)\n",
    "\n",
    "Now we are in the training phase of the Naive Bayes algorithm. In this cell, take a look at the ways to calculate the log likelihood and log prior values as these are important for testing in the next few cells. \n",
    "\n",
    "Also calculate the frequency of occurrence of words where the output is negative. In the same way, calculate the word frequency count using the above functions in order to compute the log likelihood.\n",
    "\n",
    "Return the logprior and loglikelihood output by the model from this function. "
   ]
  },
  {
   "cell_type": "code",
   "execution_count": 21,
   "id": "a7f280e3",
   "metadata": {
    "id": "a7f280e3"
   },
   "outputs": [],
   "source": [
    "def train_naive_bayes(freqs, train_x, train_y):\n",
    "    '''\n",
    "    Input:\n",
    "        freqs: dictionary from (word, label) to how often the word appears\n",
    "        train_x: a list of reviews\n",
    "        train_y: a list of labels correponding to the reviews (0,1)\n",
    "    Output:\n",
    "        logprior: the log prior. (equation 3 above)\n",
    "        loglikelihood: the log likelihood of you Naive bayes equation. (equation 6 above)\n",
    "    '''\n",
    "    loglikelihood = {}\n",
    "    logprior = 0\n",
    "\n",
    "    # calculate V, the number of unique words in the vocabulary\n",
    "    vocab = set(pair[0] for pair in freqs.keys())\n",
    "    V = len(vocab)\n",
    "\n",
    "    # calculate num_pos and num_neg - the total number of positive and negative words for all documents\n",
    "    num_pos = num_neg = 0\n",
    "    for pair in freqs.keys():\n",
    "        # if the label is positive\n",
    "        if pair[1] == 0:\n",
    "            # Increment the number of positive words by the count for this (word, label) pair\n",
    "            num_pos += freqs.get(pair)\n",
    "\n",
    "        # else, the label is negative\n",
    "        else:\n",
    "            # increment the number of negative words by the count for this (word,label) pair\n",
    "            num_neg += freqs.get(pair)\n",
    "\n",
    "    # calculate num_doc, the number of documents\n",
    "    num_doc = len(train_x)\n",
    "    \n",
    "    # calculate D_pos and D_neg\n",
    "    d_pos = d_neg = 0\n",
    "    \n",
    "    for label in train_y:\n",
    "        if label == 0:\n",
    "            d_pos += 1 \n",
    "        else:\n",
    "            d_neg += 1\n",
    "\n",
    "    # calculate D_pos, the number of positive documents \n",
    "    pos_num_docs = d_pos\n",
    "    \n",
    "    # calculate D_neg, the number of negative documents \n",
    "    neg_num_docs = d_neg\n",
    "\n",
    "    # calculate logprior\n",
    "    logprior = math.log(neg_num_docs / pos_num_docs)\n",
    "\n",
    "    # For each word in the vocabulary...\n",
    "    for word in vocab:\n",
    "        # get the positive and negative frequency of the word\n",
    "        freq_pos = find_occurrence(freqs, word, 0)\n",
    "        freq_neg = find_occurrence(freqs, word, 1)\n",
    "\n",
    "        # calculate the probability that each word is positive, and negative\n",
    "        p_w_pos = (freq_pos + 1) / (num_pos + V)\n",
    "        p_w_neg = (freq_neg + 1) / (num_neg + V)\n",
    "        \n",
    "        # calculate the log likelihood of the word\n",
    "        loglikelihood[word] = math.log(p_w_neg / p_w_pos)\n",
    "\n",
    "    return logprior, loglikelihood"
   ]
  },
  {
   "cell_type": "code",
   "execution_count": 22,
   "id": "1561d892",
   "metadata": {
    "id": "1561d892",
    "scrolled": true
   },
   "outputs": [
    {
     "name": "stdout",
     "output_type": "stream",
     "text": [
      "0.0\n",
      "84766\n"
     ]
    }
   ],
   "source": [
    "# You do not have to input any code in this cell, but it is relevant to grading, so please do not change anything\n",
    "logprior, loglikelihood = train_naive_bayes(freqs, X_train, y_train)\n",
    "print(logprior)\n",
    "print(len(loglikelihood))"
   ]
  },
  {
   "cell_type": "markdown",
   "id": "19d9c882",
   "metadata": {
    "id": "19d9c882"
   },
   "source": [
    "### Expected Output \n",
    "\n",
    "0.0 <br>\n",
    "91425"
   ]
  },
  {
   "cell_type": "markdown",
   "id": "78b51303",
   "metadata": {
    "id": "78b51303"
   },
   "source": [
    "## Q5. Implementing Naive Bayes Predict Function: (10 points)\n",
    "\n",
    "It is now time to make our prediction as to whether a given review is negative or positive respectively. \n",
    "\n",
    "After adding the log likelihood values, ensure that the output is 1 (negative) if the sum of the log likelihood value is greater than 0 and 0 (positive) if the sum of the log likelihood is less than or equal to 0. "
   ]
  },
  {
   "cell_type": "code",
   "execution_count": 23,
   "id": "b692c2f9",
   "metadata": {
    "id": "b692c2f9"
   },
   "outputs": [],
   "source": [
    "# TASK 4 CELL\n",
    "\n",
    "def naive_bayes_predict(review, logprior, loglikelihood):\n",
    "    '''\n",
    "    Params:\n",
    "        review: a string\n",
    "        logprior: a number\n",
    "        loglikelihood: a dictionary of words mapping to numbers\n",
    "    Return:\n",
    "        total_prob: the sum of all the loglikelihoods of each word in the review (if found in the dictionary) + logprior (a number)\n",
    "\n",
    "    '''\n",
    "    # process the review to get a list of words\n",
    "    word_l = word_tokenize(clean_review(review))\n",
    "\n",
    "    # initialize probability to zero\n",
    "    total_prob = 0\n",
    "\n",
    "    # add the logprior\n",
    "    total_prob += logprior\n",
    "\n",
    "    for word in word_l:\n",
    "        # check if the word exists in the loglikelihood dictionary\n",
    "        if word in loglikelihood:\n",
    "            # add the log likelihood of that word to the probability\n",
    "            total_prob += loglikelihood.get(word)\n",
    "\n",
    "    if total_prob > 0:\n",
    "        total_prob = 1\n",
    "    else:\n",
    "        total_prob = 0\n",
    "\n",
    "    return total_prob"
   ]
  },
  {
   "cell_type": "code",
   "execution_count": 24,
   "id": "4b170333",
   "metadata": {
    "colab": {
     "base_uri": "https://localhost:8080/"
    },
    "id": "4b170333",
    "outputId": "0cf6bc90-90e8-4dee-bf95-7eaf39dce147"
   },
   "outputs": [
    {
     "name": "stdout",
     "output_type": "stream",
     "text": [
      "The expected output is 1\n"
     ]
    }
   ],
   "source": [
    "# You do not have to input any code in this cell, but it is relevant to grading, so please do not change anything\n",
    "\n",
    "# Experiment with your own review.\n",
    "my_review = \"I thought this series was going to be another fun, action series with some dynamic plots and great performances. I was wrong. While I like Jamie Denton, this show is hardly worth watching at all, unless you enjoy watching some people brutalized and the actions of the agents supposedly warranted under the theme of national security. The show is great propaganda for the current government, and spews out jingoism as though we talk that way every day. After a couple of episodes, it was boring the hell out of me, and I started watching reruns of House Invaders on BBCAmerica instead. Rather watch CSI and Without a Trace, without a doubt.\"\n",
    "p = naive_bayes_predict(my_review, logprior, loglikelihood)\n",
    "print('The expected output is', p)"
   ]
  },
  {
   "cell_type": "markdown",
   "id": "6242708f",
   "metadata": {
    "id": "6242708f"
   },
   "source": [
    "### Expected Output :\n",
    "The expected output is 1"
   ]
  },
  {
   "cell_type": "markdown",
   "id": "7c4eeb71",
   "metadata": {
    "id": "7c4eeb71"
   },
   "source": [
    "## Q6. Implementing Naive Bayes Test function: (10 points)\n",
    "\n",
    "In this function, implement the previous functions such as naive_bayes_predict to get the predictions for the test set. \n",
    "\n",
    "In addition to this, the function should return the total number of reviews that it correctly classified as 'positive' or 'negative'. "
   ]
  },
  {
   "cell_type": "code",
   "execution_count": 25,
   "id": "66a511e7",
   "metadata": {
    "id": "66a511e7"
   },
   "outputs": [],
   "source": [
    "# UNQ_C6 (UNIQUE CELL IDENTIFIER, DO NOT EDIT)\n",
    "def test_naive_bayes(test_x, test_y, logprior, loglikelihood):\n",
    "    \"\"\"\n",
    "    Input:\n",
    "        test_x: A list of reviews\n",
    "        test_y: the corresponding labels for the list of reviews\n",
    "        logprior: the logprior\n",
    "        loglikelihood: a dictionary with the loglikelihoods for each word\n",
    "    Output:\n",
    "        accuracy: (# of reviews classified correctly)/(total # of reviews)\n",
    "    \"\"\"\n",
    "    accuracy = 0  \n",
    "\n",
    "    y_hats = []\n",
    "    for review in test_x:\n",
    "        pred = naive_bayes_predict(review, logprior, loglikelihood)\n",
    "        # if the prediction is > 0\n",
    "        if pred > 0:\n",
    "            # the predicted class is 1\n",
    "            y_hat_i = 1\n",
    "        else:\n",
    "            # otherwise the predicted class is 0\n",
    "            y_hat_i = 0\n",
    "\n",
    "        # append the predicted class to the list y_hats\n",
    "        y_hats.append(y_hat_i)\n",
    "\n",
    "    # error is the average of the absolute values of the differences between y_hats and test_y    \n",
    "    num_errors = 0\n",
    "    for x, y in zip(y_hats, test_y):\n",
    "        if x != y:\n",
    "            num_errors +=1\n",
    "    \n",
    "    error = num_errors / len(y_hats)\n",
    "    \n",
    "    # accuracy\n",
    "    accuracy = (len(y_hats) - num_errors) / len(y_hats)\n",
    "\n",
    "    return accuracy, y_hats"
   ]
  },
  {
   "cell_type": "code",
   "execution_count": 26,
   "id": "eed4867d",
   "metadata": {},
   "outputs": [
    {
     "name": "stdout",
     "output_type": "stream",
     "text": [
      "0.8779304769603881\n"
     ]
    }
   ],
   "source": [
    "accuracy, y_hats = test_naive_bayes(X_test, y_test, logprior, loglikelihood)\n",
    "print(accuracy)"
   ]
  },
  {
   "cell_type": "code",
   "execution_count": 27,
   "id": "8a9c5d9d",
   "metadata": {
    "id": "8a9c5d9d"
   },
   "outputs": [
    {
     "name": "stdout",
     "output_type": "stream",
     "text": [
      "If you like original gut wrenching laughter you will like this movie. If you are young or old then y -> 0.00\n",
      "What a waste of talent. A very poor, semi-coherent, script cripples this film. Rather unimaginative  -> 1.00\n",
      "I have seen this film at least 100 times and I am still excited by it, the acting is perfect and the -> 0.00\n",
      "Cheap, amateurish, unimaginative, exploitative... but don't think it'll have redeeming amusement val -> 1.00\n"
     ]
    }
   ],
   "source": [
    "# For grading purpose only\n",
    "# You do not have to input any code in this cell, but it is relevant to grading, so please do not change anything\n",
    "\n",
    "# Run this cell to test your function\n",
    "\n",
    "for review in [\"If you like original gut wrenching laughter you will like this movie. If you are young or old then you will love this movie, hell even my mom liked it.<br /><br />Great Camp!!!\",\n",
    "                \"What a waste of talent. A very poor, semi-coherent, script cripples this film. Rather unimaginative direction, too. Some VERY faint echoes of Fargo here, but it just doesn't come off.\",\n",
    "                \"I have seen this film at least 100 times and I am still excited by it, the acting is perfect and the romance between Joe and Jean keeps me on the edge of my seat, plus I still think Bryan Brown is the tops. Brilliant Film.\",\n",
    "                \"Cheap, amateurish, unimaginative, exploitative... but don't think it'll have redeeming amusement value. About as unentertaining, uninstructive and just plain dull as a film can be.\"]:\n",
    "    p = naive_bayes_predict(review, logprior, loglikelihood)\n",
    "    print(f'{review[:100]} -> {p:.2f}')\n",
    "    "
   ]
  },
  {
   "cell_type": "markdown",
   "id": "43e2ef98",
   "metadata": {
    "id": "43e2ef98"
   },
   "source": [
    "### Expected Output :\n",
    "\n",
    "If you like original gut wrenching laughter you will like this movie. If you are young or old then y -> 0.00 <br>\n",
    "What a waste of talent. A very poor, semi-coherent, script cripples this film. Rather unimaginative  -> 1.00<br>\n",
    "I have seen this film at least 100 times and I am still excited by it, the acting is perfect and the -> 0.00 <br>\n",
    "Cheap, amateurish, unimaginative, exploitative... but don't think it'll have redeeming amusement val -> 1.00\n",
    "\n"
   ]
  },
  {
   "cell_type": "code",
   "execution_count": 28,
   "id": "216fa97a",
   "metadata": {
    "colab": {
     "base_uri": "https://localhost:8080/"
    },
    "id": "216fa97a",
    "outputId": "9d1f21c7-b324-43c2-e841-269c0306cbb4"
   },
   "outputs": [
    {
     "data": {
      "text/plain": [
       "1"
      ]
     },
     "execution_count": 28,
     "metadata": {},
     "output_type": "execute_result"
    }
   ],
   "source": [
    "# Feel free to check the sentiment of your own review below\n",
    "my_review = 'The moview was very boring, I wanted to leave in the middle'\n",
    "naive_bayes_predict(my_review, logprior, loglikelihood)"
   ]
  },
  {
   "cell_type": "markdown",
   "id": "8a45e4f0",
   "metadata": {
    "id": "8a45e4f0"
   },
   "source": [
    "### Expected Output :\n",
    "1"
   ]
  },
  {
   "cell_type": "markdown",
   "id": "mAIkM4aCC1H7",
   "metadata": {
    "id": "mAIkM4aCC1H7"
   },
   "source": [
    "# Q7. Evaluate the accuracy (10 Points)\n",
    "1. Split your data into training and test sets using random selection. Set the seed as parameter of the function so that user can select a different training and test set by changin seed.\n",
    "\n",
    "2. Calculate model paramters with training set.\n",
    "\n",
    "3. Print confusion matrix for training and test set.\n",
    "\n",
    "4. Examine False Positive and False Negative cases and provide reasoning why they get misclassified."
   ]
  },
  {
   "cell_type": "code",
   "execution_count": 29,
   "id": "8192b7b3",
   "metadata": {},
   "outputs": [],
   "source": [
    "def split_dataset(X, y, size, seed):\n",
    "    \"\"\"\n",
    "    Input:\n",
    "        X: a list of reviews\n",
    "        y: the corresponding labels for the list of reviews\n",
    "        size: proportion of dataset to be included in the test split\n",
    "        seed: controls the shuffling applied to the data before applying the split\n",
    "    Output:\n",
    "        X_train: returns a list of reviews that classifier needs to train on train dataset\n",
    "        X_test: returns a list of reviews that classifier needs to test on test dataset\n",
    "        y_train: return the corresponding labels for the list of review that the classifier trained on i.e. gold values\n",
    "        y_test: return the corresponding labels for the list of review that the classifier tested on i.e. gold values\n",
    "    \"\"\"\n",
    "    \n",
    "    # using the train test split function\n",
    "    X_train, X_test, y_train, y_test = train_test_split(X, y, random_state=seed, test_size=size)\n",
    "    \n",
    "    # With the use of mapping function, we replace the label in the form of string to an integer. \n",
    "    output_map = {'positive': 0, 'negative': 1}\n",
    "    y_train = y_train.map(output_map)\n",
    "    y_test = y_test.map(output_map)\n",
    "    \n",
    "    return X_train, X_test, y_train, y_test"
   ]
  },
  {
   "cell_type": "code",
   "execution_count": 30,
   "id": "8a917987",
   "metadata": {
    "scrolled": true
   },
   "outputs": [],
   "source": [
    "X = df_upsampled['review']\n",
    "y = df_upsampled['sentiment']\n",
    "\n",
    "# split data\n",
    "X_train, X_test, y_train, y_test = split_dataset(X, y, 0.3, 0)\n",
    "\n",
    "# build freqs dictionary\n",
    "freqs = review_counter({}, X_train, y_train)\n",
    "\n",
    "# train 'train set' on naive bayes\n",
    "logprior, loglikelihood = train_naive_bayes(freqs, X_train, y_train)\n",
    "\n",
    "# confusion matrix for train\n",
    "accuracy_train, y_pred_train = test_naive_bayes(X_train, y_train, logprior, loglikelihood)\n",
    "train_cm = confusion_matrix(y_train, y_pred_train)\n",
    "\n",
    "# confusion matrix for test\n",
    "accuracy_test, y_pred_test = test_naive_bayes(X_test, y_test, logprior, loglikelihood)\n",
    "test_cm = confusion_matrix(y_test, y_pred_test)"
   ]
  },
  {
   "cell_type": "code",
   "execution_count": 31,
   "id": "1605c126",
   "metadata": {
    "scrolled": false
   },
   "outputs": [],
   "source": [
    "def cal_accuracy(cm):\n",
    "    TP = cm[1][1]\n",
    "    TN = cm[0][0]\n",
    "    FP = cm[0][1]\n",
    "    FN = cm[1][0]\n",
    "    \n",
    "    return (TP + TN) / (TP + TN + FP + FN)"
   ]
  },
  {
   "cell_type": "code",
   "execution_count": 32,
   "id": "416b7fc9",
   "metadata": {},
   "outputs": [
    {
     "name": "stdout",
     "output_type": "stream",
     "text": [
      "Confusion Matrix for training set: \n",
      " [[7981  759]\n",
      " [ 314 8409]]\n",
      "\n",
      "Accuracy of training set:  0.9385558036992498\n"
     ]
    },
    {
     "data": {
      "image/png": "[encoded data removed]",
      "text/plain": [
       "<Figure size 640x480 with 2 Axes>"
      ]
     },
     "metadata": {},
     "output_type": "display_data"
    }
   ],
   "source": [
    "print(\"Confusion Matrix for training set: \\n\", train_cm)\n",
    "disp = ConfusionMatrixDisplay(train_cm)\n",
    "disp.plot(cmap = \"flare\")\n",
    "\n",
    "print(\"\\nAccuracy of training set: \", cal_accuracy(train_cm))"
   ]
  },
  {
   "cell_type": "code",
   "execution_count": 33,
   "id": "96f0637d",
   "metadata": {},
   "outputs": [
    {
     "name": "stdout",
     "output_type": "stream",
     "text": [
      "\n",
      "Confusion Matrix for test set: \n",
      " [[3183  551]\n",
      " [ 350 3401]]\n",
      "\n",
      "Accuracy of test set:  0.879625918503674\n"
     ]
    },
    {
     "data": {
      "image/png": "[encoded data removed]",
      "text/plain": [
       "<Figure size 640x480 with 2 Axes>"
      ]
     },
     "metadata": {},
     "output_type": "display_data"
    }
   ],
   "source": [
    "print(\"\\nConfusion Matrix for test set: \\n\", test_cm)\n",
    "disp = ConfusionMatrixDisplay(test_cm)\n",
    "disp.plot(cmap = \"flare\")\n",
    "\n",
    "print(\"\\nAccuracy of test set: \", cal_accuracy(test_cm))"
   ]
  },
  {
   "cell_type": "code",
   "execution_count": 34,
   "id": "b62a5223",
   "metadata": {},
   "outputs": [],
   "source": [
    "# find misclassified data for train and test \n",
    "def misclassified_data(X, y, y_pred):\n",
    "    \"\"\"\n",
    "    Input:\n",
    "        X: a list of reviews\n",
    "        y: the corresponding labels for the list of reviews\n",
    "        y_pred: predicted labels for the list of reviews\n",
    "    Output:\n",
    "        prints five false negative and false positives misclassified reviews\n",
    "    \"\"\"\n",
    "    \n",
    "    # initialize false negative count\n",
    "    fn = 0\n",
    "    for review, truth, pred in zip(X, y, y_pred):\n",
    "        if fn == 5:\n",
    "            break\n",
    "\n",
    "        # find false negative cases\n",
    "        if (truth == 0) and (pred == 1):\n",
    "            fn += 1\n",
    "            print(\"False Negative Review #\", fn, \":\", \"\\n\", review, \"\\n\")\n",
    "    \n",
    "    # initialize false positive count\n",
    "    fp = 0\n",
    "    for review, truth, pred in zip(X, y, y_pred):\n",
    "        if fp == 5:\n",
    "            break\n",
    "        \n",
    "        # find false positive cases\n",
    "        if (truth == 1) and (pred == 0):\n",
    "            fp += 1\n",
    "            print(\"False Positive Review #\", fp, \":\", \"\\n\", review, \"\\n\")"
   ]
  },
  {
   "cell_type": "code",
   "execution_count": 35,
   "id": "b47e40ad",
   "metadata": {
    "scrolled": true
   },
   "outputs": [
    {
     "name": "stdout",
     "output_type": "stream",
     "text": [
      "False Negative Review # 1 : \n",
      " Sunny, a cocktail waitress in the D.C. area, is a bit dim, to put in mildly. She drives an old clunker and rents a tiny room from a gay male couple. However, she saves the life of a prominent Arab, by taking a bullet in the behind that was meant for the official. She charms the national press with her zany remarks and her sweet looks. Sniffing an opportunity, Presidential aides get her installed in the protocol department for the U.S. government. Even then, she messes things up at times, but she tries hard and learns a lot. She even grabs the romantic attention of a State department official. But, is there another sinister plot in the making, involving an Arab man who wishes to take another wife? A blonde one? LOL, LOL, LOL. This movie features Goldie as pretty as a picture and as dumb \"as a fox\", as they say. Sunny learns her way around the jungle of the U.S. government very, very well. She even has important things to say about honesty and the lack of it in her protocol surroundings. Perhaps, the Arab community would be less than thrilled with this work, but for those who like to laugh, rent this today. \n",
      "\n",
      "False Negative Review # 2 : \n",
      " Good, boring or bad? It's good. Worth your money? If you can spare it for a ticket, sure. Better than the trailer makes it seem? Yes, oddly.<br /><br />There isn't much to the script - Guards working at armored truck company move vast amounts of cash. Guards see opportunity to retire as millionaires, one of them is too honest to go along with it all, and a well-laid plan goes to hell. <br /><br />This could have been a poorly-executed Reservoir Dogs ripoff, but the skill of the cast and the director's ability to make just about anything tense pull it out of that realm and put it onto a solid footing. \n",
      "\n",
      "False Negative Review # 3 : \n",
      " Will all of you please lay the hell off Todd Sheets!?! Let's give you $30,000 to make a movie and see what you come up with! The guy got 735 zombies and a regular cast to work for FREE! Sure the acting is laughable at times. Yes the make-up is not greatest you'll ever see. But it's not the worst either, if you want to see that, go watch Zombie Nation with it's raccoon zombies.<br /><br />This is pure, good old fashioned Guerilla Film-making! Todd is a consummate professional, and an all around nice guy. There are holes in the plot, yes. The plot does seem far-fetched. But what the hell, I still love this movie. I wish Todd Sheets would come out of hiding and do the remake of this that he was going to. If anyone has ever tried to make a movie, they know that just finishing it, is an achievement in and of itself. \n",
      "\n",
      "False Negative Review # 4 : \n",
      " This is a perfect movie to watch with a loved one on a cold and snowy night. If you like a few laughs with your horror then this is the movie for you. The makings of a real cult classic. It has everything you would want to see in a horror movie. A beautiful girl, A hero, The buffoon, A MONSTER TRUCK and of course a family of mutant satanic killers. This one is full of blood,guts and gore. I strongly recommend watching this one in the wee early morning hours, and be careful of who sees you being entertained by the sounds of Monster trucks, Bad {But Funny } One liners and our Hero eating eye ball stew. Not as good as the Evil Dead but a close second. Just remember WARNING..... Do NOT EAT BEFORE VIEWING THIS FILM... \n",
      "\n",
      "False Negative Review # 5 : \n",
      " I remember seeing the trailer for this movie when it was first released and it looked pretty cool. I never got the chance to see it though. When I went to Blockbuster to rent some videos, I figured I should watch it. After all I did love \"Silence of the Lambs\" and \"Se7en\", and if you enjoyed those movies, you might get a kick out of \"The Cell\". The whole story concept is very interesting. Going physically into the mind of a killer, I can't imagine the world they live in. The acting is actually pretty decent. Jennifer Lopez is the only one I have to say that wasn't that great, but she does a believable job. I would recommend for a scary thriller.<br /><br />7/10 \n",
      "\n",
      "False Positive Review # 1 : \n",
      " It is enjoyable and fast-paced. <br /><br />There is no way on Earth that the actor playing Mat could be eighteen. However, the main thing is that he does act eighteen very convincingly. It must be a credit to his audition that he convinced them to cast him. I quite soon accepted him as being a naive young country boy.<br /><br />While his was the best performance, most of the others were also very engaging. In particular, the interplay between the policemen was natural and well-balanced, and worked very well.<br /><br />It is only about 45 minutes long, so the plot is not complex. More key is the style of the whole thing. It is very slick and vibrant, and the backdrops are atmospheric, especially from the fact that all the colours are extremely rich. The gangland is identifiable to foreign audiences, but still manages to be distinctly Australian. \n",
      "\n",
      "False Positive Review # 2 : \n",
      " Over the last 20 years the majority of British films are about how horribly poverty stricken the UK is and how our youth doesn't stand a chance of a good life whilst they live on the mean streets of British cities. The British film industry is obsessed with the idea of 'broken Britain'. Trainspotting, This is England, Kidulthood, Football Factory, Kes and From London to Brighton.<br /><br />Bullet Boy is just another British movie added to that list. The main character expresses a desire to go straight yet he still insists on hanging around with dead beats who carry guns and fight with gang members over nothing. I was never convinced that he did want to go straight as there was nothing stopping him pursuing an education or a trade. In fact it would have been a breath of fresh air if he had of gone straight and we had a character who turned his life around. Instead he spends his time helping his friend trying to commit murder. I felt no sympathy when he is predictably shot by another teen at the end of the film, which is sad because at the beginning of the film I really liked the entire family and their desire for success. I believe the makers missed a great chance to show the world that success belongs to those who are willing to really strive for it (like the Pursuit of Happiness). <br /><br />I know the purpose of this film was to try and paint a realistic picture of what life is like for black teens living in working class areas of Britain but don't we already have enough films in the UK with that very same plot? Isn't it time these talented producers and writers give Britains youth something to aspire to and show them a better life is just around the corner?<br /><br />I applaud the makers of Bullet Boy for not loading the film full of mindless violence in order to try and get success through shock factors (like Kidulthood, Football Factory) but at the same time this movie offers nothing new to a long list of British films that are effectively dull and depressing to watch. There is no happy ending to this movie or any of the others I have mentioned. \n",
      "\n",
      "False Positive Review # 3 : \n",
      " As an avid Gone With the Wind fan, I was disappointed to watch the original movie and see that they had left out many important characters. Luckily, the film on its own was a wonderful piece. When the book Scarlett came out, I read it in hopes of following two of my favorite literary characters farther on their journey together. While the book lacks any true quality, it remains a good story, and, as long as I was able to separate it from the original, was and still is enjoyable. However, I consider the six hours I spent watching the \"Scarlett\" miniseries to be some of the worst-spent hours of my life. Discrediting any of the original character traits so well-formed in Margaret Mitchell's book, this series also turned the story of the sequel into one of rape, mistrust, murder, and misformed relationships that even the book Scarlett stayed away from. The casting for many of the characters refused to examine the traits that had been so well-formed in both the original novel and film, and even carried through in the second book, and again leaves out at least one incredibly crucial character. In the novel, Scarlett O'Hara Butler follows her estranged husband Rhett Butler to Charleston under the guise of visiting extended family. After coming to an \"arrangement\" with Rhett, she agrees to leave, and proceeds to reconnect with her O'Hara relatives in Savannah. Eventually, she accompanies her cousin Colum, a passionate leader of the Fenian Brotherhood, to Ireland, to further explore her family's \"roots that go deep,\" and is eventually named \"The O'Hara,\" the head of the family. While her duties as The O'Hara keep her engaged in her town of Ballyhara, Scarlett ventures out into the world of the English landowners, and instantly becomes a sought-after guest at many of their parties. She, having been scorned by Rhett time and time again, eventually agrees to marry Luke, the earl of Fenton, until Rhett comes along in a clichÃ©d \"night-on-white-horse\" - type of a rescue. The \"Scarlett\" miniseries fails even to do this justice. Raped by her fiancÃ© and scorned by her family, the series shows Scarlett thrown in jail after she is blamed for a murder her cousin committed.<br /><br />I heartily advise anyone considering spending their day watching this to rethink this decision. \n",
      "\n",
      "False Positive Review # 4 : \n",
      " To confess having fantasies about Brad Pitt is a pretty tough admission for an heterosexual to make. But what can I tell you? Maybe is that famous extra something that everybody talks about and makes a star a star. It crosses that barrier. It pulls you into unknown sensual and emotional territory. Brando had it in spades, Montgomery Clift, Gary Cooper, James Dean of course and in more recent times, Tom Cruise, Jude Law, Johnny Depp, Ewan McGregor and Billy Crudup. Women fell in love with Garbo, Dietrich, Katharine and Audrey Hepburn, Grace Kelly, Marilyn Monroe, Julie Christie, Charlotte Rampling, Meryl Streep, Vanessa Redgrave, Julia Roberts and very very recently Natalie Portman. But Brad Pitt has, singlehandedly, redefined the concept. He is the only reason to go out, get in the car, find parking, buy a ticket, popcorn and get into a theatre to see \"Troy\" If you liked epics in the \"Jupiter's Darling\" style you may enjoy this. But if you don't, go all the same, we want to keep Brad Pitt in business. \n",
      "\n",
      "False Positive Review # 5 : \n",
      " I remembered the title so well. To me, it was a Flora Robson movie with Olivier and Vivien Leigh in supporting roles. And it had Vincent Massey's voice from behind whiskers. Well Flora Robson was great. Her next signature, for me, would be \"55 Days at Peking\". The same role but with different sumptuous gowns. And the same voice. As for the Armada, it was a subtext. I like black-and-white films. Was everything done in Elizbethan times at night? It was talky and difficult to fathom, at times. I couldn't tell which was the love interest. Was it the Spaniard or was it Vivien Leigh? And I do not believe that Elizabeth I would have been the brilliant strategist to recommend that fire ships be sent against the Armada. Apparently it worked for the Empire, but not for the script. This might have been more accurate, historically, but Bette Davis had more engaging scripts. And I missed daylight! \n",
      "\n"
     ]
    }
   ],
   "source": [
    "# train dataset misclassification\n",
    "misclassified_data(X_train, y_train, y_pred_train)"
   ]
  },
  {
   "cell_type": "code",
   "execution_count": 36,
   "id": "22abd63c",
   "metadata": {
    "scrolled": true
   },
   "outputs": [
    {
     "name": "stdout",
     "output_type": "stream",
     "text": [
      "False Negative Review # 1 : \n",
      " This movie is just about as good as the first Jackass, but with slightly more disgusting skits. I wouldn't say this was as good as the first, but it came very close. Jackass fans will not be disappointed, but if you didn't like the first movie, you will hate this one. There are scenes that will be seen as Jackass classics (the elderly suits with \"additions\", the \"cab ride\", and many others), and those that you will wish you never watched (eating crap, drinking semen, etc...) Overall this movie was a good watch, and I am glad I got to see it. I'm sure this movie will not have the best rating due to critics that rate it (I sat in the press section and most of the older viewers seemed disgusted), but don't let that stop you from enjoying it. \n",
      "\n",
      "False Negative Review # 2 : \n",
      " I remember watching American Gothic when it first aired, it came into my mind recently, all I could remember was the same guy appeared in Midnight Caller, which is Gary Cole, I don't watch much TV, but I watched American Gothic, I purchased the Complete Series on DVD this week,& it's still as good as ever, This is one of the best TV series ever, the reason I don't watch much TV is because it's just rubbish that's on, except for Derren Brown, it's all Reality TV or Soaps, such as Grease, Big Brother etc, i'm fed up with it, I got the Complete Series of American Gothic for Â£16.97 form the Asda website, that's the cheapest I can find it. \n",
      "\n",
      "False Negative Review # 3 : \n",
      " First of all the movie, is an ingenious work of art(movie). The plot was filled with surprises, a little kid pretends to be a grown up inherits one million dollars and how he spends it. I mean how whacked out is this. Walt Disney really outdid themselves this time. The comedy is most of the times expected but the other times unexpected. I mean was this movie OK or was this movie OK. It also teaches a lot about wise youths and I this kid is really wise and a bit time smart pants. But also it sucks. How the heck could a guy like that kid get a hot police babe and his dad let him go free. That's like let a killer get bailed free for ten years. If I were to do that I'd get beaten with a 'suble jack'(a huge stick that stings when used to bench your butts really hard). That kid is really lucky. Back to the story. The movie makers really knew what they were doing when they made this movie but still it's not perfect. The acting was good and bad. The kid and woman had no chemistry neither did the father but the bros were excellent'. The special effects on the other hand was lame. Plus this movie isn't based on reality. I hated and loved it at the same time. \n",
      "\n",
      "False Negative Review # 4 : \n",
      " When I was over at Hollywood video I looked through their clearance out movies and there was DEMONICUS for five buckaroos plus fifty percent off! I saw it only once before and couldn't pass up this great deal! The second viewing was much better than the first. The box is so cool and the music is very good. If you haven't seen Demonicus yet I recommend that you do or if you rented and hated Demonicus do give it another chance as another viewing of it may change your mind. If you seen a copy at Hollywood Video for the price I got it for don't pass it up as it is a great deal!<br /><br />Demonicus is well a very different but entertaining movie.Believe it or not is like watching a interactive video game with out playing it!It has very low budget and actors I'M sure that nobody is familiar with. We began the the video game uh I mean film with a guy and a woman some where in Italy and there is a cave that actually looks like a rail road/train track tunnel and she says don't go in there and what does he do?The normal stuff!HE DIDN'T LISTEN TO HER! He goes in there and find lots of gladiator artifacts and armor and a almost perfectly preserved body of a legendary gladiator named Tyrannous!Where did the chair come from that Tyrannous was sitting on and how did his body stay so good and where did the Cauldron Pot come from?So every cave is complete with a Caultron Pot?Tyrannous is wearing his armor,helmet,and has a weapon or two.He does the dumbest thing a person could do,he puts on the helmet and is taken over by the spirit of Tyrannous! From there he walks around just killing all of the campers near by to bring back the real Tyrannous.<br /><br />Now,I said before its like a video game.Its hard to explain but it just feels like it.The music even sounds like video games.The acting is really terrible.The actors say things like why is he doing this,oh he was nuts already and Fine since he's nuts i'm going home!Also the movie also has some major errors like a guy is running and trying to find his girlfriend in the night and is still running in the day time still searching for her with out taking a break!<br /><br />This movie has some errors but it isn't a classic like Werewolf but it is entertaining if you like really low budget error prone movies then you better see Demonicus! \n",
      "\n",
      "False Negative Review # 5 : \n",
      " So forgive the *really* lame game-play scene, cardboard background and studio like stadium. For this part I should have give the movie 5 instead of 7, but read on...<br /><br />From the premise to plot there is a lot similarities with \"The Replacements\". Some say this movie rip off \"The Replacements\", while some say this script wrote before it. <br /><br />Both movies require some sort of \"suspension of disbelief on the basic premise, and this is especially difficult for \"Second String\" since it has NFL license team and all the history behind it. Food poison excuse may sound too lame for some people, and not to mention in \"Second String\" Bills has to overcome big scores again and again, with the limit budget in shooting the game play scene, this make it look even bad. <br /><br />In \"Replacements\", the premise and the league is fictional yet you know it happen in real life. I believe it is easier to accept fictional story and setting with real event (\"OH yeah, this happen before!\", rather than real setting/background with fictional scenario (\"There is no way Bill can win a Superbowl!\"; Some of the scene were actually shoot in pre season game of Raven games, real stadium, real audience and some NFL match alike shooting angle.<br /><br />But let say both movies came out on the same day, and we erase the budget factor (thus forgive the game play action scene): Overall, I like \"Second String\" over \"Replacements\", not by much, but I like this more. <br /><br />It has \"relatively better\" character development. In \"Replacements\", Keanu character is too \"out sync with the world\", and all he care is maybe, get a girl? In Second String you see the struggle of the QB from getting the job back, and deal with his past with coach. Or the fumble guy problem. This \"hold the ball all day long\" solution of course is not new, but we see progression in fixing it.<br /><br />How about those trick play? I think it is \"relatively realistic\" than \"Replacements\". The \"Dan Marino\" like fake knee pass, flea-flicker, wild cat full back rush, all real, except sometimes this look a bit too easy. But for me it is better than \"Replacement\"'s center catch and rushing for 50 yards call, or how a 60 yards field goal look too easy. OH BTW, I am glad they didn't force the TE kicker made his shot....<br /><br />Of course ---if you objectively review this movie over other football movies all there, this could easily be a 5 out of 10 movie. But some say this is the worse football movie? Try \"The Comebacks\". \n",
      "\n",
      "False Positive Review # 1 : \n",
      " For getting so many positive reviews, this movie really disappointed me! It is slow moving and long. At times the story is not clear, particularly in the evolving relationships among characters. My advice? Read the book, it's a fabulous story which loses it's impact on screen. \n",
      "\n",
      "False Positive Review # 2 : \n",
      " This film doesn't have a very clear picture of what it is or wants to be. There are some good bits when Stewart is on screen and they give him some lines to work with. It works best early on as romantic comedy, but the story keeps heading for more dramatic territory and gets itself lost in the process. By the last fifteen minutes or so, the plot twists are just a series dramatic clichÃ©s. <br /><br />The part with the airplane feels like some leftover footage from another film spliced in.<br /><br />The main reason I can think of to watch it is if you want be able to say you've seen all of Jimmy Stewart's films. \n",
      "\n",
      "False Positive Review # 3 : \n",
      " <br /><br />Back in his youth, the old man had wanted to marry his first cousin, but his family forbid it. Many decades later, the old man has raised three children (two boys and one girl), and allows his son and daughter to marry and have children. Soon, the sister is bored with brother #1, and jumps in the bed of brother #2.<br /><br />One might think that the three siblings are stuck somewhere on a remote island. But no -- they are upper class Europeans going to college and busy in the social world.<br /><br />Never do we see a flirtatious moment between any non-related female and the two brothers. Never do we see any flirtatious moment between any non-related male and the one sister. All flirtatious moments are shared between only between the brothers and sister.<br /><br />The weakest part of GLADIATOR was the incest thing. The young emperor Commodus would have hundreds of slave girls and a city full of marriage-minded girls all over him, but no -- he only wanted his sister? If movie incest is your cup of tea, then SUNSHINE will (slowly) thrill you to no end. \n",
      "\n",
      "False Positive Review # 4 : \n",
      " Saboteur was one of the few Hitchcocks I had yet to discover and I was less than half-overwhelmed. The French title \"La CinquiÃ¨me colonne\" (i.e. The Fifth Column, a very evocative phrase for underground spying and sabotage organizations) set my expectations quite high as did the images of the finale on top of the Statue of Liberty.<br /><br />Basically Saboteur is as much light-hearted as were The 39 steps (note this is another evocative phrase, even McGuffin as a title) but it lacks most of the humor (so the characters are rather down to earth) and it's definitely not as fast paced. As a chase movie across the USA from LA to NY Saboteur drags its feet from sequence to sequence. The sequence at the villain's lovely ranch? Lovely ranch, lovely villain but pretty tame on the whole, it doesn't really add up to nothing. The meeting with the blind man, the mixing with Circus people, the Soda City sequence, the NY ball sequence? They fall flat, bringing in more characters with very little added suspense value.<br /><br />One big problem I can point out is the relationship between the leads Robert Cummings and Priscilla Lane which is not building up as with Robert Donat and Madeleine Caroll in The 39 steps. Hence the whole narrative structure is floating, depending on the addition of new scenes. And new scenes only bring us nearer the end since it's not clear if the hook is the hero's escape from the police, from the villains or his action to stop the plotted sabotages. In The 39 steps it was clearly scripted as 1/escaping from the police (so you know the hero can't just go to the police) then 2/running for his life and after the villains to prove his innocence.<br /><br />If you want a better Hitchcock from the 40s wartime propaganda I would advise you to chose Foreign Correspondant over Saboteur. They are both chase movies with a catchy finale, well really a gripping one and not just sightseeing in Foreign Correspondant as well as beautifully efficient scenes (the umbrella crowd, the tulip fields, the strange mills...). \n",
      "\n",
      "False Positive Review # 5 : \n",
      " Eddy Murphy and Robert De Niro should be a combination that results in a great comedy. Great expectationa often lead to dissapointment, and this proves to be the case.<br /><br />When Eddy as a police officer spoils a drug deal being done by Detective Robert, they botch it so badly that they end up doing a live action reality TV cop show. Logic is not a great component of this movie. The super-gun that they spend the second half of the movie chasing down confirms it. A twelve guage machine gun that leaves large holes in sheetmetal and three will destroy a house in about a minute (without reloading) is as more a fantasy than science fiction. A five pound gun, firing hundreds of shots per minute without any recoil, is certainly the weapon of the future using the technology of the past.<br /><br />It is clear this movie was designed for neither adults nor children, so if you are somewhere in between, this is the movie for you. \n",
      "\n"
     ]
    }
   ],
   "source": [
    "# test dataset misclassification\n",
    "misclassified_data(X_test, y_test, y_pred_test)"
   ]
  },
  {
   "cell_type": "markdown",
   "id": "e6844cd5",
   "metadata": {},
   "source": [
    "## Reasoning for why reviews get misclassified:\n",
    "\n",
    "One of the reasons why reviews are misclassified is because of the process of sentiment analysis. Given reviews may contain certain positive tokens with higher frequency than the negative tokens, and therefore are misclassified even though they convey \n",
    "negative feedback. \n",
    "\n",
    "For instance, \"As with many sequels, this one just doesn't have the quality or the impact of the original. The first one belongs up there with the rest of the greats. This one just doesn't cut it. The first film had a magical \"good time\" feeling about it that is totally missing from this film.\"  The tokens like \"greats\", \"good\", etc. are usually associated with positive sentiment and therefore, the review is classified as false positive. Similarily, negative tokens are usually associated with negative sentiment and therefore, such reviews are classified as false negatives even though the review may actually be conveying positive feedback. In this way, the frequency of positive and negative sentiments of tokens affects the overall classification decision. \n"
   ]
  },
  {
   "cell_type": "markdown",
   "id": "XbzttYVnBo7W",
   "metadata": {
    "id": "XbzttYVnBo7W"
   },
   "source": [
    "# Q8. Modularize your calssifier (10 points)\n",
    "1. Convert your code into a python module text_classifier.py\n",
    "\n",
    "2. The user should be able to launch the application on command prompt using python test_classifier.py command. The module will automatically load the model paramters from a local file of your choice and be ready to take the input from user on command prompt. The program will preprocess user input, tokenize and predict the class.\n",
    "\n",
    "3. Your module will take the input from user and output sentiment class in an indefinite loop. The output should printout the probabilities for each input token along with the final classification decision. Program will quit if user enters X.\n"
   ]
  },
  {
   "cell_type": "code",
   "execution_count": 37,
   "id": "f0e30030",
   "metadata": {},
   "outputs": [],
   "source": [
    "# writes current dataset logprior and loglikelihood values to a .txt file for predicting user given reviews in the \n",
    "# text_classifier.py\n",
    "\n",
    "f = open(\"pre_train_prior_likelihood.txt\", \"w\", encoding='utf-8')\n",
    "f.write(str(logprior) + \"\\n\")\n",
    "\n",
    "for k,v in loglikelihood.items():\n",
    "    f.write(str(k) + ',' + str(v) + '\\n')\n",
    "\n",
    "f.close()"
   ]
  },
  {
   "cell_type": "markdown",
   "id": "82e6e4d1",
   "metadata": {
    "id": "82e6e4d1"
   },
   "source": [
    "# Q9. Theory Questions: (10 points)\n",
    "\n",
    "1. Why is Laplace Smoothing or Additive Smoothing required while executing Naive Bayes operations, especially for text classification? Show how not having additive smoothing leads to bad outcomes by using an example of training and the test set. (10 points)\n",
    "\n",
    "\n",
    "2. Why are logarithmic values computed instead of only probability values in the Naive Bayes algorithm? (5 points)\n",
    "\n",
    "\n",
    "Answers:\n",
    "\n",
    "1. Laplace Smoothing is required to solve the problem of zero probability i.e. when a query point contains new observation, which is not observed during training while calculating probabilities. The idea is to never have zero probbability for posterior when computing probability for given features. So, to avoid such issues is to add-one (Laplace) smoothing. Let's illustrate with an example if additive smoothing wasn't applied to dataset and how it can lead to unwanted outcomes. In our training dataset, we have simple positive comments such as \"The movie is great\", \"I enjoyed the movie\", etc., however, in test dataset, we encountered complex positive comments with unknown tokens such as \"The movie facinates me\". The algorithm can distinguish between words that appeared in the vocabulary, but not words like \"fascinates\". Thus, it will lead to zero probability when classifying the review and ultimaltely, misclassifying the review. \n",
    "\n",
    "\n",
    "2. Naive Bayes algorithm calculations are computed in logarithmic space to avoid underflow and increase speed. If only probability values are used, multiplying very small numbers will lead to even smaller numbers and it will be difficult to store and compare these very small numbers. Therefore, logarithmic function will solve this problem by mapping the probability values from [0,1] range to the (-inf,0] range. Additionally, computation overhead of multiplication operation is extremely expensive and thus, log can increase the speed by turning multiplication to addition operations. "
   ]
  },
  {
   "cell_type": "code",
   "execution_count": null,
   "id": "8f115b09",
   "metadata": {},
   "outputs": [],
   "source": []
  }
 ],
 "metadata": {
  "colab": {
   "collapsed_sections": [],
   "name": "CS6120_NLP_Assignment_1_Notebook.ipynb",
   "provenance": [],
   "toc_visible": true
  },
  "kernelspec": {
   "display_name": "Python 3 (ipykernel)",
   "language": "python",
   "name": "python3"
  },
  "language_info": {
   "codemirror_mode": {
    "name": "ipython",
    "version": 3
   },
   "file_extension": ".py",
   "mimetype": "text/x-python",
   "name": "python",
   "nbconvert_exporter": "python",
   "pygments_lexer": "ipython3",
   "version": "3.11.4"
  }
 },
 "nbformat": 4,
 "nbformat_minor": 5
}
