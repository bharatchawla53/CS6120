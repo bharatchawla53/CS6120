{
 "cells": [
  {
   "cell_type": "markdown",
   "metadata": {
    "id": "ni4T_dwEHFVa"
   },
   "source": [
    "## CS 6120: Natural Language Processing - Prof. Ahmad Uzair\n",
    "\n",
    "### Assignment 2: Text Classification and Neural Network\n",
    "### Total Points: 100 points"
   ]
  },
  {
   "cell_type": "markdown",
   "metadata": {
    "id": "loQ22M-bCubq"
   },
   "source": [
    "In Assignment 2, you will be dealing with text classification using Multinomial Naive Bayes and Neural Networks. You will also be dealing with vector visualization.In this assignment you will be using TF-IDF Vectorization instead of Bag of Words. We recommend starting with this assignment a little early as the datasets are quite large and several parts of the assignment might take long duration to execute."
   ]
  },
  {
   "cell_type": "markdown",
   "metadata": {
    "id": "Q3brglC1C0mZ"
   },
   "source": [
    "## Question 1 Text Classification"
   ]
  },
  {
   "cell_type": "markdown",
   "metadata": {
    "id": "IZ1y75IoC3rE"
   },
   "source": [
    "In the first question you will be dealing with 20 News Group Dataset. You are required to implement TF-IDF vectorization from scratch and perform Multinomial Naive Bayes Classification on the News Group Dataset.\n",
    "You may use appropriate packages or modules for fitting the Multinomial Naive Bayes Model, however, the implementation of the TF-IDF Vectorization should be from the scratch."
   ]
  },
  {
   "cell_type": "markdown",
   "metadata": {
    "id": "yRjM45PyC8ML"
   },
   "source": [
    "The 20 newsgroups dataset comprises around 20000 newsgroups posts on 20 topics split in two subsets: one for training (or development) and the other one for testing (or for performance evaluation). The split between the train and test set is based upon a messages posted before and after a specific date.\n",
    "\n",
    "Link to the original dataset: http://archive.ics.uci.edu/ml/datasets/Twenty+Newsgroups\n",
    "\n",
    "You can also import the dataset from sklearn.datasets"
   ]
  },
  {
   "cell_type": "code",
   "execution_count": 70,
   "metadata": {
    "id": "CmFf2INNDJRb"
   },
   "outputs": [],
   "source": [
    "#importing the libraries\n",
    "\n",
    "import numpy as np\n",
    "import math\n",
    "import matplotlib.pyplot as plt\n",
    "import seaborn as sns\n",
    "import sklearn\n",
    "from nltk.corpus import stopwords\n",
    "from nltk.stem import WordNetLemmatizer\n",
    "from sklearn.datasets import fetch_20newsgroups\n",
    "from pprint import pprint\n",
    "from sklearn.feature_extraction.text import TfidfVectorizer, CountVectorizer\n",
    "from sklearn.manifold import TSNE\n",
    "from sklearn.preprocessing import normalize, MinMaxScaler, LabelEncoder, OneHotEncoder\n",
    "import pandas as pd\n",
    "import re\n",
    "import numpy as np\n",
    "from nltk.tokenize import  word_tokenize\n",
    "import nltk\n",
    "from sklearn.naive_bayes import MultinomialNB\n",
    "from sklearn import metrics, preprocessing\n",
    "import string"
   ]
  },
  {
   "cell_type": "code",
   "execution_count": 71,
   "metadata": {
    "id": "AEp1SHe5DKCB"
   },
   "outputs": [],
   "source": [
    "# import the 20 news group dataset utilizing sklearn library\n",
    "\n",
    "mydata_train = fetch_20newsgroups(subset = 'train')\n",
    "\n",
    "mydata_test = fetch_20newsgroups(subset = 'test')"
   ]
  },
  {
   "cell_type": "code",
   "execution_count": 72,
   "metadata": {
    "id": "OscOmcE0DMHa"
   },
   "outputs": [
    {
     "name": "stdout",
     "output_type": "stream",
     "text": [
      "['alt.atheism',\n",
      " 'comp.graphics',\n",
      " 'comp.os.ms-windows.misc',\n",
      " 'comp.sys.ibm.pc.hardware',\n",
      " 'comp.sys.mac.hardware',\n",
      " 'comp.windows.x',\n",
      " 'misc.forsale',\n",
      " 'rec.autos',\n",
      " 'rec.motorcycles',\n",
      " 'rec.sport.baseball',\n",
      " 'rec.sport.hockey',\n",
      " 'sci.crypt',\n",
      " 'sci.electronics',\n",
      " 'sci.med',\n",
      " 'sci.space',\n",
      " 'soc.religion.christian',\n",
      " 'talk.politics.guns',\n",
      " 'talk.politics.mideast',\n",
      " 'talk.politics.misc',\n",
      " 'talk.religion.misc']\n"
     ]
    }
   ],
   "source": [
    "# print the news groups(target) in the dataset\n",
    "\n",
    "pprint(list(mydata_train.target_names))"
   ]
  },
  {
   "cell_type": "code",
   "execution_count": 69,
   "metadata": {
    "id": "JvQb2r0aDR_J"
   },
   "outputs": [
    {
     "name": "stdout",
     "output_type": "stream",
     "text": [
      "<class 'sklearn.utils._bunch.Bunch'>\n",
      "<class 'sklearn.utils._bunch.Bunch'>\n"
     ]
    }
   ],
   "source": [
    "# what is the type of 'mydata_train' and 'mydata_test'\n",
    "\n",
    "print(type(mydata_train))\n",
    "print(type(mydata_test))"
   ]
  },
  {
   "cell_type": "code",
   "execution_count": 5,
   "metadata": {
    "id": "ozzwyREhDaMK"
   },
   "outputs": [
    {
     "name": "stdout",
     "output_type": "stream",
     "text": [
      "11314\n",
      "11314\n",
      "7532\n",
      "7532\n"
     ]
    }
   ],
   "source": [
    "# check the length of the data\n",
    "\n",
    "print(len(mydata_train.data))\n",
    "print(len(mydata_train.filenames))\n",
    "print(len(mydata_test.data))\n",
    "print(len(mydata_test.filenames))"
   ]
  },
  {
   "cell_type": "markdown",
   "metadata": {
    "id": "BlipMuEpDz-K"
   },
   "source": [
    "### Expected Output:\n",
    "11314\n",
    "\n",
    "11314\n",
    "\n",
    "7532\n",
    "\n",
    "7532"
   ]
  },
  {
   "cell_type": "markdown",
   "metadata": {
    "id": "55FKOBBuEDI2"
   },
   "source": [
    "## Extracting Features from the Dataset                        (20 Points)"
   ]
  },
  {
   "cell_type": "markdown",
   "metadata": {
    "id": "u4GDENzmEEkG"
   },
   "source": [
    "In order to perform machine learning on text documents, we first need to turn the text content into numerical feature vectors."
   ]
  },
  {
   "cell_type": "markdown",
   "metadata": {
    "id": "OgxfDXmxEHid"
   },
   "source": [
    "### TF-IDF Vectorization"
   ]
  },
  {
   "cell_type": "markdown",
   "metadata": {
    "id": "Q8qNFFYyEKsa"
   },
   "source": [
    "Our model cannot simply read the text data so we convert it into numerical format. In order to convert the data into numerical format we create vectors from text.\n",
    "\n",
    "For this particular purpose we could either employ Bag of Words or TF-IDF Vectorization\n",
    "\n",
    "Bag of Words just creates a set of vectors containing the count of word occurrences in the document (reviews), while the TF-IDF model contains information on the more important words and the less important ones as well.\n",
    "\n",
    "TF-IDF stands for Term Frequency-Inverse Document Frequency, which instead of giving more weight to words that occur more frequently, it gives a higher weight to words that occur less frequently.\n",
    "\n",
    "Ref:https://www.analyticsvidhya.com/blog/2020/02/quick-introduction-bag-of-words-bow-tf-idf/#:~:text=Bag%20of%20Words%20just%20creates,less%20important%20ones%20as%20well."
   ]
  },
  {
   "cell_type": "markdown",
   "metadata": {
    "id": "dLzgRJRZEP3k"
   },
   "source": [
    "TF-IDF = Term Frequency (TF) * Inverse Document Frequency (IDF)"
   ]
  },
  {
   "cell_type": "markdown",
   "metadata": {
    "id": "xe5lHi3NE1QJ"
   },
   "source": [
    "Term Frequency is the measure of the frequency of words in a document. It is the ratio of the number of times the word appears in a document compared to the total number of words in that document.\n",
    "\n",
    "The words that occur rarely in the corpus have a high IDF score. It is the log of the ratio of the number of documents to the number of documents containing the word."
   ]
  },
  {
   "cell_type": "markdown",
   "metadata": {
    "id": "HXotAER_EQ8T"
   },
   "source": [
    "idf(t) = log(N/(df + 1))"
   ]
  },
  {
   "cell_type": "code",
   "execution_count": 73,
   "metadata": {
    "id": "2vzVI8ylFAEl"
   },
   "outputs": [],
   "source": [
    "# remove 5000 values since restricting it for running the whole thing \n",
    "\n",
    "text = mydata_train.data\n",
    "test = mydata_test.data"
   ]
  },
  {
   "cell_type": "markdown",
   "metadata": {
    "id": "HZ2AatmvFtE-"
   },
   "source": [
    "## Preprocessing the Corpus"
   ]
  },
  {
   "cell_type": "code",
   "execution_count": 74,
   "metadata": {
    "id": "XyJbe42AFuHp"
   },
   "outputs": [],
   "source": [
    "# preprocessing the data\n",
    "\n",
    "lines = []\n",
    "word_list = []\n",
    "\n",
    "for line in text:\n",
    "    # tokenize the text documents and update the lists word_list and lines\n",
    "    \n",
    "    # convert to lowercase\n",
    "    line = line.lower()\n",
    "    \n",
    "    # remove punctuations\n",
    "    line = line.translate(str.maketrans('', '', string.punctuation))\n",
    "    \n",
    "    # remove stopwords\n",
    "    word_tokens = word_tokenize(line)\n",
    "    stop_words = set(stopwords.words('english'))\n",
    "    word_tokens_without_sw = [word for word in word_tokens if not word in stop_words]\n",
    "    \n",
    "    # concatenate word tokens without sw to form a sentence\n",
    "    line = (\" \").join(word_tokens_without_sw)\n",
    "    \n",
    "    lines.append(line)\n",
    "    word_list.append(word_tokenize(line))\n",
    "\n",
    "# flatten the list since word_list is a list of list\n",
    "flatten_list = list(np.concatenate(word_list).flat)\n",
    "\n",
    "# make sure the word_list contains unique tokens\n",
    "word_list = list(set(flatten_list))\n",
    "\n",
    "# calculate the total documents present in the corpus\n",
    "total_docs = len(text)\n",
    "\n",
    "# create a dictionary to keep track of index of each word\n",
    "dict_idx = {val: idx + 1 for idx, val in enumerate(word_list)}"
   ]
  },
  {
   "cell_type": "code",
   "execution_count": 75,
   "metadata": {
    "id": "E6M_CoI9FxYb"
   },
   "outputs": [],
   "source": [
    "# create a frequency dictionary\n",
    "\n",
    "def frequency_dict(lines):\n",
    "    '''\n",
    "    lines: list containing all the tokens\n",
    "    ---\n",
    "    freq_word: returns a dictionary which keeps the count of the number of documents containing the given word\n",
    "    '''\n",
    "    freq_word = {}\n",
    "    \n",
    "    for line in lines:\n",
    "        for word in word_tokenize(line):\n",
    "            if word in freq_word:\n",
    "                freq_word[word] = freq_word.get(word) + 1\n",
    "            else:\n",
    "                freq_word[word] = 1\n",
    "\n",
    "    return freq_word"
   ]
  },
  {
   "cell_type": "code",
   "execution_count": 76,
   "metadata": {
    "id": "qFkt9KBgFz43"
   },
   "outputs": [
    {
     "data": {
      "text/plain": [
       "{'lerxstwamumdedu': 2,\n",
       " 'wheres': 23,\n",
       " 'thing': 1519,\n",
       " 'subject': 12253,\n",
       " 'car': 1255,\n",
       " 'nntppostinghost': 4781,\n",
       " 'rac3wamumdedu': 7,\n",
       " 'organization': 11185,\n",
       " 'university': 5544,\n",
       " 'maryland': 124,\n",
       " 'college': 620,\n",
       " 'park': 214,\n",
       " 'lines': 11824,\n",
       " '15': 1241,\n",
       " 'wondering': 303,\n",
       " 'anyone': 2428,\n",
       " 'could': 3495,\n",
       " 'enlighten': 27,\n",
       " 'saw': 548,\n",
       " 'day': 1321,\n",
       " '2door': 7,\n",
       " 'sports': 159,\n",
       " 'looked': 342,\n",
       " 'late': 287,\n",
       " '60s': 49,\n",
       " 'early': 464,\n",
       " '70s': 56,\n",
       " 'called': 1065,\n",
       " 'bricklin': 4,\n",
       " 'doors': 82,\n",
       " 'really': 2174,\n",
       " 'small': 780,\n",
       " 'addition': 289,\n",
       " 'front': 453,\n",
       " 'bumper': 33,\n",
       " 'separate': 217,\n",
       " 'rest': 482,\n",
       " 'body': 509,\n",
       " 'know': 5116,\n",
       " 'tellme': 2,\n",
       " 'model': 442,\n",
       " 'name': 1238,\n",
       " 'engine': 364,\n",
       " 'specs': 130,\n",
       " 'years': 1984,\n",
       " 'production': 126,\n",
       " 'made': 1578,\n",
       " 'history': 606,\n",
       " 'whatever': 470,\n",
       " 'info': 917,\n",
       " 'funky': 7,\n",
       " 'looking': 999,\n",
       " 'please': 2143,\n",
       " 'email': 1982,\n",
       " 'thanks': 1841,\n",
       " 'il': 143,\n",
       " 'brought': 297,\n",
       " 'neighborhood': 36,\n",
       " 'lerxst': 2,\n",
       " 'guykuocarsonuwashingtonedu': 9,\n",
       " 'guy': 493,\n",
       " 'kuo': 23,\n",
       " 'si': 92,\n",
       " 'clock': 273,\n",
       " 'poll': 41,\n",
       " 'final': 379,\n",
       " 'call': 1068,\n",
       " 'summary': 596,\n",
       " 'reports': 289,\n",
       " 'keywords': 966,\n",
       " 'siaccelerationclockupgrade': 1,\n",
       " 'articleid': 673,\n",
       " 'shelley1qvfo9innc3s': 1,\n",
       " 'washington': 537,\n",
       " '11': 1392,\n",
       " 'carsonuwashingtonedu': 32,\n",
       " 'fair': 217,\n",
       " 'number': 1698,\n",
       " 'brave': 39,\n",
       " 'souls': 44,\n",
       " 'upgraded': 44,\n",
       " 'oscillator': 25,\n",
       " 'shared': 138,\n",
       " 'experiences': 118,\n",
       " 'send': 1059,\n",
       " 'brief': 72,\n",
       " 'message': 1002,\n",
       " 'detailing': 22,\n",
       " 'procedure': 88,\n",
       " 'top': 578,\n",
       " 'speed': 728,\n",
       " 'attained': 7,\n",
       " 'cpu': 205,\n",
       " 'rated': 53,\n",
       " 'add': 445,\n",
       " 'cards': 406,\n",
       " 'adapters': 29,\n",
       " 'heat': 145,\n",
       " 'sinks': 11,\n",
       " 'hour': 115,\n",
       " 'usage': 106,\n",
       " 'per': 533,\n",
       " 'floppy': 271,\n",
       " 'disk': 803,\n",
       " 'functionality': 57,\n",
       " '800': 153,\n",
       " '14': 1031,\n",
       " 'floppies': 47,\n",
       " 'especially': 542,\n",
       " 'requested': 60,\n",
       " 'summarizing': 10,\n",
       " 'next': 1112,\n",
       " 'two': 2874,\n",
       " 'days': 735,\n",
       " 'network': 574,\n",
       " 'knowledge': 411,\n",
       " 'base': 332,\n",
       " 'done': 1028,\n",
       " 'upgrade': 209,\n",
       " 'havent': 487,\n",
       " 'answered': 114,\n",
       " 'guykuouwashingtonedu': 6,\n",
       " 'twillisececnpurdueedu': 1,\n",
       " 'thomas': 374,\n",
       " 'e': 703,\n",
       " 'willis': 32,\n",
       " 'pb': 31,\n",
       " 'questions': 910,\n",
       " 'purdue': 110,\n",
       " 'engineering': 644,\n",
       " 'computer': 2088,\n",
       " 'distribution': 2763,\n",
       " 'usa': 1797,\n",
       " '36': 315,\n",
       " 'well': 3460,\n",
       " 'folks': 306,\n",
       " 'mac': 752,\n",
       " 'plus': 419,\n",
       " 'finally': 332,\n",
       " 'gave': 336,\n",
       " 'ghost': 49,\n",
       " 'weekend': 99,\n",
       " 'starting': 233,\n",
       " 'life': 1129,\n",
       " '512k': 33,\n",
       " 'way': 2927,\n",
       " 'back': 1959,\n",
       " '1985': 70,\n",
       " 'sooo': 5,\n",
       " 'im': 3727,\n",
       " 'market': 345,\n",
       " 'new': 3922,\n",
       " 'machine': 666,\n",
       " 'bit': 1056,\n",
       " 'sooner': 51,\n",
       " 'intended': 225,\n",
       " 'picking': 50,\n",
       " 'powerbook': 77,\n",
       " '160': 63,\n",
       " 'maybe': 1005,\n",
       " '180': 37,\n",
       " 'bunch': 210,\n",
       " 'hopefully': 121,\n",
       " 'somebody': 304,\n",
       " 'answer': 778,\n",
       " 'anybody': 620,\n",
       " 'dirt': 41,\n",
       " 'round': 229,\n",
       " 'introductions': 1,\n",
       " 'expected': 241,\n",
       " 'id': 1336,\n",
       " 'heard': 932,\n",
       " '185c': 1,\n",
       " 'supposed': 323,\n",
       " 'make': 2881,\n",
       " 'appearence': 2,\n",
       " 'summer': 212,\n",
       " 'anymore': 141,\n",
       " 'since': 2069,\n",
       " 'dont': 5814,\n",
       " 'access': 1009,\n",
       " 'macleak': 3,\n",
       " 'rumors': 60,\n",
       " 'price': 758,\n",
       " 'drops': 43,\n",
       " 'line': 1098,\n",
       " 'like': 5760,\n",
       " 'ones': 621,\n",
       " 'duos': 12,\n",
       " 'went': 697,\n",
       " 'recently': 439,\n",
       " 'whats': 506,\n",
       " 'impression': 101,\n",
       " 'display': 581,\n",
       " 'probably': 1374,\n",
       " 'swing': 46,\n",
       " 'got': 1677,\n",
       " '80mb': 12,\n",
       " 'rather': 1136,\n",
       " '120': 119,\n",
       " 'feel': 678,\n",
       " 'much': 2863,\n",
       " 'better': 1782,\n",
       " 'yea': 21,\n",
       " 'looks': 453,\n",
       " 'great': 1263,\n",
       " 'store': 170,\n",
       " 'wow': 61,\n",
       " 'good': 3719,\n",
       " 'solicit': 6,\n",
       " 'opinions': 892,\n",
       " 'people': 5833,\n",
       " 'use': 4155,\n",
       " 'daytoday': 13,\n",
       " 'worth': 439,\n",
       " 'taking': 430,\n",
       " 'size': 563,\n",
       " 'money': 832,\n",
       " 'hit': 471,\n",
       " 'get': 4943,\n",
       " 'active': 142,\n",
       " 'realize': 260,\n",
       " 'real': 1161,\n",
       " 'subjective': 75,\n",
       " 'question': 1854,\n",
       " 'ive': 1814,\n",
       " 'played': 269,\n",
       " 'around': 1391,\n",
       " 'machines': 412,\n",
       " 'breifly': 3,\n",
       " 'figured': 65,\n",
       " 'actually': 1192,\n",
       " 'uses': 528,\n",
       " 'daily': 143,\n",
       " 'might': 1754,\n",
       " 'prove': 288,\n",
       " 'helpful': 127,\n",
       " 'hellcats': 2,\n",
       " 'perform': 112,\n",
       " 'advance': 512,\n",
       " 'ill': 891,\n",
       " 'post': 1063,\n",
       " 'news': 823,\n",
       " 'reading': 519,\n",
       " 'time': 3865,\n",
       " 'premium': 28,\n",
       " 'finals': 67,\n",
       " 'corner': 102,\n",
       " 'tom': 410,\n",
       " 'twillisecnpurdueedu': 1,\n",
       " 'electrical': 215,\n",
       " 'convictions': 33,\n",
       " 'dangerous': 251,\n",
       " 'enemies': 53,\n",
       " 'truth': 636,\n",
       " 'lies': 136,\n",
       " 'f': 409,\n",
       " 'w': 747,\n",
       " 'nietzsche': 12,\n",
       " 'jgreenamber': 2,\n",
       " 'joe': 281,\n",
       " 'green': 232,\n",
       " 'weitek': 19,\n",
       " 'p9000': 24,\n",
       " 'harris': 74,\n",
       " 'systems': 1281,\n",
       " 'division': 608,\n",
       " 'world': 2442,\n",
       " 'amberssdcsdharriscom': 2,\n",
       " 'xnewsreader': 625,\n",
       " 'tin': 521,\n",
       " 'version': 1430,\n",
       " 'pl9': 100,\n",
       " 'robert': 700,\n",
       " 'jc': 26,\n",
       " 'kyanko': 10,\n",
       " 'robrjckuucp': 10,\n",
       " 'wrote': 897,\n",
       " 'abraxisiastateedu': 2,\n",
       " 'writes': 7836,\n",
       " 'article': 6754,\n",
       " 'abraxis734340159class1iastateedu': 2,\n",
       " 'graphics': 759,\n",
       " 'chip': 1090,\n",
       " 'far': 1192,\n",
       " 'lowlevel': 13,\n",
       " 'stuff': 736,\n",
       " 'goes': 523,\n",
       " 'pretty': 750,\n",
       " 'nice': 561,\n",
       " 'quadrilateral': 2,\n",
       " 'fill': 89,\n",
       " 'command': 337,\n",
       " 'requires': 254,\n",
       " 'four': 455,\n",
       " 'points': 539,\n",
       " 'weiteks': 2,\n",
       " 'addressphone': 5,\n",
       " 'information': 1958,\n",
       " 'corporation': 490,\n",
       " 'jgreencsdharriscom': 1,\n",
       " 'scares': 15,\n",
       " 'person': 978,\n",
       " 'sense': 546,\n",
       " 'humor': 59,\n",
       " 'jonathan': 128,\n",
       " 'winters': 7,\n",
       " 'jcmheadcfaharvardedu': 2,\n",
       " 'mcdowell': 17,\n",
       " 'shuttle': 230,\n",
       " 'launch': 352,\n",
       " 'smithsonian': 11,\n",
       " 'astrophysical': 12,\n",
       " 'observatory': 74,\n",
       " 'cambridge': 245,\n",
       " 'sci': 153,\n",
       " '23': 608,\n",
       " 'c5owcbn3pworldstdcom': 1,\n",
       " 'tombakerworldstdcom': 2,\n",
       " 'baker': 52,\n",
       " 'c5jlwx4h91cscmuedu': 3,\n",
       " 'etratttacs1ttuedu': 4,\n",
       " 'pack': 90,\n",
       " 'rat': 39,\n",
       " 'clear': 520,\n",
       " 'caution': 25,\n",
       " 'warning': 170,\n",
       " 'memory': 759,\n",
       " 'verify': 56,\n",
       " 'unexpected': 19,\n",
       " 'errors': 251,\n",
       " 'error': 446,\n",
       " 'sorry': 524,\n",
       " 'dumb': 79,\n",
       " 'parity': 53,\n",
       " 'previously': 128,\n",
       " 'known': 582,\n",
       " 'conditions': 150,\n",
       " 'waivered': 2,\n",
       " 'yes': 1016,\n",
       " 'already': 840,\n",
       " 'knew': 305,\n",
       " 'curious': 157,\n",
       " 'meaning': 294,\n",
       " 'quote': 263,\n",
       " 'understanding': 269,\n",
       " 'basically': 273,\n",
       " 'bugs': 95,\n",
       " 'system': 2702,\n",
       " 'software': 1403,\n",
       " 'things': 1791,\n",
       " 'checked': 124,\n",
       " 'right': 2680,\n",
       " 'values': 319,\n",
       " 'yet': 931,\n",
       " 'arent': 468,\n",
       " 'set': 1279,\n",
       " 'till': 76,\n",
       " 'suchlike': 4,\n",
       " 'fix': 189,\n",
       " 'code': 921,\n",
       " 'possibly': 283,\n",
       " 'introduce': 38,\n",
       " 'tell': 1299,\n",
       " 'crew': 74,\n",
       " 'ok': 516,\n",
       " 'see': 3034,\n",
       " '213': 41,\n",
       " 'liftoff': 15,\n",
       " 'ignore': 134,\n",
       " 'dfovttoulutkovttfi': 7,\n",
       " 'foxvog': 12,\n",
       " 'douglas': 202,\n",
       " 'rewording': 7,\n",
       " 'second': 1161,\n",
       " 'amendment': 298,\n",
       " 'ideas': 374,\n",
       " 'vtt': 2,\n",
       " '58': 136,\n",
       " '1r1eu14ttransferstratuscom': 1,\n",
       " 'cdtswstratuscom': 59,\n",
       " 'c': 1553,\n",
       " 'tavares': 64,\n",
       " '1993apr2008305716899ousrvroulufi': 3,\n",
       " '1qv87v4j3transferstratuscom': 2,\n",
       " 'c5n3gif8fulowellulowelledu': 2,\n",
       " 'jrutledgcsulowelledu': 17,\n",
       " 'john': 1335,\n",
       " 'lawrence': 152,\n",
       " 'rutledge': 36,\n",
       " 'massive': 83,\n",
       " 'destructive': 31,\n",
       " 'power': 1445,\n",
       " 'many': 2934,\n",
       " 'modern': 262,\n",
       " 'weapons': 444,\n",
       " 'makes': 824,\n",
       " 'cost': 638,\n",
       " 'accidental': 41,\n",
       " 'crimial': 2,\n",
       " 'mass': 294,\n",
       " 'destruction': 86,\n",
       " 'need': 2406,\n",
       " 'control': 962,\n",
       " 'government': 1717,\n",
       " 'individual': 343,\n",
       " 'would': 8874,\n",
       " 'result': 414,\n",
       " 'needless': 40,\n",
       " 'deaths': 133,\n",
       " 'millions': 129,\n",
       " 'keep': 1062,\n",
       " 'bear': 235,\n",
       " 'nonexistant': 10,\n",
       " 'stating': 62,\n",
       " 'youre': 1095,\n",
       " 'coming': 439,\n",
       " 'say': 2698,\n",
       " 'disagree': 179,\n",
       " 'every': 1375,\n",
       " 'count': 250,\n",
       " 'believe': 2021,\n",
       " 'individuals': 238,\n",
       " 'find': 1881,\n",
       " 'hard': 1153,\n",
       " 'support': 1157,\n",
       " 'neighbors': 134,\n",
       " 'nuclear': 272,\n",
       " 'biological': 53,\n",
       " 'nerve': 42,\n",
       " 'gas': 342,\n",
       " 'hisher': 45,\n",
       " 'property': 207,\n",
       " 'even': 3259,\n",
       " 'agree': 690,\n",
       " 'keeping': 200,\n",
       " 'hands': 260,\n",
       " 'hope': 740,\n",
       " 'us': 3406,\n",
       " 'sign': 197,\n",
       " 'blank': 56,\n",
       " 'checks': 55,\n",
       " 'course': 1305,\n",
       " 'term': 271,\n",
       " 'must': 1833,\n",
       " 'rigidly': 2,\n",
       " 'defined': 197,\n",
       " 'bill': 901,\n",
       " 'doug': 308,\n",
       " 'says': 1225,\n",
       " 'means': 938,\n",
       " 'cbw': 4,\n",
       " 'nukes': 9,\n",
       " 'sarah': 24,\n",
       " 'brady': 54,\n",
       " 'street': 308,\n",
       " 'sweeper': 7,\n",
       " 'shotguns': 30,\n",
       " 'semiautomatic': 30,\n",
       " 'sks': 10,\n",
       " 'rifles': 48,\n",
       " 'doubt': 383,\n",
       " 'using': 1895,\n",
       " 'allegedly': 25,\n",
       " 'immediately': 187,\n",
       " 'follows': 190,\n",
       " 'thousands': 209,\n",
       " 'killed': 529,\n",
       " 'year': 1714,\n",
       " 'handguns': 118,\n",
       " 'easily': 331,\n",
       " 'reduced': 105,\n",
       " 'putting': 233,\n",
       " 'reasonable': 329,\n",
       " 'restrictions': 103,\n",
       " 'mean': 1110,\n",
       " 'read': 1648,\n",
       " 'presenting': 34,\n",
       " 'first': 2894,\n",
       " 'argument': 569,\n",
       " 'commonly': 75,\n",
       " 'understood': 108,\n",
       " 'switching': 68,\n",
       " 'topics': 85,\n",
       " 'point': 1801,\n",
       " 'evidently': 23,\n",
       " 'show': 728,\n",
       " 'allowed': 317,\n",
       " 'later': 660,\n",
       " 'analysis': 268,\n",
       " 'given': 899,\n",
       " 'consider': 622,\n",
       " 'another': 1694,\n",
       " 'class': 331,\n",
       " 'cdtrocketswstratuscom': 32,\n",
       " 'speak': 379,\n",
       " 'company': 565,\n",
       " 'cdtvosstratuscom': 32,\n",
       " 'write': 604,\n",
       " 'today': 853,\n",
       " 'special': 447,\n",
       " 'investors': 49,\n",
       " 'packet': 82,\n",
       " 'douglasfoxvogvttfi': 3,\n",
       " 'bmdelanequadsuchicagoedu': 4,\n",
       " 'brian': 470,\n",
       " 'manning': 19,\n",
       " 'delaney': 5,\n",
       " 'brain': 197,\n",
       " 'tumor': 11,\n",
       " 'treatment': 220,\n",
       " 'replyto': 1742,\n",
       " 'bmdelanemidwayuchicagoedu': 7,\n",
       " 'chicago': 431,\n",
       " '12': 1239,\n",
       " 'responded': 73,\n",
       " 'request': 336,\n",
       " 'astrocytomas': 1,\n",
       " 'couldnt': 389,\n",
       " 'thank': 358,\n",
       " 'directly': 323,\n",
       " 'mailbouncing': 1,\n",
       " 'probs': 6,\n",
       " 'sean': 91,\n",
       " 'debra': 3,\n",
       " 'sharon': 27,\n",
       " 'thought': 994,\n",
       " 'publicly': 80,\n",
       " 'everyone': 674,\n",
       " 'sure': 1693,\n",
       " 'glad': 125,\n",
       " 'accidentally': 25,\n",
       " 'rn': 23,\n",
       " 'instead': 638,\n",
       " 'rm': 75,\n",
       " 'trying': 966,\n",
       " 'delete': 58,\n",
       " 'file': 1940,\n",
       " 'last': 1803,\n",
       " 'september': 58,\n",
       " 'hmmm': 88,\n",
       " 'bgrubbdantenmsuedu': 26,\n",
       " 'grubb': 26,\n",
       " 'ide': 379,\n",
       " 'vs': 698,\n",
       " 'scsi': 670,\n",
       " 'mexico': 73,\n",
       " 'state': 1833,\n",
       " 'las': 33,\n",
       " 'cruces': 11,\n",
       " 'nm': 45,\n",
       " '44': 310,\n",
       " 'dantenmsuedu': 10,\n",
       " 'dxb132psuvmpsuedu': 8,\n",
       " '1qlbrlinn7rkdns1nmsuedu': 4,\n",
       " 'pc': 637,\n",
       " 'magazine': 240,\n",
       " 'april': 746,\n",
       " '27': 511,\n",
       " '199329': 7,\n",
       " 'although': 635,\n",
       " 'twice': 161,\n",
       " 'fasst': 8,\n",
       " 'esdi': 70,\n",
       " '20': 1297,\n",
       " 'faster': 323,\n",
       " '7': 1392,\n",
       " 'devices': 352,\n",
       " 'acceptance': 69,\n",
       " 'long': 1409,\n",
       " 'stalled': 10,\n",
       " 'incompatability': 6,\n",
       " 'problems': 1093,\n",
       " 'installation': 131,\n",
       " 'headaches': 35,\n",
       " 'love': 649,\n",
       " 'writers': 58,\n",
       " 'stupid': 320,\n",
       " 'statements': 176,\n",
       " 'performance': 397,\n",
       " 'numbers': 575,\n",
       " 'list': 1207,\n",
       " 'actual': 224,\n",
       " 'ranges': 38,\n",
       " 'convince': 127,\n",
       " 'statement': 469,\n",
       " 'absurd': 58,\n",
       " 'scsii': 6,\n",
       " '05mbs': 10,\n",
       " 'scsiii': 5,\n",
       " '040mbs': 4,\n",
       " '083mbs': 7,\n",
       " 'always': 994,\n",
       " '125mbs': 7,\n",
       " 'nonstandard': 27,\n",
       " 'versions': 217,\n",
       " 'shows': 269,\n",
       " 'scsi1': 126,\n",
       " 'controler': 17,\n",
       " 'range': 276,\n",
       " 'indeed': 339,\n",
       " 'scsi2': 148,\n",
       " 'controller': 416,\n",
       " '46mbs': 10,\n",
       " '10mbs': 15,\n",
       " 'burst': 62,\n",
       " '8bit': 102,\n",
       " 'note': 899,\n",
       " 'increase': 240,\n",
       " 'quadra': 186,\n",
       " 'exist': 502,\n",
       " '8bitscsi1': 2,\n",
       " 'mode': 487,\n",
       " '16bitwide': 3,\n",
       " 'fast': 565,\n",
       " '812mbs': 7,\n",
       " '20mbs': 9,\n",
       " '32bitwide': 5,\n",
       " '1520mbs': 7,\n",
       " '40mbs': 8,\n",
       " 'data': 1575,\n",
       " 'correct': 565,\n",
       " 'reach': 159,\n",
       " '83': 97,\n",
       " '996': 8,\n",
       " 'facts': 225,\n",
       " 'posted': 483,\n",
       " 'newsgroup': 370,\n",
       " 'ibm': 489,\n",
       " 'sheet': 95,\n",
       " 'available': 1567,\n",
       " 'ftp': 597,\n",
       " 'sumexaimstanfordedu': 15,\n",
       " '364406': 6,\n",
       " 'infomacreport': 4,\n",
       " 'macibmcompareversion': 2,\n",
       " 'txt': 5,\n",
       " '173': 15,\n",
       " '161': 27,\n",
       " 'may': 3271,\n",
       " 'still': 2022,\n",
       " 'part': 1475,\n",
       " 'problem': 2207,\n",
       " 'inconsiant': 2,\n",
       " 'though': 1178,\n",
       " 'documented': 45,\n",
       " 'apple': 485,\n",
       " 'salesperson': 10,\n",
       " 'said': 2446,\n",
       " '6mbs': 3,\n",
       " '5mbs': 12,\n",
       " 'maximum': 125,\n",
       " 'synchronous': 27,\n",
       " 'ansynchronous': 2,\n",
       " 'slower': 113,\n",
       " 'seems': 1299,\n",
       " 'interface': 383,\n",
       " 'think': 4503,\n",
       " 'driven': 117,\n",
       " 'true': 1355,\n",
       " 'go': 2403,\n",
       " 'slam': 13,\n",
       " 'understand': 667,\n",
       " 'going': 2001,\n",
       " 'one': 8654,\n",
       " 'reference': 393,\n",
       " 'quadras': 26,\n",
       " 'digital': 368,\n",
       " 'review': 219,\n",
       " 'oct': 47,\n",
       " '21': 796,\n",
       " '1991': 247,\n",
       " 'v8': 25,\n",
       " 'n33': 3,\n",
       " 'p81': 3,\n",
       " 'holmes7000iscsvaxuniedu': 1,\n",
       " 'win': 699,\n",
       " '30': 971,\n",
       " 'icon': 79,\n",
       " 'help': 1900,\n",
       " 'northern': 125,\n",
       " 'iowa': 103,\n",
       " '10': 1661,\n",
       " 'downloaded': 33,\n",
       " 'several': 961,\n",
       " 'icons': 55,\n",
       " 'bmps': 5,\n",
       " 'cant': 1757,\n",
       " 'figure': 363,\n",
       " 'change': 791,\n",
       " 'wallpaper': 21,\n",
       " 'appreciated': 396,\n",
       " 'thanx': 102,\n",
       " 'brando': 1,\n",
       " 'ps': 278,\n",
       " 'kerrux1csouiucedu': 3,\n",
       " 'stan': 81,\n",
       " 'kerr': 22,\n",
       " 'sigma': 11,\n",
       " 'designs': 67,\n",
       " 'double': 197,\n",
       " 'ux1c52u8xb62': 1,\n",
       " 'illinois': 321,\n",
       " 'urbana': 156,\n",
       " '29': 436,\n",
       " 'jap10pocwruedu': 4,\n",
       " 'joseph': 247,\n",
       " 'pellettiere': 2,\n",
       " 'board': 512,\n",
       " 'hardware': 551,\n",
       " 'compression': 148,\n",
       " 'works': 754,\n",
       " 'autodoubler': 3,\n",
       " 'also': 4296,\n",
       " 'work': 2342,\n",
       " 'diskdoubler': 1,\n",
       " 'due': 454,\n",
       " 'licensing': 47,\n",
       " 'stac': 3,\n",
       " 'technologies': 154,\n",
       " 'owners': 231,\n",
       " 'boards': 126,\n",
       " 'technology': 1146,\n",
       " 'writing': 256,\n",
       " 'lost': 475,\n",
       " 'wrong': 1045,\n",
       " 'whether': 862,\n",
       " 'fault': 185,\n",
       " 'something': 2223,\n",
       " 'else': 1017,\n",
       " 'however': 1424,\n",
       " 'decompress': 10,\n",
       " 'troubled': 8,\n",
       " 'recompress': 3,\n",
       " 'without': 1673,\n",
       " 'usually': 553,\n",
       " 'reappears': 4,\n",
       " 'mentioned': 410,\n",
       " 'freeware': 20,\n",
       " 'expansion': 192,\n",
       " 'utility': 141,\n",
       " 'dd': 51,\n",
       " 'expand': 59,\n",
       " 'boardcompressed': 1,\n",
       " 'unless': 610,\n",
       " 'installed': 304,\n",
       " 'product': 380,\n",
       " 'unlikely': 131,\n",
       " 'holes': 130,\n",
       " 'autodoublerdiskdoubler': 1,\n",
       " 'related': 321,\n",
       " 'fixed': 162,\n",
       " 'sad': 112,\n",
       " 'reluctant': 17,\n",
       " 'buy': 745,\n",
       " 'stacs': 1,\n",
       " 'theyre': 563,\n",
       " 'stinky': 1,\n",
       " 'hey': 259,\n",
       " 'thats': 1485,\n",
       " 'competition': 63,\n",
       " 'computing': 391,\n",
       " 'communications': 515,\n",
       " 'services': 592,\n",
       " 'office': 522,\n",
       " 'u': 526,\n",
       " 'illinoisurbana': 5,\n",
       " 'phone': 895,\n",
       " '2173335217': 2,\n",
       " 'stankerruiucedu': 2,\n",
       " 'irwincmptrclonestarorg': 8,\n",
       " 'irwin': 14,\n",
       " 'arnstein': 5,\n",
       " 'recommendation': 22,\n",
       " 'duc': 13,\n",
       " 'expires': 123,\n",
       " 'sat': 112,\n",
       " '1': 5554,\n",
       " '1993': 1219,\n",
       " '050000': 5,\n",
       " 'gmt': 532,\n",
       " 'computrac': 9,\n",
       " 'inc': 1165,\n",
       " 'richardson': 73,\n",
       " 'tx': 206,\n",
       " 'ducati': 38,\n",
       " 'gts': 5,\n",
       " '13': 845,\n",
       " '900gts': 1,\n",
       " '1978': 46,\n",
       " '17k': 1,\n",
       " 'runs': 490,\n",
       " 'paint': 100,\n",
       " 'bronzebrownorange': 1,\n",
       " 'faded': 5,\n",
       " 'leaks': 19,\n",
       " 'oil': 300,\n",
       " 'pops': 33,\n",
       " '1st': 245,\n",
       " 'accel': 6,\n",
       " 'shop': 115,\n",
       " 'trans': 19,\n",
       " 'leak': 25,\n",
       " 'sold': 238,\n",
       " 'bike': 537,\n",
       " 'owner': 155,\n",
       " 'want': 2515,\n",
       " '3495': 2,\n",
       " 'thinking': 455,\n",
       " '3k': 3,\n",
       " 'stable': 69,\n",
       " 'mate': 7,\n",
       " 'beemer': 12,\n",
       " 'jap': 8,\n",
       " 'axis': 37,\n",
       " 'motors': 42,\n",
       " 'tuba': 4,\n",
       " 'honk': 8,\n",
       " 'therefore': 484,\n",
       " 'computracrichardsontx': 4,\n",
       " 'dod': 448,\n",
       " '0826': 4,\n",
       " 'r756': 5,\n",
       " 'davidterminusericssonse': 10,\n",
       " 'david': 1528,\n",
       " 'bold': 28,\n",
       " 'popular': 222,\n",
       " 'morality': 365,\n",
       " 'camtec': 4,\n",
       " 'electronics': 206,\n",
       " 'ericsson': 37,\n",
       " 'leicester': 8,\n",
       " 'england': 145,\n",
       " '77': 110,\n",
       " 'bangkok': 4,\n",
       " '17570freenetcarletonca': 2,\n",
       " 'ad354freenetcarletonca': 7,\n",
       " 'james': 555,\n",
       " 'owens': 16,\n",
       " 'previous': 419,\n",
       " 'rude': 25,\n",
       " 'youve': 280,\n",
       " 'hold': 404,\n",
       " 'end': 1081,\n",
       " 'different': 1291,\n",
       " 'stick': 191,\n",
       " 'look': 1498,\n",
       " 'posting': 701,\n",
       " 'intent': 107,\n",
       " 'explaining': 55,\n",
       " 'jung': 10,\n",
       " 'moral': 428,\n",
       " 'god': 2557,\n",
       " 'overlooked': 13,\n",
       " 'main': 367,\n",
       " 'seem': 839,\n",
       " 'saying': 724,\n",
       " 'unknowable': 9,\n",
       " 'yep': 40,\n",
       " 'jew': 87,\n",
       " 'jewish': 567,\n",
       " 'jews': 843,\n",
       " 'covenant': 37,\n",
       " 'yhwh': 5,\n",
       " 'patriarchs': 2,\n",
       " 'abraham': 35,\n",
       " 'moses': 29,\n",
       " 'case': 1602,\n",
       " 'establishes': 13,\n",
       " 'follow': 339,\n",
       " 'mankind': 63,\n",
       " 'decide': 210,\n",
       " 'boundaries': 29,\n",
       " 'fall': 269,\n",
       " 'sadducees': 2,\n",
       " 'believed': 159,\n",
       " 'torah': 22,\n",
       " 'required': 366,\n",
       " 'whereas': 75,\n",
       " 'pharisees': 24,\n",
       " 'ancestors': 18,\n",
       " 'judaism': 61,\n",
       " 'interpretation': 168,\n",
       " 'lead': 275,\n",
       " 'nuances': 6,\n",
       " 'talmud': 3,\n",
       " 'essence': 59,\n",
       " 'biblical': 183,\n",
       " 'man': 885,\n",
       " 'christian': 855,\n",
       " 'necessarily': 322,\n",
       " 'indicate': 98,\n",
       " 'anything': 1396,\n",
       " 'outside': 387,\n",
       " 'relationship': 142,\n",
       " 'speculate': 31,\n",
       " 'comes': 681,\n",
       " 'mind': 628,\n",
       " 'created': 363,\n",
       " 'image': 768,\n",
       " 'committed': 189,\n",
       " 'live': 730,\n",
       " 'christs': 48,\n",
       " 'example': 1025,\n",
       " 'pressed': 38,\n",
       " 'argue': 197,\n",
       " 'kind': 851,\n",
       " 'trouble': 279,\n",
       " 'come': 1456,\n",
       " 'conclusion': 227,\n",
       " 'upsets': 3,\n",
       " 'cart': 13,\n",
       " 'wants': 378,\n",
       " 'script': 54,\n",
       " 'shaky': 12,\n",
       " 'foundation': 187,\n",
       " 'mix': 83,\n",
       " 'metaphors': 3,\n",
       " 'unashamedly': 1,\n",
       " 'living': 373,\n",
       " 'little': 1465,\n",
       " 'jesus': 1195,\n",
       " 'recorded': 48,\n",
       " 'utterances': 2,\n",
       " 'narratives': 5,\n",
       " 'followers': 83,\n",
       " 'references': 242,\n",
       " 'comtemporary': 1,\n",
       " 'historians': 26,\n",
       " 'revelation': 121,\n",
       " 'aside': 135,\n",
       " 'christ': 510,\n",
       " 'secondhand': 28,\n",
       " 'worse': 317,\n",
       " 'attempt': 277,\n",
       " 'debunk': 5,\n",
       " 'christianity': 375,\n",
       " 'initially': 46,\n",
       " 'bible': 770,\n",
       " 'interpret': 72,\n",
       " 'humanity': 80,\n",
       " 'guess': 624,\n",
       " 'faith': 575,\n",
       " 'relevation': 2,\n",
       " 'inherent': 62,\n",
       " 'subjectiveness': 2,\n",
       " 'metaphysically': 2,\n",
       " 'multiple': 266,\n",
       " 'codes': 85,\n",
       " 'absolute': 214,\n",
       " 'theologically': 7,\n",
       " 'questionable': 31,\n",
       " 'undoubtably': 5,\n",
       " 'founded': 61,\n",
       " 'parent': 83,\n",
       " 'child': 334,\n",
       " 'never': 1729,\n",
       " 'swear': 36,\n",
       " 'assume': 450,\n",
       " 'swears': 7,\n",
       " 'simply': 669,\n",
       " 'told': 775,\n",
       " 'trooper': 6,\n",
       " 'pub': 30,\n",
       " 'bar': 110,\n",
       " 'children': 755,\n",
       " 'wrongness': 4,\n",
       " 'disobeys': 2,\n",
       " 'inappropriate': 29,\n",
       " 'quite': 929,\n",
       " 'happy': 305,\n",
       " 'animals': 173,\n",
       " 'analogy': 81,\n",
       " 'water': 432,\n",
       " 'knows': 400,\n",
       " 'type': 629,\n",
       " 'gist': 8,\n",
       " 'incidentally': 29,\n",
       " 'young': 470,\n",
       " 'considers': 34,\n",
       " 'directive': 24,\n",
       " 'gets': 480,\n",
       " 'older': 173,\n",
       " 'piaget': 2,\n",
       " 'learns': 10,\n",
       " 'religion': 555,\n",
       " 'oh': 669,\n",
       " 'sea': 143,\n",
       " 'fishes': 8,\n",
       " 'cried': 25,\n",
       " 'swam': 6,\n",
       " 'clearness': 4,\n",
       " 'rodcfchpcom': 2,\n",
       " 'rod': 56,\n",
       " 'cerkoney': 3,\n",
       " 'g4qxffekvh6': 1,\n",
       " 'hpfcmrcfchpcom': 1,\n",
       " 'hewlett': 35,\n",
       " 'packard': 40,\n",
       " 'fort': 68,\n",
       " ...}"
      ]
     },
     "execution_count": 76,
     "metadata": {},
     "output_type": "execute_result"
    }
   ],
   "source": [
    "# create a dictionary containing the frequency of words utilizing the 'frequency_dict' function\n",
    "\n",
    "# expect this chunk to take a comparatively longer time to execute since our dataset is large\n",
    "\n",
    "freq_word = frequency_dict(lines)\n",
    "\n",
    "freq_word"
   ]
  },
  {
   "cell_type": "code",
   "execution_count": 77,
   "metadata": {
    "id": "vLvPijR_GKHn"
   },
   "outputs": [],
   "source": [
    "# create a function to calculate the Term Frequency\n",
    "\n",
    "def term_frequency(document, word):\n",
    "    '''\n",
    "    document: list containing the entire corpus\n",
    "    word: word whose term frequency is to be calculated\n",
    "    ---\n",
    "    tf: returns term frequency value\n",
    "    '''\n",
    "    \n",
    "    # number of times term t appears in a document d\n",
    "    t = 0\n",
    "    \n",
    "    # total numbers of terms in document d\n",
    "    f = len(document)\n",
    "    \n",
    "    for w in document:\n",
    "        # if word equals to given term (word), increment the count\n",
    "        if w == word:\n",
    "            t += 1\n",
    "    \n",
    "    tf = t / f\n",
    "\n",
    "    return tf"
   ]
  },
  {
   "cell_type": "code",
   "execution_count": 78,
   "metadata": {
    "id": "HA99G_yAGLCC"
   },
   "outputs": [],
   "source": [
    "# create a function to calculate the Inverse Document Frequency\n",
    "\n",
    "def inverse_df(word):\n",
    "    '''\n",
    "    word: word whose inverse document frequency is to be calculated\n",
    "    ---\n",
    "    idf: return inverse document frequency value\n",
    "    '''\n",
    "    \n",
    "    # number of documents with term t in it\n",
    "    freq = freq_word.get(word)\n",
    "    \n",
    "    idf = math.log(total_docs / freq)\n",
    "\n",
    "    return idf"
   ]
  },
  {
   "cell_type": "code",
   "execution_count": 79,
   "metadata": {
    "id": "F0irgwv2GRfE"
   },
   "outputs": [],
   "source": [
    "# create a function to combine the term frequencies (TF) and inverse document (IDF) frequencies calculated above \n",
    "# to get TF-IDF\n",
    "\n",
    "def tfidf(sentence, dict_idx):\n",
    "    '''\n",
    "    sentence: list containing the entire corpus\n",
    "    dict: dictionary keeping track of index of each word\n",
    "    ---\n",
    "    tf_idf_vec: returns computed tf-idf\n",
    "    '''\n",
    "    tf_idf_vec = np.zeros(len(dict_idx) + 1)\n",
    "\n",
    "    for word in sentence:\n",
    "        tf = term_frequency(sentence, word)\n",
    "        idf = inverse_df(word)\n",
    "        \n",
    "        tf_idf_vec[dict_idx[word]] = tf * idf\n",
    "\n",
    "    return tf_idf_vec"
   ]
  },
  {
   "cell_type": "code",
   "execution_count": 13,
   "metadata": {
    "id": "_VKJhqatGWpV"
   },
   "outputs": [],
   "source": [
    "# compute the vectors utilizing the 'tfidf' function created above to obtain a TF-IDF Encoded text corpus\n",
    "\n",
    "vectors = []\n",
    "\n",
    "for line in lines:\n",
    "    tf_idf_vec = tfidf(word_tokenize(line), dict_idx)\n",
    "    vectors.append(tf_idf_vec)"
   ]
  },
  {
   "cell_type": "markdown",
   "metadata": {
    "id": "LE0UGUaSGb8I"
   },
   "source": [
    "## Multinomial Naive Bayes (10 Points)"
   ]
  },
  {
   "cell_type": "code",
   "execution_count": 14,
   "metadata": {
    "id": "yWYcxrdJGfDC",
    "scrolled": true
   },
   "outputs": [
    {
     "data": {
      "text/html": [
       "<style>#sk-container-id-1 {color: black;background-color: white;}#sk-container-id-1 pre{padding: 0;}#sk-container-id-1 div.sk-toggleable {background-color: white;}#sk-container-id-1 label.sk-toggleable__label {cursor: pointer;display: block;width: 100%;margin-bottom: 0;padding: 0.3em;box-sizing: border-box;text-align: center;}#sk-container-id-1 label.sk-toggleable__label-arrow:before {content: \"▸\";float: left;margin-right: 0.25em;color: #696969;}#sk-container-id-1 label.sk-toggleable__label-arrow:hover:before {color: black;}#sk-container-id-1 div.sk-estimator:hover label.sk-toggleable__label-arrow:before {color: black;}#sk-container-id-1 div.sk-toggleable__content {max-height: 0;max-width: 0;overflow: hidden;text-align: left;background-color: #f0f8ff;}#sk-container-id-1 div.sk-toggleable__content pre {margin: 0.2em;color: black;border-radius: 0.25em;background-color: #f0f8ff;}#sk-container-id-1 input.sk-toggleable__control:checked~div.sk-toggleable__content {max-height: 200px;max-width: 100%;overflow: auto;}#sk-container-id-1 input.sk-toggleable__control:checked~label.sk-toggleable__label-arrow:before {content: \"▾\";}#sk-container-id-1 div.sk-estimator input.sk-toggleable__control:checked~label.sk-toggleable__label {background-color: #d4ebff;}#sk-container-id-1 div.sk-label input.sk-toggleable__control:checked~label.sk-toggleable__label {background-color: #d4ebff;}#sk-container-id-1 input.sk-hidden--visually {border: 0;clip: rect(1px 1px 1px 1px);clip: rect(1px, 1px, 1px, 1px);height: 1px;margin: -1px;overflow: hidden;padding: 0;position: absolute;width: 1px;}#sk-container-id-1 div.sk-estimator {font-family: monospace;background-color: #f0f8ff;border: 1px dotted black;border-radius: 0.25em;box-sizing: border-box;margin-bottom: 0.5em;}#sk-container-id-1 div.sk-estimator:hover {background-color: #d4ebff;}#sk-container-id-1 div.sk-parallel-item::after {content: \"\";width: 100%;border-bottom: 1px solid gray;flex-grow: 1;}#sk-container-id-1 div.sk-label:hover label.sk-toggleable__label {background-color: #d4ebff;}#sk-container-id-1 div.sk-serial::before {content: \"\";position: absolute;border-left: 1px solid gray;box-sizing: border-box;top: 0;bottom: 0;left: 50%;z-index: 0;}#sk-container-id-1 div.sk-serial {display: flex;flex-direction: column;align-items: center;background-color: white;padding-right: 0.2em;padding-left: 0.2em;position: relative;}#sk-container-id-1 div.sk-item {position: relative;z-index: 1;}#sk-container-id-1 div.sk-parallel {display: flex;align-items: stretch;justify-content: center;background-color: white;position: relative;}#sk-container-id-1 div.sk-item::before, #sk-container-id-1 div.sk-parallel-item::before {content: \"\";position: absolute;border-left: 1px solid gray;box-sizing: border-box;top: 0;bottom: 0;left: 50%;z-index: -1;}#sk-container-id-1 div.sk-parallel-item {display: flex;flex-direction: column;z-index: 1;position: relative;background-color: white;}#sk-container-id-1 div.sk-parallel-item:first-child::after {align-self: flex-end;width: 50%;}#sk-container-id-1 div.sk-parallel-item:last-child::after {align-self: flex-start;width: 50%;}#sk-container-id-1 div.sk-parallel-item:only-child::after {width: 0;}#sk-container-id-1 div.sk-dashed-wrapped {border: 1px dashed gray;margin: 0 0.4em 0.5em 0.4em;box-sizing: border-box;padding-bottom: 0.4em;background-color: white;}#sk-container-id-1 div.sk-label label {font-family: monospace;font-weight: bold;display: inline-block;line-height: 1.2em;}#sk-container-id-1 div.sk-label-container {text-align: center;}#sk-container-id-1 div.sk-container {/* jupyter's `normalize.less` sets `[hidden] { display: none; }` but bootstrap.min.css set `[hidden] { display: none !important; }` so we also need the `!important` here to be able to override the default hidden behavior on the sphinx rendered scikit-learn.org. See: https://github.com/scikit-learn/scikit-learn/issues/21755 */display: inline-block !important;position: relative;}#sk-container-id-1 div.sk-text-repr-fallback {display: none;}</style><div id=\"sk-container-id-1\" class=\"sk-top-container\"><div class=\"sk-text-repr-fallback\"><pre>MultinomialNB(alpha=0.01)</pre><b>In a Jupyter environment, please rerun this cell to show the HTML representation or trust the notebook. <br />On GitHub, the HTML representation is unable to render, please try loading this page with nbviewer.org.</b></div><div class=\"sk-container\" hidden><div class=\"sk-item\"><div class=\"sk-estimator sk-toggleable\"><input class=\"sk-toggleable__control sk-hidden--visually\" id=\"sk-estimator-id-1\" type=\"checkbox\" checked><label for=\"sk-estimator-id-1\" class=\"sk-toggleable__label sk-toggleable__label-arrow\">MultinomialNB</label><div class=\"sk-toggleable__content\"><pre>MultinomialNB(alpha=0.01)</pre></div></div></div></div></div>"
      ],
      "text/plain": [
       "MultinomialNB(alpha=0.01)"
      ]
     },
     "execution_count": 14,
     "metadata": {},
     "output_type": "execute_result"
    }
   ],
   "source": [
    "# fit a Multinomial Naive Bayes Model on our dataset\n",
    "\n",
    "# normalize features to [0,1] range to avoid negative values since Multinomial NB doesn't allow it\n",
    "normalized_vectors = MinMaxScaler().fit_transform(vectors)\n",
    "\n",
    "# alhpa : additive smoothing parameter\n",
    "model = MultinomialNB(alpha=.01)\n",
    "\n",
    "# fit naive bayes classifier according to X, y\n",
    "model.fit(normalized_vectors, mydata_train.target)"
   ]
  },
  {
   "cell_type": "code",
   "execution_count": 15,
   "metadata": {
    "id": "G6CiQB4qGfqH"
   },
   "outputs": [],
   "source": [
    "# perform testing on the train dataset\n",
    "\n",
    "pred = model.predict(normalized_vectors)"
   ]
  },
  {
   "cell_type": "code",
   "execution_count": 16,
   "metadata": {
    "id": "yCLagGu6Gh6T"
   },
   "outputs": [
    {
     "name": "stdout",
     "output_type": "stream",
     "text": [
      "F1 Score:  0.9987226738038085\n",
      "Accuracy:  0.9986742089446703\n"
     ]
    }
   ],
   "source": [
    "# calculate the F1 Score and the Accuracy\n",
    "\n",
    "F1_score = metrics.f1_score(mydata_train.target, pred, average='macro')\n",
    "Accuracy = metrics.accuracy_score(mydata_train.target, pred)\n",
    "\n",
    "print(\"F1 Score: \", F1_score)\n",
    "print(\"Accuracy: \", Accuracy)"
   ]
  },
  {
   "cell_type": "markdown",
   "metadata": {
    "id": "bbMRqJv5Gl2F"
   },
   "source": [
    "### Expected Output:\n",
    "F1 Score: 0.9533633964397735\n",
    "\n",
    "Accuracy: 0.9524482941488421"
   ]
  },
  {
   "cell_type": "markdown",
   "metadata": {
    "id": "AWRDuUqU-taV"
   },
   "source": [
    "Your accuracy does not have to be exactly the same. This is just to give you an estimate of what could you expect your accuracy to be around."
   ]
  },
  {
   "cell_type": "markdown",
   "metadata": {
    "id": "UfMc8cz93Cc0"
   },
   "source": [
    "## Question 2 Vector Visualization"
   ]
  },
  {
   "cell_type": "markdown",
   "metadata": {
    "id": "70iwEeL23F7K"
   },
   "source": [
    "In this unsupervised learning task we are going to cluster wikipedia articles into groups using T-SNE visualization after vectorization."
   ]
  },
  {
   "cell_type": "markdown",
   "metadata": {
    "id": "UHx4YuxW36oM"
   },
   "source": [
    "### Collect articles from Wikipedia (10 points)\n",
    "\n",
    "In this section we will download articles from wikipedia and then vectorize them in the next step. You can select somewhat related topics or fetch the articles randomly.\n",
    "(Use dir() and help() functions or refer wikipedia documentation)\n",
    "You may also pick any other data source of your choice instead of wikipedia."
   ]
  },
  {
   "cell_type": "code",
   "execution_count": 17,
   "metadata": {
    "id": "jA419x6__mjg"
   },
   "outputs": [],
   "source": [
    "# install libraries\n",
    "# !pip install wikipedia"
   ]
  },
  {
   "cell_type": "code",
   "execution_count": 80,
   "metadata": {
    "id": "vLMLk4K84Zbn"
   },
   "outputs": [],
   "source": [
    "import wikipedia\n",
    "from wikipedia.exceptions import WikipediaException\n",
    "\n",
    "'''\n",
    " Generate a list of wikipedia article to cluster\n",
    " You can maintain a static list of titles or generate them randomly using wikipedia library\n",
    " Some topics include:\n",
    " [\"Northeastern Unversity\", \"Natural language processing\", \"Machine learning\", \"Quantum machine learning\", \"Artificial intelligence\", \"Data science\", \"Master in Data Science\",\n",
    " \"Bank of America\", \"Visa Inc.\", \"European Central Bank\", \"Bank\", \"Financial technology\",\"International Monetary Fund\",\n",
    " \"Basketball\", \"Swimming\", \"Tennis\", \"Football\", \"College Football\", \"Association Football\"]\n",
    "\n",
    " You can add more topics from different categories so that we have a diverse dataset to work with.\n",
    " Ex- About 3+ categories(groups), 3+ topics in each category, 3+ articles in each topic\n",
    "'''\n",
    "\n",
    "# selected categories\n",
    "\n",
    "# technology\n",
    "category_1 = [\"Natural language processing\", \"Machine learning\", \"Quantum machine learning\", \n",
    "           \"Artificial intelligence\", \"Data science\", \"Master in Data Science\"]\n",
    "# finance\n",
    "category_2 = [\"Bank of America\", \"Visa Inc.\", \"European Central Bank\", \"Bank\", \"Financial technology\", \n",
    "              \"International Monetary Fund\"]\n",
    "# sports\n",
    "category_3 = [\"Basketball\", \"Swimming\", \"Tennis\", \"Football\", \"College Football\", \"Association Football\"]\n",
    "# geography\n",
    "category_4 = [\"Mountains\", \"Regions\", \"Rivers\", \"Territories\", \"Villages\", \"Cities\"]\n",
    "\n",
    "# selected topics\n",
    "topics = category_1 + category_2 + category_3 + category_4\n",
    "\n",
    "# list of articles to be downloaded\n",
    "articles = {}\n",
    "\n",
    "for topic in topics:\n",
    "    if topic in category_1:\n",
    "        label = \"technology\"\n",
    "    elif topic in category_2:\n",
    "        label = \"finance\"\n",
    "    elif topic in category_3:\n",
    "        label = \"sports\"\n",
    "    elif topic in category_4:\n",
    "        label = \"geography\"\n",
    "        \n",
    "    result = wikipedia.search(topic, results = 4)\n",
    "    \n",
    "    for a in result:\n",
    "        articles[a] = label\n",
    "\n",
    "# download and store articles (summaries) in this variable\n",
    "data = []\n",
    "category = []\n",
    "\n",
    "for a, l in articles.items():\n",
    "    try:\n",
    "        data.append(wikipedia.summary(a))\n",
    "        category.append(l)\n",
    "    except WikipediaException:\n",
    "        continue"
   ]
  },
  {
   "cell_type": "code",
   "execution_count": 81,
   "metadata": {
    "scrolled": false
   },
   "outputs": [
    {
     "data": {
      "text/plain": [
       "{'Natural language processing': 'technology',\n",
       " 'Natural language': 'technology',\n",
       " 'Outline of natural language processing': 'technology',\n",
       " 'Natural Language Toolkit': 'technology',\n",
       " 'Machine learning': 'technology',\n",
       " 'Quantum machine learning': 'technology',\n",
       " 'Adversarial machine learning': 'technology',\n",
       " 'Attention (machine learning)': 'technology',\n",
       " 'Machine learning in physics': 'technology',\n",
       " 'Leakage (machine learning)': 'technology',\n",
       " 'Artificial intelligence': 'technology',\n",
       " 'Generative artificial intelligence': 'technology',\n",
       " 'Artificial general intelligence': 'technology',\n",
       " 'A.I. Artificial Intelligence': 'technology',\n",
       " 'Data science': 'technology',\n",
       " 'Data': 'technology',\n",
       " 'Data (computer science)': 'technology',\n",
       " 'Data analysis': 'technology',\n",
       " 'Master in Data Science': 'technology',\n",
       " \"List of master's degrees\": 'technology',\n",
       " 'Master of Science in Information Technology': 'technology',\n",
       " 'Master of Library and Information Science': 'technology',\n",
       " 'Bank of America': 'finance',\n",
       " 'Bank of America Stadium': 'finance',\n",
       " 'Bank of America Private Bank': 'finance',\n",
       " 'Bank of America Roval 400': 'finance',\n",
       " 'Visa Inc.': 'finance',\n",
       " 'Visa': 'finance',\n",
       " 'Visa Debit': 'finance',\n",
       " '3-D Secure': 'finance',\n",
       " 'European Central Bank': 'finance',\n",
       " 'Central bank': 'finance',\n",
       " 'European System of Central Banks': 'finance',\n",
       " 'President of the European Central Bank': 'finance',\n",
       " 'Bank': 'finance',\n",
       " 'West Bank': 'finance',\n",
       " 'BANK (art collective)': 'finance',\n",
       " 'HDFC Bank': 'finance',\n",
       " 'Fintech': 'finance',\n",
       " 'Financial technology in India': 'finance',\n",
       " 'Finance': 'finance',\n",
       " 'OneConnect Financial Technology': 'finance',\n",
       " 'International Monetary Fund': 'finance',\n",
       " 'Pakistan and the International Monetary Fund': 'finance',\n",
       " 'Ukraine and the International Monetary Fund': 'finance',\n",
       " 'Nigeria and the International Monetary Fund': 'finance',\n",
       " 'Basketball': 'sports',\n",
       " 'Basketball at the Asian Games': 'sports',\n",
       " 'National Basketball Association': 'sports',\n",
       " 'Basketball at the 2018 Asian Games – Men': 'sports',\n",
       " 'Swimming': 'sports',\n",
       " 'Swimming (sport)': 'sports',\n",
       " 'List of top Olympic gold medalists in swimming': 'sports',\n",
       " 'Aquatics at the 1990 Commonwealth Games': 'sports',\n",
       " 'Tennis': 'sports',\n",
       " 'Table tennis': 'sports',\n",
       " 'History of tennis': 'sports',\n",
       " 'Grand Slam (tennis)': 'sports',\n",
       " 'Football': 'sports',\n",
       " 'College football': 'sports',\n",
       " 'National Football League': 'sports',\n",
       " 'United States national football team': 'sports',\n",
       " 'College Football Playoff': 'sports',\n",
       " 'College GameDay (football TV program)': 'sports',\n",
       " 'College football national championships in NCAA Division I FBS': 'sports',\n",
       " 'Association football': 'sports',\n",
       " 'The Football Association': 'sports',\n",
       " 'FIFA': 'sports',\n",
       " 'Mountain': 'geography',\n",
       " 'Mountain range': 'geography',\n",
       " 'Rocky Mountains': 'geography',\n",
       " 'List of highest mountains on Earth': 'geography',\n",
       " 'Region': 'geography',\n",
       " 'Regions of Italy': 'geography',\n",
       " 'Regions of France': 'geography',\n",
       " 'Regions of England': 'geography',\n",
       " 'River': 'geography',\n",
       " 'List of rivers of the United Kingdom': 'geography',\n",
       " 'Joan Rivers': 'geography',\n",
       " 'Philip Rivers': 'geography',\n",
       " 'Territory': 'geography',\n",
       " 'Palestinian territories': 'geography',\n",
       " 'Provinces and territories of Canada': 'geography',\n",
       " 'Northwest Territories': 'geography',\n",
       " 'Village': 'geography',\n",
       " 'The Villages, Florida': 'geography',\n",
       " 'List of villages in Japan': 'geography',\n",
       " 'Village (United States)': 'geography',\n",
       " 'City': 'geography',\n",
       " 'List of municipalities in Michigan': 'geography',\n",
       " 'List of cities in India by population': 'geography',\n",
       " 'List of United States cities by population': 'geography'}"
      ]
     },
     "execution_count": 81,
     "metadata": {},
     "output_type": "execute_result"
    }
   ],
   "source": [
    "articles"
   ]
  },
  {
   "cell_type": "markdown",
   "metadata": {
    "id": "IgpRv7wQ4Dpm"
   },
   "source": [
    "### Cleaning the Data (5 points)\n",
    "In this step you will decide whether to clean the data or not. If you choose to clean, you may utilize the clean function from assignment 1.\n",
    "\n",
    "**Question:** Why are you (not) choosing to clean the data? Think in terms of whether cleaning data will help in the clustering or not."
   ]
  },
  {
   "cell_type": "markdown",
   "metadata": {
    "id": "PnZpDKcaHTGq"
   },
   "source": [
    "**Answer(1-3 sentences):** I choose to clean the data because having clean data is going to increase overall productivity and allow the model for the highest quality in decision-making by minimizing the noise from the corpus such as stopwords, punctuations, etc. Additionally, it ensures the data quality and validity when grouping similar objects based on their features.\n",
    "It also reduces the dimensions of the data. "
   ]
  },
  {
   "cell_type": "code",
   "execution_count": 82,
   "metadata": {
    "id": "lNj53Pxr963N"
   },
   "outputs": [],
   "source": [
    "# you can use Assignment 1's clean message function\n",
    "import re\n",
    "import nltk\n",
    "import string\n",
    "#nltk.download('punkt')\n",
    "#nltk.download('stopwords')\n",
    "\n",
    "def clean_message(message):\n",
    "    \n",
    "    # convert to lowercase\n",
    "    message = message.lower()\n",
    "    \n",
    "    # remove links i.e. new line tags\n",
    "    message = re.sub(\"\\n\", \" \", message)\n",
    "    \n",
    "    # remove punctuations\n",
    "    message = message.translate(str.maketrans('', '', string.punctuation))\n",
    "    \n",
    "    # remove stopwords\n",
    "    word_tokens = word_tokenize(message)\n",
    "    stop_words = set(stopwords.words('english'))\n",
    "    word_tokens_without_sw = [word for word in word_tokens if not word in stop_words]\n",
    "    \n",
    "    # concatenate word tokens without sw to form a sentence\n",
    "    filtered_words = (\" \").join(word_tokens_without_sw)\n",
    "    \n",
    "    # stemming operation\n",
    "    word_tokens = word_tokenize(filtered_words)\n",
    "    lemmatizer = WordNetLemmatizer()\n",
    "    singles = [lemmatizer.lemmatize(word) for word in word_tokens]\n",
    "    \n",
    "    # concatenate word tokens back to form a sentence\n",
    "    message = (\" \").join(singles)\n",
    "    \n",
    "    return message"
   ]
  },
  {
   "cell_type": "code",
   "execution_count": 83,
   "metadata": {},
   "outputs": [],
   "source": [
    "# list to store clean summaries\n",
    "clean_data = []\n",
    "\n",
    "# clean up the wikipedia data\n",
    "for summary in data:\n",
    "    clean_data.append(clean_message(summary))"
   ]
  },
  {
   "cell_type": "code",
   "execution_count": 84,
   "metadata": {},
   "outputs": [
    {
     "data": {
      "text/plain": [
       "75"
      ]
     },
     "execution_count": 84,
     "metadata": {},
     "output_type": "execute_result"
    }
   ],
   "source": [
    "len(clean_data)"
   ]
  },
  {
   "cell_type": "markdown",
   "metadata": {
    "id": "bvRZUpmq-DmT"
   },
   "source": [
    "### Vectorize the articles (5 points)\n",
    "\n",
    "In this step, we will vectorize the text data. You can use TfidfVectorizer() or countVectorizer() from sklearn library."
   ]
  },
  {
   "cell_type": "code",
   "execution_count": 85,
   "metadata": {
    "id": "gJk8YY89-OU4"
   },
   "outputs": [],
   "source": [
    "# initiliaze the vectorizer\n",
    "vectorizer = TfidfVectorizer()\n",
    "\n",
    "# transform the data\n",
    "X = vectorizer.fit_transform(clean_data)"
   ]
  },
  {
   "cell_type": "code",
   "execution_count": 86,
   "metadata": {
    "id": "DAIGlqEuINWA"
   },
   "outputs": [
    {
     "name": "stdout",
     "output_type": "stream",
     "text": [
      "(75, 3482)\n"
     ]
    }
   ],
   "source": [
    "print(X.shape)"
   ]
  },
  {
   "cell_type": "markdown",
   "metadata": {
    "id": "PKLvrKHRQaQq"
   },
   "source": [
    "### Sample Output:\n",
    "(36, 1552)"
   ]
  },
  {
   "cell_type": "markdown",
   "metadata": {
    "id": "M5ZrGrzD_G8d"
   },
   "source": [
    "### Plot Articles (10 points)\n",
    "Now we will try to verify the groups of articles using T-SNE from sklearn library."
   ]
  },
  {
   "cell_type": "code",
   "execution_count": 87,
   "metadata": {
    "id": "SjcuZBOe-oZq"
   },
   "outputs": [],
   "source": [
    "# call TSNE() to fit the data\n",
    "X_embedded = TSNE(n_components=2, init='random').fit_transform(X)"
   ]
  },
  {
   "cell_type": "code",
   "execution_count": 88,
   "metadata": {},
   "outputs": [
    {
     "data": {
      "text/plain": [
       "75"
      ]
     },
     "execution_count": 88,
     "metadata": {},
     "output_type": "execute_result"
    }
   ],
   "source": [
    "len(X_embedded)"
   ]
  },
  {
   "cell_type": "markdown",
   "metadata": {
    "id": "iCY_blxjO1bs"
   },
   "source": [
    "Plot and annotate the points with different markers for different expected groups."
   ]
  },
  {
   "cell_type": "code",
   "execution_count": 90,
   "metadata": {
    "colab": {
     "base_uri": "https://localhost:8080/",
     "height": 483
    },
    "id": "3ODUA1Vf-rRd",
    "outputId": "325b5db4-60d1-4907-a487-40893e256ee1"
   },
   "outputs": [
    {
     "data": {
      "image/png": "[encoded data removed]",
      "text/plain": [
       "<Figure size 800x600 with 1 Axes>"
      ]
     },
     "metadata": {},
     "output_type": "display_data"
    }
   ],
   "source": [
    "# initialize data frame and columns\n",
    "df = pd.DataFrame()\n",
    "df['tsne_x'] = X_embedded[:,0]\n",
    "df['tsne_y'] = X_embedded[:,1]\n",
    "\n",
    "# assign label to each record\n",
    "groups = df.assign(category=category).groupby('category')\n",
    "\n",
    "# get a figure handle\n",
    "fig, ax = plt.subplots(figsize=(8,6))\n",
    "\n",
    "# dict of markers with categories as keys\n",
    "markers = {\"finance\": \"^\", \"geography\": \"*\", \"sports\": \"2\", \"technology\": \"+\"}\n",
    "\n",
    "for name, points in groups:\n",
    "    ax.scatter(points.tsne_x, points.tsne_y, label=name, marker=markers[name], s=125)\n",
    "\n",
    "ax.legend()\n",
    "ax.set_xlabel(\"tsne_x\")\n",
    "ax.set_ylabel(\"tsne_y\")\n",
    "plt.show()"
   ]
  },
  {
   "cell_type": "markdown",
   "metadata": {
    "id": "dYcEi1EC_UGO"
   },
   "source": [
    "**Question:** Comment about the categorizion done by T-SNE. Do the articles of related topics cluster together? (5 points)"
   ]
  },
  {
   "cell_type": "markdown",
   "metadata": {
    "id": "tde1Wu5HI6AA"
   },
   "source": [
    "**Answer(1-3 sentences):** It can be inferred from the plot that articles of related topics are relatively clustered together, and hence the categorization done by T-SNE does a decent job. There is the case however of geography articles being clustered around finance articles. Based on the topics chosen in each category and the articles acquired, it could be due to the geographical information contained in the articles from the finance category, such as Bank of America, Visa, etc. which causes them to be intermixed. "
   ]
  },
  {
   "cell_type": "markdown",
   "metadata": {
    "id": "U2xrJddIpSsd"
   },
   "source": [
    "# Question 3 Building Neural Networks\n",
    "\n",
    "### We are gonna use Emotions Dataset for this task. We need to classify the given text into different kind of emotions like happy,sad,anger etc..,\n",
    "\n",
    "### We are providing train.txt and val.txt files along with this notebook."
   ]
  },
  {
   "cell_type": "markdown",
   "metadata": {
    "id": "NJYmVbkvphgX"
   },
   "source": [
    "### Library Imports and Utility functions"
   ]
  },
  {
   "cell_type": "code",
   "execution_count": 3,
   "metadata": {
    "id": "BO-HU-7uorVX"
   },
   "outputs": [],
   "source": [
    "from sklearn.feature_extraction.text import CountVectorizer\n",
    "from sklearn.feature_extraction.text import TfidfVectorizer\n",
    "import nltk\n",
    "from nltk.corpus import stopwords\n",
    "from nltk.stem import PorterStemmer\n",
    "from nltk.tokenize import word_tokenize\n",
    "import string\n",
    "import pandas as pd\n",
    "import re\n",
    "#string.punctuation\n",
    "import nltk\n",
    "# nltk.download('stopwords')\n",
    "# nltk.download('wordnet')\n",
    "# nltk.download('words')\n",
    "\n",
    "stopword = nltk.corpus.stopwords.words('english')\n",
    "wn = nltk.WordNetLemmatizer()\n",
    "ps = nltk.PorterStemmer()\n",
    "words = set(nltk.corpus.words.words())\n",
    "\n",
    "\n",
    "def clean_text(text):\n",
    "  # from the last assignment\n",
    "    text = text.lower()\n",
    "    text = re.sub(r\"http\\S+\", \"\", text)\n",
    "    text = re.sub(r\"www.\\S+\", \"\", text)\n",
    "    text_links_removed = \"\".join([char for char in text if char not in string.punctuation])\n",
    "    text_cleaned = \" \".join([word for word in re.split('\\W+', text_links_removed)\n",
    "        if word not in stopword])\n",
    "    text = \" \".join([wn.lemmatize(word) for word in re.split('\\W+', text_cleaned)])\n",
    "    return text"
   ]
  },
  {
   "cell_type": "markdown",
   "metadata": {
    "id": "B0D5wVjZw7s0"
   },
   "source": [
    "### Q) Importing the datasets and do the necessary cleaning and convert the text into the vectors which are mentioned in the below code blocks. (10 points)"
   ]
  },
  {
   "cell_type": "code",
   "execution_count": 4,
   "metadata": {
    "id": "MOMhmIlGprK9",
    "scrolled": false
   },
   "outputs": [
    {
     "name": "stdout",
     "output_type": "stream",
     "text": [
      "(16000, 2)\n",
      "(2000, 2)\n"
     ]
    }
   ],
   "source": [
    "# import the train.txt and val.txt file into pandas dataframe format\n",
    "\n",
    "# train\n",
    "df_train = pd.DataFrame()\n",
    "df_train = pd.read_csv(\"train.txt\", sep = ';', header = None)\n",
    "df_train.columns = ['Sentence', 'Emotion']\n",
    "\n",
    "# validation\n",
    "df_val = pd.DataFrame()\n",
    "df_val = pd.read_csv(\"val.txt\", sep = ';', header = None)\n",
    "df_val.columns = ['Sentence', 'Emotion']\n",
    "\n",
    "# and printout the train.shape and validation.shape\n",
    "print(df_train.shape)\n",
    "print(df_val.shape)\n",
    "\n",
    "# expected shape of train dataset is (16000,2) and validation dataset is (2000,2)"
   ]
  },
  {
   "cell_type": "code",
   "execution_count": 5,
   "metadata": {
    "id": "PS7K3p7AqAI8"
   },
   "outputs": [],
   "source": [
    "# clean the text in the train and validation dataframes using the clean_text function provided above\n",
    "for i in range(len(df_train)):\n",
    "    df_train['Sentence'].iloc[i] = clean_text(df_train['Sentence'].iloc[i])\n",
    "\n",
    "for i in range(len(df_val)):\n",
    "    df_val['Sentence'].iloc[i] = clean_text(df_val['Sentence'].iloc[i])"
   ]
  },
  {
   "cell_type": "code",
   "execution_count": 7,
   "metadata": {
    "id": "GxZC6RIjq3bu"
   },
   "outputs": [],
   "source": [
    "# initialise count vectorizer from sklearn module with default parameter\n",
    "countVec = CountVectorizer()\n",
    "\n",
    "# fit on train dataset and transform both train and validation dataset\n",
    "\n",
    "# countVectorizer transform returns a sparse matrix and tensorflow model accepts a tensorflow tensor or a list/array,\n",
    "# so it's required to convert the shape to an array/list\n",
    "\n",
    "X_train_countVec = countVec.fit_transform(df_train['Sentence']).toarray()\n",
    "X_val_countVec = countVec.transform(df_val['Sentence']).toarray()"
   ]
  },
  {
   "cell_type": "code",
   "execution_count": 8,
   "metadata": {},
   "outputs": [
    {
     "name": "stdout",
     "output_type": "stream",
     "text": [
      "(16000, 13457)\n",
      "(2000, 13457)\n"
     ]
    }
   ],
   "source": [
    "print(X_train_countVec.shape)\n",
    "print(X_val_countVec.shape)"
   ]
  },
  {
   "cell_type": "code",
   "execution_count": 9,
   "metadata": {
    "id": "85nuazEzq3YT"
   },
   "outputs": [],
   "source": [
    "# initialise tfidf vectorizer from sklearn module with default parameter\n",
    "tfidfVec = TfidfVectorizer()\n",
    "\n",
    "# fit on train dataset and transform both train and validation dataset\n",
    "\n",
    "# tfidfVectorizer transform returns a sparse matrix and tensorflow model accepts a tensorflow tensor or a list/array,\n",
    "# so it's required to convert the shape to an array/list\n",
    "\n",
    "X_train_tfidf = tfidfVec.fit_transform(df_train['Sentence']).toarray()\n",
    "X_val_tfidf = tfidfVec.transform(df_val['Sentence']).toarray()"
   ]
  },
  {
   "cell_type": "code",
   "execution_count": 10,
   "metadata": {},
   "outputs": [
    {
     "name": "stdout",
     "output_type": "stream",
     "text": [
      "(16000, 13457)\n",
      "(2000, 13457)\n"
     ]
    }
   ],
   "source": [
    "print(X_train_tfidf.shape)\n",
    "print(X_val_tfidf.shape)"
   ]
  },
  {
   "cell_type": "code",
   "execution_count": 11,
   "metadata": {
    "id": "jgHWAuG-q3Vm"
   },
   "outputs": [],
   "source": [
    "# initialise label encoder from sklearn module\n",
    "le = LabelEncoder()\n",
    "\n",
    "# fit on train labels and transform both train and validation labels\n",
    "\n",
    "le_train = le.fit_transform(df_train['Emotion'].values)\n",
    "le_val = le.transform(df_val['Emotion'].values)"
   ]
  },
  {
   "cell_type": "code",
   "execution_count": 12,
   "metadata": {},
   "outputs": [
    {
     "name": "stdout",
     "output_type": "stream",
     "text": [
      "(16000,)\n",
      "(2000,)\n"
     ]
    }
   ],
   "source": [
    "print(le_train.shape)\n",
    "print(le_val.shape)"
   ]
  },
  {
   "cell_type": "code",
   "execution_count": 13,
   "metadata": {
    "id": "Wjdye0tvq3So"
   },
   "outputs": [],
   "source": [
    "# convert the labels into one hot encoding form\n",
    "encoder = OneHotEncoder(handle_unknown='ignore')\n",
    "\n",
    "# fit and transform train and validation labels\n",
    "\n",
    "# OneHotEncoder transform returns a sparse matrix and tensorflow model accepts a tensorflow tensor or a list/array,\n",
    "# so it's required to convert the shape to an array/list\n",
    "\n",
    "encoded_train = encoder.fit_transform(le_train.reshape(-1,1)).toarray()\n",
    "encoded_val = encoder.fit_transform(le_val.reshape(-1,1)).toarray()"
   ]
  },
  {
   "cell_type": "code",
   "execution_count": 14,
   "metadata": {},
   "outputs": [
    {
     "name": "stdout",
     "output_type": "stream",
     "text": [
      "(16000, 6)\n",
      "(2000, 6)\n"
     ]
    }
   ],
   "source": [
    "print(encoded_train.shape)\n",
    "print(encoded_val.shape)"
   ]
  },
  {
   "cell_type": "markdown",
   "metadata": {
    "id": "xjsiH8YOw-Da"
   },
   "source": [
    "### Q) Build the neural networks using tensorflow keras by following the below instructions. Evaluate the model on different metrics and comment your observations. (20 points)"
   ]
  },
  {
   "cell_type": "code",
   "execution_count": 15,
   "metadata": {
    "id": "AQg14bkTq3KB"
   },
   "outputs": [],
   "source": [
    "import tensorflow as tf\n",
    "from tensorflow import keras\n",
    "from tensorflow.keras import layers\n",
    "\n",
    "tf.random.set_seed(42)\n",
    "\n",
    "\n",
    "# complete this linear model in tensorflow\n",
    "def build_model(X):\n",
    "\n",
    "  # layer 1 : input layer\n",
    "    inp = tf.keras.Input((X.shape[1],))\n",
    "\n",
    "  # layer 2 : add the dense layer with 2048 units and relu activation\n",
    "    x = tf.keras.layers.Dense(2048, input_dim = X.shape[1], activation = 'relu')(inp)\n",
    "\n",
    "  # layer 3 : add the dropout layer with dropout rate of 0.5\n",
    "    x = tf.keras.layers.Dropout(0.5)(x)\n",
    "\n",
    "  # layer 4 : add the dense layer with 1024 units with tanh activation and with l2 regularization\n",
    "    x = tf.keras.layers.Dense(1024, activation = 'tanh', kernel_regularizer='l2')(x)\n",
    "\n",
    "  # layer 5 : add the dropout layer with dropout rate of 0.5\n",
    "    x = tf.keras.layers.Dropout(0.5)(x)\n",
    "\n",
    "  # layer 6 : add the dense layer with 512 units with tanh activation and with l2 regularization\n",
    "    x = tf.keras.layers.Dense(512, activation = 'tanh', kernel_regularizer='l2')(x)\n",
    "\n",
    "  # layer 7 : add the dropout layer with dropout rate of 0.5\n",
    "    x = tf.keras.layers.Dropout(0.5)(x)\n",
    "\n",
    "  # layer 8 : add the dense layer with 256 units with tanh activation and with l2 regularization\n",
    "    x = tf.keras.layers.Dense(256, activation = 'tanh', kernel_regularizer='l2')(x)\n",
    "\n",
    "  # layer 9 : add the dropout layer with dropout rate of 0.5\n",
    "    x = tf.keras.layers.Dropout(0.5)(x)\n",
    "\n",
    "  # layer 10 : add the dense layer with 128 units with tanh activation and with l2 regularization\n",
    "    x = tf.keras.layers.Dense(128, activation = 'tanh', kernel_regularizer='l2')(x)\n",
    "\n",
    "  # layer 11 : add the dropout layer with dropout rate of 0.5\n",
    "    x = tf.keras.layers.Dropout(0.5)(x)\n",
    "\n",
    "  # layer 12 : output layer with units equal to number of classes and activation as softmax\n",
    "    x = tf.keras.layers.Dense(6, activation = 'softmax')(x)\n",
    "\n",
    "  # use loss as categorical crossentropy, optimizer as rmsprop and evaluate model on auc,precision,recall,accuracy\n",
    "    model = tf.keras.models.Model(inputs = inp, outputs = x)\n",
    "    \n",
    "    opt = tf.keras.optimizers.RMSprop(learning_rate=0.001)\n",
    "    \n",
    "    model.compile(loss = 'CategoricalCrossentropy', optimizer = opt, metrics = ['AUC', 'Precision', 'Recall', 'Accuracy'])\n",
    "    \n",
    "    return model"
   ]
  },
  {
   "cell_type": "code",
   "execution_count": 16,
   "metadata": {
    "id": "Q71CC1pIsx0O"
   },
   "outputs": [],
   "source": [
    "# call the build_model function and initialize the model\n",
    "model = build_model(X_train_countVec)"
   ]
  },
  {
   "cell_type": "code",
   "execution_count": 17,
   "metadata": {
    "id": "KyAZNgsBsxwo"
   },
   "outputs": [
    {
     "name": "stdout",
     "output_type": "stream",
     "text": [
      "Epoch 1/10\n",
      "1600/1600 [==============================] - 224s 139ms/step - loss: 2.4458 - auc: 0.8014 - precision: 0.5752 - recall: 0.1482 - Accuracy: 0.4126 - val_loss: 1.3122 - val_auc: 0.8723 - val_precision: 0.6785 - val_recall: 0.3430 - val_Accuracy: 0.5185\n",
      "Epoch 2/10\n",
      "1600/1600 [==============================] - 224s 140ms/step - loss: 1.2444 - auc: 0.8919 - precision: 0.7214 - recall: 0.4545 - Accuracy: 0.6194 - val_loss: 1.2064 - val_auc: 0.9012 - val_precision: 0.7332 - val_recall: 0.5620 - val_Accuracy: 0.6735\n",
      "Epoch 3/10\n",
      "1600/1600 [==============================] - 218s 136ms/step - loss: 1.1489 - auc: 0.9141 - precision: 0.7461 - recall: 0.5764 - Accuracy: 0.6809 - val_loss: 1.2002 - val_auc: 0.9083 - val_precision: 0.7634 - val_recall: 0.6195 - val_Accuracy: 0.6940\n",
      "Epoch 4/10\n",
      "1600/1600 [==============================] - 219s 137ms/step - loss: 1.0972 - auc: 0.9240 - precision: 0.7612 - recall: 0.6202 - Accuracy: 0.7066 - val_loss: 1.1552 - val_auc: 0.9144 - val_precision: 0.7480 - val_recall: 0.6055 - val_Accuracy: 0.6800\n",
      "Epoch 5/10\n",
      "1600/1600 [==============================] - 2314s 1s/step - loss: 1.0437 - auc: 0.9327 - precision: 0.7754 - recall: 0.6546 - Accuracy: 0.7242 - val_loss: 1.1271 - val_auc: 0.9242 - val_precision: 0.7632 - val_recall: 0.6625 - val_Accuracy: 0.7255\n",
      "Epoch 6/10\n",
      "1600/1600 [==============================] - 213s 133ms/step - loss: 1.0137 - auc: 0.9386 - precision: 0.7891 - recall: 0.6752 - Accuracy: 0.7376 - val_loss: 1.1648 - val_auc: 0.9180 - val_precision: 0.7370 - val_recall: 0.6570 - val_Accuracy: 0.6930\n",
      "Epoch 7/10\n",
      "1600/1600 [==============================] - 211s 132ms/step - loss: 0.9957 - auc: 0.9415 - precision: 0.7919 - recall: 0.6866 - Accuracy: 0.7441 - val_loss: 1.1204 - val_auc: 0.9280 - val_precision: 0.7624 - val_recall: 0.6785 - val_Accuracy: 0.7165\n",
      "Epoch 8/10\n",
      "1600/1600 [==============================] - 211s 132ms/step - loss: 0.9698 - auc: 0.9458 - precision: 0.8051 - recall: 0.7067 - Accuracy: 0.7558 - val_loss: 1.1220 - val_auc: 0.9245 - val_precision: 0.7632 - val_recall: 0.6525 - val_Accuracy: 0.7100\n",
      "Epoch 9/10\n",
      "1600/1600 [==============================] - 215s 134ms/step - loss: 0.9579 - auc: 0.9478 - precision: 0.8046 - recall: 0.7101 - Accuracy: 0.7586 - val_loss: 1.1881 - val_auc: 0.9245 - val_precision: 0.7613 - val_recall: 0.7080 - val_Accuracy: 0.7235\n",
      "Epoch 10/10\n",
      "1600/1600 [==============================] - 212s 133ms/step - loss: 0.9492 - auc: 0.9493 - precision: 0.8114 - recall: 0.7175 - Accuracy: 0.7649 - val_loss: 1.1719 - val_auc: 0.9223 - val_precision: 0.7623 - val_recall: 0.6445 - val_Accuracy: 0.7115\n"
     ]
    }
   ],
   "source": [
    "# train and validate the model on the count vectors of text which we have created initially for 10 epochs,\n",
    "# adjust batch size according to your computation power (suggestion use : 8)\n",
    "\n",
    "history = model.fit(X_train_countVec, encoded_train, epochs = 10, batch_size = 10, \n",
    "                    validation_data=(X_val_countVec, encoded_val))"
   ]
  },
  {
   "cell_type": "code",
   "execution_count": 19,
   "metadata": {},
   "outputs": [
    {
     "name": "stdout",
     "output_type": "stream",
     "text": [
      "dict_keys(['loss', 'auc', 'precision', 'recall', 'Accuracy', 'val_loss', 'val_auc', 'val_precision', 'val_recall', 'val_Accuracy'])\n"
     ]
    }
   ],
   "source": [
    "print(history.history.keys())"
   ]
  },
  {
   "cell_type": "code",
   "execution_count": 23,
   "metadata": {
    "id": "nS02IwLCsxmG",
    "scrolled": false
   },
   "outputs": [
    {
     "data": {
      "image/png": "[encoded data removed]",
      "text/plain": [
       "<Figure size 640x480 with 1 Axes>"
      ]
     },
     "metadata": {},
     "output_type": "display_data"
    },
    {
     "data": {
      "image/png": "[encoded data removed]",
      "text/plain": [
       "<Figure size 640x480 with 1 Axes>"
      ]
     },
     "metadata": {},
     "output_type": "display_data"
    },
    {
     "data": {
      "image/png": "[encoded data removed]",
      "text/plain": [
       "<Figure size 640x480 with 1 Axes>"
      ]
     },
     "metadata": {},
     "output_type": "display_data"
    },
    {
     "data": {
      "image/png": "[encoded data removed]",
      "text/plain": [
       "<Figure size 640x480 with 1 Axes>"
      ]
     },
     "metadata": {},
     "output_type": "display_data"
    },
    {
     "data": {
      "image/png": "[encoded data removed]",
      "text/plain": [
       "<Figure size 640x480 with 1 Axes>"
      ]
     },
     "metadata": {},
     "output_type": "display_data"
    }
   ],
   "source": [
    "# plot train loss vs val loss, train auc vs val auc, train recall vs val recall, train precision vs val precision \n",
    "# and train accuracy vs val accuracy and comment your observations\n",
    "\n",
    "# summarize history for loss\n",
    "plt.plot(history.history['loss'])\n",
    "plt.plot(history.history['val_loss'])\n",
    "plt.title('Model Loss')\n",
    "plt.ylabel('Loss')\n",
    "plt.xlabel('Epoch')\n",
    "plt.legend(['train', 'val'], loc='upper right')\n",
    "plt.show()\n",
    "\n",
    "# summarize history for auc\n",
    "plt.plot(history.history['auc'])\n",
    "plt.plot(history.history['val_auc'])\n",
    "plt.title('Model Auc')\n",
    "plt.ylabel('Auc')\n",
    "plt.xlabel('Epoch')\n",
    "plt.legend(['train', 'val'], loc='lower right')\n",
    "plt.show()\n",
    "\n",
    "# summarize history for recall\n",
    "plt.plot(history.history['recall'])\n",
    "plt.plot(history.history['val_recall'])\n",
    "plt.title('Model Recall')\n",
    "plt.ylabel('Recall')\n",
    "plt.xlabel('Epoch')\n",
    "plt.legend(['train', 'val'], loc='lower right')\n",
    "plt.show()\n",
    "\n",
    "# summarize history for precision\n",
    "plt.plot(history.history['precision'])\n",
    "plt.plot(history.history['val_precision'])\n",
    "plt.title('Model Precision')\n",
    "plt.ylabel('Precision')\n",
    "plt.xlabel('Epoch')\n",
    "plt.legend(['train', 'val'], loc='lower right')\n",
    "plt.show()\n",
    "\n",
    "# summarize history for accuracy\n",
    "plt.plot(history.history['Accuracy'])\n",
    "plt.plot(history.history['val_Accuracy'])\n",
    "plt.title('Model Accuracy')\n",
    "plt.ylabel('Accuracy')\n",
    "plt.xlabel('Epoch')\n",
    "plt.legend(['train', 'val'], loc='lower right')\n",
    "plt.show()"
   ]
  },
  {
   "cell_type": "markdown",
   "metadata": {},
   "source": [
    "### comment on plot observations\n",
    "Loss is showing a dimenshing effect over the increasing epochs cycles, whereas, precision and recall are increasing over time, and therefore, AUC is also showing an increasing effect. Thus, for model to have a higher prediction chance we need to have a higher accuracy which is what our model shows over time. "
   ]
  },
  {
   "cell_type": "code",
   "execution_count": 24,
   "metadata": {
    "id": "6FHdCcp7wXyw"
   },
   "outputs": [],
   "source": [
    "# again call the build_model function and initialize the model\n",
    "model = build_model(X_train_tfidf)"
   ]
  },
  {
   "cell_type": "code",
   "execution_count": 25,
   "metadata": {
    "id": "k4gB80M6wXvV"
   },
   "outputs": [
    {
     "name": "stdout",
     "output_type": "stream",
     "text": [
      "Epoch 1/10\n",
      "1600/1600 [==============================] - 224s 139ms/step - loss: 1.9929 - auc: 0.7977 - precision: 0.5916 - recall: 0.1244 - Accuracy: 0.3989 - val_loss: 1.2884 - val_auc: 0.8743 - val_precision: 0.6382 - val_recall: 0.3405 - val_Accuracy: 0.4975\n",
      "Epoch 2/10\n",
      "1600/1600 [==============================] - 227s 142ms/step - loss: 1.2051 - auc: 0.8948 - precision: 0.7263 - recall: 0.4406 - Accuracy: 0.6068 - val_loss: 1.1500 - val_auc: 0.9077 - val_precision: 0.7409 - val_recall: 0.5405 - val_Accuracy: 0.6590\n",
      "Epoch 3/10\n",
      "1600/1600 [==============================] - 230s 144ms/step - loss: 1.1000 - auc: 0.9184 - precision: 0.7483 - recall: 0.5692 - Accuracy: 0.6759 - val_loss: 1.1254 - val_auc: 0.9157 - val_precision: 0.7543 - val_recall: 0.5755 - val_Accuracy: 0.6890\n",
      "Epoch 4/10\n",
      "1600/1600 [==============================] - 233s 146ms/step - loss: 1.0386 - auc: 0.9310 - precision: 0.7669 - recall: 0.6279 - Accuracy: 0.7107 - val_loss: 1.1060 - val_auc: 0.9180 - val_precision: 0.7447 - val_recall: 0.6360 - val_Accuracy: 0.7010\n",
      "Epoch 5/10\n",
      "1600/1600 [==============================] - 232s 145ms/step - loss: 0.9987 - auc: 0.9389 - precision: 0.7847 - recall: 0.6641 - Accuracy: 0.7320 - val_loss: 1.1022 - val_auc: 0.9264 - val_precision: 0.7501 - val_recall: 0.6710 - val_Accuracy: 0.7100\n",
      "Epoch 6/10\n",
      "1600/1600 [==============================] - 688s 430ms/step - loss: 0.9800 - auc: 0.9434 - precision: 0.7940 - recall: 0.6833 - Accuracy: 0.7459 - val_loss: 1.1405 - val_auc: 0.9262 - val_precision: 0.7427 - val_recall: 0.6785 - val_Accuracy: 0.7075\n",
      "Epoch 7/10\n",
      "1600/1600 [==============================] - 229s 143ms/step - loss: 0.9530 - auc: 0.9476 - precision: 0.8036 - recall: 0.6993 - Accuracy: 0.7551 - val_loss: 1.1155 - val_auc: 0.9252 - val_precision: 0.7363 - val_recall: 0.6630 - val_Accuracy: 0.6980\n",
      "Epoch 8/10\n",
      "1600/1600 [==============================] - 212s 132ms/step - loss: 0.9269 - auc: 0.9517 - precision: 0.8122 - recall: 0.7209 - Accuracy: 0.7674 - val_loss: 1.1157 - val_auc: 0.9259 - val_precision: 0.7576 - val_recall: 0.6565 - val_Accuracy: 0.7050\n",
      "Epoch 9/10\n",
      "1600/1600 [==============================] - 216s 135ms/step - loss: 0.9191 - auc: 0.9531 - precision: 0.8136 - recall: 0.7249 - Accuracy: 0.7704 - val_loss: 1.1856 - val_auc: 0.9258 - val_precision: 0.7399 - val_recall: 0.6940 - val_Accuracy: 0.7160\n",
      "Epoch 10/10\n",
      "1600/1600 [==============================] - 229s 143ms/step - loss: 0.9092 - auc: 0.9543 - precision: 0.8149 - recall: 0.7315 - Accuracy: 0.7738 - val_loss: 1.1513 - val_auc: 0.9214 - val_precision: 0.7444 - val_recall: 0.6365 - val_Accuracy: 0.7025\n"
     ]
    }
   ],
   "source": [
    "# train and validate the model on the tfidf vectors of text which we have created initially for 10 epochs,\n",
    "# adjust batch size according to your computation power (suggestion use : 8)\n",
    "\n",
    "history_tfidf = model.fit(X_train_tfidf, encoded_train, epochs = 10, batch_size = 10, \n",
    "                    validation_data=(X_val_tfidf, encoded_val))"
   ]
  },
  {
   "cell_type": "code",
   "execution_count": 26,
   "metadata": {},
   "outputs": [
    {
     "name": "stdout",
     "output_type": "stream",
     "text": [
      "dict_keys(['loss', 'auc', 'precision', 'recall', 'Accuracy', 'val_loss', 'val_auc', 'val_precision', 'val_recall', 'val_Accuracy'])\n"
     ]
    }
   ],
   "source": [
    "print(history_tfidf.history.keys())"
   ]
  },
  {
   "cell_type": "code",
   "execution_count": 27,
   "metadata": {
    "id": "EsnEOHXRwXkv",
    "scrolled": false
   },
   "outputs": [
    {
     "data": {
      "image/png": "[encoded data removed]",
      "text/plain": [
       "<Figure size 640x480 with 1 Axes>"
      ]
     },
     "metadata": {},
     "output_type": "display_data"
    },
    {
     "data": {
      "image/png": "[encoded data removed]",
      "text/plain": [
       "<Figure size 640x480 with 1 Axes>"
      ]
     },
     "metadata": {},
     "output_type": "display_data"
    },
    {
     "data": {
      "image/png": "[encoded data removed]",
      "text/plain": [
       "<Figure size 640x480 with 1 Axes>"
      ]
     },
     "metadata": {},
     "output_type": "display_data"
    },
    {
     "data": {
      "image/png": "[encoded data removed]",
      "text/plain": [
       "<Figure size 640x480 with 1 Axes>"
      ]
     },
     "metadata": {},
     "output_type": "display_data"
    },
    {
     "data": {
      "image/png": "[encoded data removed]",
      "text/plain": [
       "<Figure size 640x480 with 1 Axes>"
      ]
     },
     "metadata": {},
     "output_type": "display_data"
    }
   ],
   "source": [
    "# plot train loss vs val loss, train auc vs val auc, train recall vs val recall, train precision vs val precision \n",
    "# and train accuracy vs val accuracy and comment your observations\n",
    "\n",
    "# summarize history for loss\n",
    "plt.plot(history_tfidf.history['loss'])\n",
    "plt.plot(history_tfidf.history['val_loss'])\n",
    "plt.title('Model Loss')\n",
    "plt.ylabel('Loss')\n",
    "plt.xlabel('Epoch')\n",
    "plt.legend(['train', 'val'], loc='upper right')\n",
    "plt.show()\n",
    "\n",
    "# summarize history for auc\n",
    "plt.plot(history_tfidf.history['auc'])\n",
    "plt.plot(history_tfidf.history['val_auc'])\n",
    "plt.title('Model Auc')\n",
    "plt.ylabel('Auc')\n",
    "plt.xlabel('Epoch')\n",
    "plt.legend(['train', 'val'], loc='lower right')\n",
    "plt.show()\n",
    "\n",
    "# summarize history for recall\n",
    "plt.plot(history_tfidf.history['recall'])\n",
    "plt.plot(history_tfidf.history['val_recall'])\n",
    "plt.title('Model Recall')\n",
    "plt.ylabel('Recall')\n",
    "plt.xlabel('Epoch')\n",
    "plt.legend(['train', 'val'], loc='lower right')\n",
    "plt.show()\n",
    "\n",
    "# summarize history for precision\n",
    "plt.plot(history_tfidf.history['precision'])\n",
    "plt.plot(history_tfidf.history['val_precision'])\n",
    "plt.title('Model Precision')\n",
    "plt.ylabel('Precision')\n",
    "plt.xlabel('Epoch')\n",
    "plt.legend(['train', 'val'], loc='lower right')\n",
    "plt.show()\n",
    "\n",
    "# summarize history for accuracy\n",
    "plt.plot(history_tfidf.history['Accuracy'])\n",
    "plt.plot(history_tfidf.history['val_Accuracy'])\n",
    "plt.title('Model Accuracy')\n",
    "plt.ylabel('Accuracy')\n",
    "plt.xlabel('Epoch')\n",
    "plt.legend(['train', 'val'], loc='lower right')\n",
    "plt.show()"
   ]
  },
  {
   "cell_type": "markdown",
   "metadata": {},
   "source": [
    "### comment on plot observations\n",
    "Loss is showing a dimenshing effect over the increasing epochs cycles, whereas, precision and recall are increasing over time, and therefore, AUC is also showing an increasing effect. Thus, for model to have a higher prediction chance we need to have a higher accuracy which is what our model shows over time. This model tends to have slightly higher AUC than the count vectorizer which contributes to better performance for the model. "
   ]
  },
  {
   "cell_type": "markdown",
   "metadata": {
    "id": "4adDDQWeQyGb"
   },
   "source": [
    "## Question 4 Theory Question  \n",
    "\n",
    "What is the difference between Count Vectorizer, TFIDF, Word2Vec and Glove? (5 points)"
   ]
  },
  {
   "cell_type": "markdown",
   "metadata": {
    "id": "cXTRkF6KRB_D"
   },
   "source": [
    "**Answer:**\n",
    "\n",
    "**CountVectorizer:** is a text feature extraction method that transforms the given text into a vector on the basis of the frequency of each word that occurs in the entire text. It creates a matrix in which unique word is represented by a column of the matrix, and each text sample from the document is a row in the matrix. The value in each cell denotes the frequency of the given word in the given text sample. \n",
    "\n",
    "**TFIDF:** stands for Term Frequency-Inverse Document Frequency, is a numerical statistic that is intended to reflect how important a word is to a document in a collection or corpus. TFIDF value increases proportionally to the number of times a word appears in a document but is offset by the frequency of the word in the corpus. Term Frequency (TF) represents how frequently a term t, appears in a document, d i.e. TF(t,d) = Number of times t appears in the document d / Total numbers of terms in the document d. And Inverse Document-Frequency(IDF) represents how important a term is. When computing TF-IDF, terms that are very frequent across many documents have a lower IDF. In other words, if a term is common and appears in many documents, its IDF value drops, i.e. IDF(t,d) = log(Total number of documents in the corpus D / Number of documents with term t). Hence, overall score tdidf(t,d,D) = TF * IDF. Thus, this technique helps in capturing the importance of words in context. \n",
    "\n",
    "**Word2Vec:** is an algorithm that uses neural network model to learn word associations from a large corpus of text. Once trained, such models can detect semantic relationships between words. It represents words as dense, continuous-valued vectors in a high-dimensional space. The main goal of Word2Vec revolves around predicting the context words based on a center word or vice-versa in a fixed size window. \n",
    "\n",
    "**Glove:** stands for Global Vectors for Word Representation, is an alternate method to create word embeddings. It is an unsupervised learning algorithm for obtaining vector representations of words. Training is performed on aggregated global word-word co-occurrences statistics from a corpus, and the resulting representations showcase interesting linear substructures of the word vector space. It aims to learn word vectors such that the dot product of the vector approximates the logarithmic of the words co-occurences proabilities. \n",
    "\n",
    "In a nutshell, all these are techniques to capture text representation and feature extraction, however, each one of them have different approaches to capture the information given in a corpus. "
   ]
  },
  {
   "cell_type": "markdown",
   "metadata": {
    "id": "yQQsqcto79zE"
   },
   "source": [
    "What is the significant difference between the Naive Bayes Implementation using Bag of Words and TF-IDF? (5 points)"
   ]
  },
  {
   "cell_type": "markdown",
   "metadata": {
    "id": "JtiPCTZM8Aua"
   },
   "source": [
    "**Answer:**"
   ]
  },
  {
   "cell_type": "markdown",
   "metadata": {
    "id": "OaXBo1Bw8C1K"
   },
   "source": [
    "The significant difference between the Naive Bayes implementation using Bag of Words and TF-IDF lies in how they represent and weigh words in the corpus. Bag of words just creates a set of vectors containing the frequency of word occurrences in the document, while the TF-IDF model contains information on word frequency and word importance in the context of the entire corpus. "
   ]
  }
 ],
 "metadata": {
  "colab": {
   "provenance": []
  },
  "kernelspec": {
   "display_name": "Python 3 (ipykernel)",
   "language": "python",
   "name": "python3"
  },
  "language_info": {
   "codemirror_mode": {
    "name": "ipython",
    "version": 3
   },
   "file_extension": ".py",
   "mimetype": "text/x-python",
   "name": "python",
   "nbconvert_exporter": "python",
   "pygments_lexer": "ipython3",
   "version": "3.11.4"
  }
 },
 "nbformat": 4,
 "nbformat_minor": 1
}
